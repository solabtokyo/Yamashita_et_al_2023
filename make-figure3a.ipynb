{
 "cells": [
  {
   "cell_type": "markdown",
   "id": "77d54eec-98de-4a3c-9208-9a5de995914f",
   "metadata": {},
   "source": [
    "# Make sequential images for Figure 3a  \n",
    "Data: original time-series 2D images of blue and green channels"
   ]
  },
  {
   "cell_type": "markdown",
   "id": "9096714d-c943-4d0d-9d31-64bd4602f4bd",
   "metadata": {},
   "source": [
    "## Libraries"
   ]
  },
  {
   "cell_type": "code",
   "execution_count": null,
   "id": "32f67abe-60d2-4720-8b0b-e18712a351d1",
   "metadata": {},
   "outputs": [],
   "source": [
    "import numpy as np\n",
    "from astropy.io import fits\n",
    "import matplotlib.pyplot as plt\n",
    "from mpl_toolkits.axes_grid1.anchored_artists import AnchoredSizeBar\n",
    "import matplotlib.font_manager as fm"
   ]
  },
  {
   "cell_type": "markdown",
   "id": "7b65bf1d-c898-490d-bd24-25fb3b6d1e14",
   "metadata": {},
   "source": [
    "## Functions"
   ]
  },
  {
   "cell_type": "code",
   "execution_count": null,
   "id": "55218758-5b23-4ca4-809f-a335696a2c85",
   "metadata": {},
   "outputs": [],
   "source": [
    "def set_scalebar(ax, size, x_scale, vsize=2, borderpad=1, loc='lower right'):\n",
    "    '''\n",
    "    Set a scalebar in a image\n",
    "    \n",
    "    size: size in μm\n",
    "    vsize: height of scale bar\n",
    "    borderpad: distance of scale bar to edge of image\n",
    "    loc: location of scale bar\n",
    "    '''\n",
    "    scalebar = AnchoredSizeBar(ax.transData, size=size/x_scale, label='',\n",
    "                               loc=loc, frameon=False, color='white', size_vertical=vsize, borderpad=borderpad, label_top=True,\n",
    "                               fontproperties=fm.FontProperties(size=12))\n",
    "    ax.add_artist(scalebar)"
   ]
  },
  {
   "cell_type": "markdown",
   "id": "b2ec2013-4d10-45af-a55f-81f2281233ba",
   "metadata": {},
   "source": [
    "## Directories"
   ]
  },
  {
   "cell_type": "code",
   "execution_count": null,
   "id": "8ce888e7-7905-4733-8d70-ba15a124e446",
   "metadata": {},
   "outputs": [],
   "source": [
    "path_data = '../data/3D/raw/'\n",
    "path_result = '../result/'"
   ]
  },
  {
   "cell_type": "markdown",
   "id": "9fc9129f-09e1-4734-aa59-3abbc1da4001",
   "metadata": {},
   "source": [
    "## Make sequential images"
   ]
  },
  {
   "cell_type": "code",
   "execution_count": null,
   "id": "e2b2aa3b-d82b-4265-8c04-79ff82254d4e",
   "metadata": {},
   "outputs": [],
   "source": [
    "file_405 = 'id551_MDCK_unit_acousticon_sheathon_01_200Hz_405_250mW_488_150mW_405.fits'\n",
    "file_488 = 'id551_MDCK_unit_acousticon_sheathon_01_200Hz_405_250mW_488_150mW_488.fits'"
   ]
  },
  {
   "cell_type": "code",
   "execution_count": null,
   "id": "3600d6c4-ab13-40c2-8d17-5f309df48d8e",
   "metadata": {},
   "outputs": [],
   "source": [
    "img_405 = fits.getdata(path_data+file_405)\n",
    "img_488 = fits.getdata(path_data+file_488)"
   ]
  },
  {
   "cell_type": "code",
   "execution_count": null,
   "id": "de16dc40-f360-43e0-99b0-a33d92b2e9fe",
   "metadata": {},
   "outputs": [],
   "source": [
    "fig, axes = plt.subplots(5, 1, figsize=(10, 6))\n",
    "fig.subplots_adjust(hspace=-0.1)\n",
    "axes = axes.ravel()\n",
    "\n",
    "for i, ax in enumerate(axes):\n",
    "    ax.imshow(np.flip(img_405[155+i*3, ...], axis=1), cmap='gray', vmin=100, vmax=1200)\n",
    "    ax.axis('off')\n",
    "\n",
    "    set_scalebar(ax, size=50, x_scale=0.295, vsize=10, borderpad=0.5, loc='lower left')\n",
    "\n",
    "plt.tight_layout()\n",
    "plt.savefig(path_result+'/id551_sequential_405.pdf', pad_inches=0.05)"
   ]
  },
  {
   "cell_type": "code",
   "execution_count": null,
   "id": "4932baa9-0e82-45f8-a96d-0c1c325f6e73",
   "metadata": {},
   "outputs": [],
   "source": [
    "fig, axes = plt.subplots(5, 1, figsize=(10, 6))\n",
    "fig.subplots_adjust(hspace=-0.1)\n",
    "axes = axes.ravel()\n",
    "\n",
    "for i, ax in enumerate(axes):\n",
    "    ax.imshow(np.flip(img_488[155+i*3, ...], axis=1), cmap='gray', vmin=100, vmax=2000)\n",
    "    ax.axis('off')\n",
    "\n",
    "    set_scalebar(ax, size=50, x_scale=0.295, vsize=10, borderpad=0.5, loc='lower left')\n",
    "\n",
    "plt.tight_layout()\n",
    "plt.savefig(path_result+'/id551_sequential_488.pdf', pad_inches=0.05)"
   ]
  }
 ],
 "metadata": {
  "kernelspec": {
   "display_name": "Python 3 (ipykernel)",
   "language": "python",
   "name": "python3"
  },
  "language_info": {
   "codemirror_mode": {
    "name": "ipython",
    "version": 3
   },
   "file_extension": ".py",
   "mimetype": "text/x-python",
   "name": "python",
   "nbconvert_exporter": "python",
   "pygments_lexer": "ipython3",
   "version": "3.8.16"
  }
 },
 "nbformat": 4,
 "nbformat_minor": 5
}
