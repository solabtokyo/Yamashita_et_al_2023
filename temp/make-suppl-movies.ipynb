{
 "cells": [
  {
   "cell_type": "markdown",
   "id": "cc648987-34b3-4a01-b061-6c9338c87da5",
   "metadata": {},
   "source": [
    "# Create movies "
   ]
  },
  {
   "cell_type": "markdown",
   "id": "eb8f241f-feec-4498-be51-6fdbd604b79f",
   "metadata": {},
   "source": [
    "## Libraries"
   ]
  },
  {
   "cell_type": "code",
   "execution_count": null,
   "id": "4d68751d-9ade-4fac-8d31-77f30b03adb2",
   "metadata": {},
   "outputs": [],
   "source": [
    "import glob\n",
    "import os\n",
    "import re\n",
    "\n",
    "import numpy as np\n",
    "\n",
    "import cv2\n",
    "from skimage.io import imread, imshow\n",
    "from skimage.filters import median\n",
    "\n",
    "import matplotlib.pyplot as plt"
   ]
  },
  {
   "cell_type": "markdown",
   "id": "6b6d7703-e301-4b63-9973-821cf6cc7e10",
   "metadata": {
    "tags": []
   },
   "source": [
    "## Functions"
   ]
  },
  {
   "cell_type": "code",
   "execution_count": null,
   "id": "18123344-f9a2-4c2a-a8a6-cc8efaedae65",
   "metadata": {},
   "outputs": [],
   "source": [
    "def make_dataset(acoustic, hydro, measurement, start_frame=0, end_frame=360):\n",
    "    '''\n",
    "    Make a list of data to analyze\n",
    "\n",
    "    acousitc: whether acoustic focsuing is on or off\n",
    "    hydro: whether hydrodynamic focusing is on or off\n",
    "    measurement: id of the measurement to analyze\n",
    "    start_frame: first frame of the data to analyze\n",
    "    end_frame: last frame of the data to analyze\n",
    "    '''\n",
    "    imgs = [os.path.abspath(p) for p in glob.glob(f'../../data/2D/id553_acoustic-{acoustic}_flow-{hydro}_{measurement}*_*.tif')]\n",
    "    imgs = sorted(imgs, key = lambda x : re.search(r'_00[0-9][0-9][0-9].', x).group())\n",
    "    imgs = imgs[start_frame:end_frame]\n",
    "    \n",
    "    return imgs\n",
    "\n",
    "def create_movie(files, fps, size, file_name=None):\n",
    "    '''\n",
    "    Create movies\n",
    "\n",
    "    files: dataset\n",
    "    fps: frame per second\n",
    "    size: image size\n",
    "    file_name: file name of created movie\n",
    "    '''\n",
    "    if file_name==None:\n",
    "        file_name = os.path.splitext(os.path.basename(files[0]))[0].rsplit(sep=' ', maxsplit=1)[0]\n",
    "        file_name = file_name.rsplit(sep='_', maxsplit=1)[0]\n",
    "    \n",
    "    fourcc = cv2.VideoWriter_fourcc(*'mp4v')\n",
    "    video_writer = cv2.VideoWriter(f'../../result/{file_name}_movie_9sec.mp4', fourcc, fps, size, isColor=False)\n",
    "    \n",
    "    for i, frame in enumerate(files):\n",
    "        print(f'Frame: {i+1}')\n",
    "        img = np.fliplr(imread(frame))\n",
    "        img= cv2.resize(img, dsize=None, fx=0.25, fy=0.25)\n",
    "        video_writer.write(img)\n",
    "        \n",
    "    video_writer.release()"
   ]
  },
  {
   "cell_type": "markdown",
   "id": "d40d6cd2-00e9-46b3-b595-2b5c8d7ee6e4",
   "metadata": {},
   "source": [
    "## Parameters"
   ]
  },
  {
   "cell_type": "code",
   "execution_count": null,
   "id": "14366fce-b55b-471b-8f63-c3a2b1ba5d72",
   "metadata": {},
   "outputs": [],
   "source": [
    "height, width = 1600, 4656\n",
    "size = int(width/4), int(height/4)"
   ]
  },
  {
   "cell_type": "markdown",
   "id": "cf742f8a-7ab5-4661-8fd2-6b4ca35e047a",
   "metadata": {},
   "source": [
    "### Create movies"
   ]
  },
  {
   "cell_type": "code",
   "execution_count": null,
   "id": "42f1dbe0-0866-4c23-ac96-2e21495683af",
   "metadata": {
    "scrolled": true
   },
   "outputs": [],
   "source": [
    "# ON & ON\n",
    "files = make_dataset(acoustic='on', hydro='on', measurement=1)\n",
    "create_movie(files, fps=40, size=size)\n",
    "\n",
    "# ON & OFF\n",
    "files = make_dataset(acoustic='on', hydro='off', measurement=1)\n",
    "create_movie(files, fps=40, size=size)\n",
    "\n",
    "# OFF & ON\n",
    "files = make_dataset(acoustic='off', hydro='on', measurement=1)\n",
    "create_movie(files, fps=40, size=size)\n",
    "\n",
    "# OFF & OFF\n",
    "files = make_dataset(acoustic='off', hydro='off', measurement=1)\n",
    "create_movie(files, fps=40, size=size)"
   ]
  }
 ],
 "metadata": {
  "kernelspec": {
   "display_name": "Python 3 (ipykernel)",
   "language": "python",
   "name": "python3"
  },
  "language_info": {
   "codemirror_mode": {
    "name": "ipython",
    "version": 3
   },
   "file_extension": ".py",
   "mimetype": "text/x-python",
   "name": "python",
   "nbconvert_exporter": "python",
   "pygments_lexer": "ipython3",
   "version": "3.8.16"
  }
 },
 "nbformat": 4,
 "nbformat_minor": 5
}
