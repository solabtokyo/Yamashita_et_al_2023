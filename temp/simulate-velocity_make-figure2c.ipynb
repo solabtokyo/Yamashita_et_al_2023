{
 "cells": [
  {
   "cell_type": "markdown",
   "id": "5ab7ea70-36a2-4879-a61b-b24d92a60659",
   "metadata": {},
   "source": [
    "# Simulate velocity distribution and make Figure 2c"
   ]
  },
  {
   "cell_type": "markdown",
   "id": "e16bc9e6-c93a-486b-896c-19bcf456c51a",
   "metadata": {},
   "source": [
    "## Libraries"
   ]
  },
  {
   "cell_type": "code",
   "execution_count": null,
   "id": "c6965581-2119-4a4f-a8b9-75d76f701ac5",
   "metadata": {},
   "outputs": [],
   "source": [
    "import numpy as np\n",
    "import sympy as sym\n",
    "\n",
    "import matplotlib.pyplot as plt\n",
    "import seaborn as sns"
   ]
  },
  {
   "cell_type": "markdown",
   "id": "ecf16fae-31a8-4071-aea2-ed90773e1479",
   "metadata": {},
   "source": [
    "## Functions"
   ]
  },
  {
   "cell_type": "code",
   "execution_count": null,
   "id": "fe3c9d97-8b51-4759-8078-fce54d344d01",
   "metadata": {},
   "outputs": [],
   "source": [
    "def velocity(Q, d, w, x, z):\n",
    "    '''\n",
    "    Calculate velocity in a recutangular channel assuming the Hagen–Poiseuille flow\n",
    "    \n",
    "    Q: volumetric flow rate\n",
    "    d: height of the channel\n",
    "    w: width of the channel\n",
    "    x: x-coordinate (along the width direction)\n",
    "    z: z-coordinate (along the height direction)\n",
    "    '''\n",
    "    \n",
    "    f_1 = (48 * Q) / (pi**3 * d * w)\n",
    "    f_2 = sym.summation((1 / (2*n-1)**3) * (1-(sym.cosh((2*n-1) * pi * (x/d)) / sym.cosh((2*n-1) * pi * (w/(2*d))))) * sym.sin((2*n-1) * pi * (z/d)), (n, 1, 100))\n",
    "    f_3 = 1 - sym.summation((1/(2*n-1)**5) * (192/pi**5) * (d/w) * sym.tanh((2*n-1) * pi * (w/(2*d))), (n, 1, 100))\n",
    "\n",
    "    v = f_1 * (f_2 / f_3)\n",
    "    \n",
    "    return v"
   ]
  },
  {
   "cell_type": "markdown",
   "id": "8838027e-b0b2-4aed-8e14-9edcc1b39738",
   "metadata": {},
   "source": [
    "## Parameters"
   ]
  },
  {
   "cell_type": "code",
   "execution_count": null,
   "id": "c0a5d218-31a5-489b-b6c8-cd371628f92a",
   "metadata": {},
   "outputs": [],
   "source": [
    "oo = sym.oo\n",
    "n = sym.symbols('n')\n",
    "pi = np.pi\n",
    "\n",
    "width = 1000\n",
    "height = 100\n",
    "\n",
    "flow_rate = 3.0/60"
   ]
  },
  {
   "cell_type": "markdown",
   "id": "7f199101-cc1e-4bc2-a458-4b62e3dec558",
   "metadata": {},
   "source": [
    "## Simulate and make figure"
   ]
  },
  {
   "cell_type": "code",
   "execution_count": null,
   "id": "15e551c0-ebd9-4e1c-8fee-731004c59409",
   "metadata": {
    "tags": []
   },
   "outputs": [],
   "source": [
    "res_2d = []\n",
    "\n",
    "w_list = np.linspace(-500, 500, 10) # make an array of 10 x-coordinates\n",
    "h_list = np.linspace(0, 100, 10) # make an array of 10 z-coordinates\n",
    "\n",
    "\n",
    "for z in h_list:\n",
    "    res_2d.append([velocity(flow_rate, height, width, x, z)*10**3 for x in w_list])\n",
    "    \n",
    "res_2d = np.array(res_2d, dtype='float')"
   ]
  },
  {
   "cell_type": "code",
   "execution_count": null,
   "id": "14a84141-3fa5-4b04-807f-8e369c1dc6dc",
   "metadata": {},
   "outputs": [],
   "source": [
    "res_2d_max = np.max(res_2d)"
   ]
  },
  {
   "cell_type": "code",
   "execution_count": null,
   "id": "0c60498b-7680-4d5d-880f-c000ecb1515d",
   "metadata": {},
   "outputs": [],
   "source": [
    "XX, YY = np.meshgrid(w_list+500, h_list)\n",
    "\n",
    "fig, ax = plt.subplots(figsize=(1.5, 10))\n",
    "\n",
    "cax = ax.inset_axes([1.2, 0, 0.2, 0.3])\n",
    "\n",
    "cp = ax.contourf(YY, XX, res_2d/res_2d_max, cmap='jet', levels=np.linspace(0, 1.0, 1000))\n",
    "cbar = fig.colorbar(cp, ax=ax, cax=cax, ticks=np.arange(0, 1.1, 0.2))\n",
    "\n",
    "ax.set_xlabel(r'Width [$\\mu$$m$]', size=14)\n",
    "ax.set_ylabel(r'Height [$\\mu$$m$]', size=14)\n",
    "cbar.set_label(r'Velocity [A.U.]', size=14)\n",
    "plt.savefig('../../result/velocity_profile_2d.pdf', bbox_inches='tight', pad_inches=0.05)"
   ]
  }
 ],
 "metadata": {
  "kernelspec": {
   "display_name": "Python 3 (ipykernel)",
   "language": "python",
   "name": "python3"
  },
  "language_info": {
   "codemirror_mode": {
    "name": "ipython",
    "version": 3
   },
   "file_extension": ".py",
   "mimetype": "text/x-python",
   "name": "python",
   "nbconvert_exporter": "python",
   "pygments_lexer": "ipython3",
   "version": "3.8.16"
  }
 },
 "nbformat": 4,
 "nbformat_minor": 5
}
