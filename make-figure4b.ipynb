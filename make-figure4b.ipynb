{
 "cells": [
  {
   "cell_type": "markdown",
   "id": "e619c347-3f7a-42ae-82b4-c74e31f5f623",
   "metadata": {},
   "source": [
    "# Make figures to compare morphological properties of nuclei between spheroids and suspended MDCK for Figure 4b\n",
    "Data: calculated nuclear properties of spheroids and suspended MDCK"
   ]
  },
  {
   "cell_type": "markdown",
   "id": "450b6a5f-00e4-4c24-840f-99acf8232594",
   "metadata": {},
   "source": [
    "## Libraries"
   ]
  },
  {
   "cell_type": "code",
   "execution_count": null,
   "id": "a49ea30a-90d2-4b17-b795-ccb946467c12",
   "metadata": {},
   "outputs": [],
   "source": [
    "import numpy as np\n",
    "import pandas as pd\n",
    "\n",
    "import matplotlib.pyplot as plt\n",
    "import seaborn as sns\n",
    "\n",
    "plt.rcParams[\"font.family\"] = 'Helvetica'\n",
    "plt.rcParams[\"font.size\"] = 8"
   ]
  },
  {
   "cell_type": "markdown",
   "id": "14399e3b-6eef-4545-80fb-6162677b0e71",
   "metadata": {},
   "source": [
    "## Input data"
   ]
  },
  {
   "cell_type": "code",
   "execution_count": null,
   "id": "862d24c0-7504-4312-880f-7fbecc6d2232",
   "metadata": {},
   "outputs": [],
   "source": [
    "path = '../result/'"
   ]
  },
  {
   "cell_type": "code",
   "execution_count": null,
   "id": "fb984998-d206-45c7-84d8-7a64ce773a59",
   "metadata": {},
   "outputs": [],
   "source": [
    "# spheroids\n",
    "adhering_1 = pd.read_csv(path+'id551_MDCK_unit_on_on_01_300Hz_405_250mW_488_150mW_405'+'_props.csv', index_col=0)\n",
    "adhering_2 = pd.read_csv(path+'id551_MDCK_unit_on_on_02_300Hz_405_250mW_488_150mW_405'+'_props.csv', index_col=0)\n",
    "adhering_3 = pd.read_csv(path+'id551_MDCK_unit_on_on_03_300Hz_405_250mW_488_150mW_405'+'_props.csv', index_col=0)\n",
    "adhering = pd.concat([adhering_1, adhering_2, adhering_3])\n",
    "\n",
    "# suspended\n",
    "suspended = pd.read_csv(path+'id551_MDCK_cellonly_01_300Hz_405_250mW_488_150mW_405'+'_props.csv', index_col=0)"
   ]
  },
  {
   "cell_type": "code",
   "execution_count": null,
   "id": "c2dfa49b-606a-4d65-9c5f-4f8e1339a830",
   "metadata": {},
   "outputs": [],
   "source": [
    "adhering"
   ]
  },
  {
   "cell_type": "code",
   "execution_count": null,
   "id": "ec6c795b-7151-4039-8d90-dcab2ecd8a41",
   "metadata": {},
   "outputs": [],
   "source": [
    "suspended"
   ]
  },
  {
   "cell_type": "code",
   "execution_count": null,
   "id": "fd6fe130-ea16-486e-9d6f-3eeb780d541d",
   "metadata": {},
   "outputs": [],
   "source": [
    "res = pd.concat([suspended, adhering])"
   ]
  },
  {
   "cell_type": "code",
   "execution_count": null,
   "id": "cc3fd718-23c2-461d-8229-bac9492008c5",
   "metadata": {},
   "outputs": [],
   "source": [
    "res['Condition'] = np.concatenate([np.repeat('Suspended', len(suspended)), np.repeat('Adhering', len(adhering))])"
   ]
  },
  {
   "cell_type": "code",
   "execution_count": null,
   "id": "511d9b6b-fc08-428a-964a-3d6abf56aa70",
   "metadata": {},
   "outputs": [],
   "source": [
    "# filter out too large objects\n",
    "res_filtered = res[res['Volume']<4000]"
   ]
  },
  {
   "cell_type": "code",
   "execution_count": null,
   "id": "0db25c58-72cf-49c6-a4c7-71c20b341580",
   "metadata": {},
   "outputs": [],
   "source": [
    "print(len(res_filtered[res_filtered['Condition']=='Suspended']))\n",
    "print(len(res_filtered[res_filtered['Condition']=='Adhering']))"
   ]
  },
  {
   "cell_type": "code",
   "execution_count": null,
   "id": "390a54c8-08ef-44b7-a456-d4faa52ae925",
   "metadata": {},
   "outputs": [],
   "source": [
    "ig, axes = plt.subplots(2, 3, figsize=(8, 5))\n",
    "axes = axes.flatten()\n",
    "\n",
    "columns = ['Volume', 'Surface area', 'Surface-area-to-Volume', 'Aspect ratio', 'Solidity']\n",
    "\n",
    "for i, ax in enumerate(axes):\n",
    "    if i == 5:\n",
    "        axes[i].set_axis_off()\n",
    "    else:\n",
    "        sns.violinplot(data=res_filtered, x='Condition', y=columns[i], linewidth=1, ax=ax)\n",
    "        axes[i].set_xlabel('')\n",
    "\n",
    "plt.subplots_adjust(wspace=0.5, hspace=0.3)\n",
    "plt.savefig('../result/result_nucleus.pdf', bbox_inches='tight', pad_inches=0.05)"
   ]
  }
 ],
 "metadata": {
  "kernelspec": {
   "display_name": "Python 3 (ipykernel)",
   "language": "python",
   "name": "python3"
  },
  "language_info": {
   "codemirror_mode": {
    "name": "ipython",
    "version": 3
   },
   "file_extension": ".py",
   "mimetype": "text/x-python",
   "name": "python",
   "nbconvert_exporter": "python",
   "pygments_lexer": "ipython3",
   "version": "3.8.16"
  }
 },
 "nbformat": 4,
 "nbformat_minor": 5
}
