{
 "cells": [
  {
   "cell_type": "markdown",
   "id": "e619c347-3f7a-42ae-82b4-c74e31f5f623",
   "metadata": {},
   "source": [
    "# Segment spheroids for Fgure 4b\n",
    "Data: reconstructed 3D green channel images of MDCK spheroids"
   ]
  },
  {
   "cell_type": "markdown",
   "id": "a34828bb-217d-4cd4-8833-00d85ab30927",
   "metadata": {},
   "source": [
    "## Libraries"
   ]
  },
  {
   "cell_type": "code",
   "execution_count": 1,
   "id": "a49ea30a-90d2-4b17-b795-ccb946467c12",
   "metadata": {},
   "outputs": [],
   "source": [
    "import numpy as np\n",
    "import pandas as pd\n",
    "\n",
    "import matplotlib.pyplot as plt\n",
    "import seaborn as sns\n",
    "\n",
    "from skimage.measure import regionprops_table, marching_cubes, mesh_surface_area\n",
    "from skimage.color import label2rgb\n",
    "from skimage.morphology import remove_small_objects\n",
    "from skimage.segmentation import clear_border\n",
    "\n",
    "import pyclesperanto_prototype as cle"
   ]
  },
  {
   "cell_type": "markdown",
   "id": "36d8c01e-3ab9-4a90-9183-7f25f7c2b7ce",
   "metadata": {},
   "source": [
    "## Functions"
   ]
  },
  {
   "cell_type": "code",
   "execution_count": 3,
   "id": "002052ac-5e84-4a6d-9e62-a3978b4aaee0",
   "metadata": {},
   "outputs": [],
   "source": [
    "def segment(data, suffix, sigma_spot_detection = 8, sigma_outline = 2):\n",
    "    '''\n",
    "    Segment spheroids\n",
    "\n",
    "    data: name of the input data\n",
    "    suffix: suffix of the input data\n",
    "    sigma_spot_detectio: sigma of Gaussian filter for detecting spheroids\n",
    "    sigma_outline: sigmae of Gaussian fileter for detecting edges of spheroids    \n",
    "    '''\n",
    "    res = []\n",
    "    for s in suffix:\n",
    "        print(s)\n",
    "        img = np.load(f'../result/{data}{s}.npy')\n",
    "        img = img[25:75, 10:630, 45:img.shape[2]-50]\n",
    "        img_gpu = cle.push(img)\n",
    "        segmented = cle.voronoi_otsu_labeling(img_gpu, spot_sigma=sigma_spot_detection, outline_sigma=sigma_outline)\n",
    "        res.append(cle.pull(segmented))\n",
    "\n",
    "    return res"
   ]
  },
  {
   "cell_type": "code",
   "execution_count": 5,
   "id": "9fdca66d-3860-436a-a00e-5c229615bf42",
   "metadata": {},
   "outputs": [],
   "source": [
    "def calculate_props(segmented, suffix, scale=(None, None, None)):\n",
    "    '''\n",
    "    Calculate morphological properties of spheroids\n",
    "\n",
    "    segmented: label images after segmentation\n",
    "    suffix: suffix of the input data    \n",
    "    scale: pixel resolution in um scale\n",
    "    '''\n",
    "    res = []\n",
    "    surface = []\n",
    "    \n",
    "    for i, s_data in enumerate(segmented):\n",
    "        print(suffix[i])\n",
    "        s_data = clear_border(s_data) # remove objects on the edge\n",
    "        s_data = remove_small_objects(s_data, min_size=100) # remove small objects\n",
    "\n",
    "        # calculate properties\n",
    "        props = pd.DataFrame(regionprops_table(label_image=s_data, intensity_image=intensity_img,\n",
    "                                               properties=('label', 'area', 'solidity', 'bbox'), spacing=scale))\n",
    "        props = props.rename(columns={'label':'Label', 'area': 'Volume', 'solidity': 'Solidity'})\n",
    "        res.append(props)\n",
    "        \n",
    "    return res"
   ]
  },
  {
   "cell_type": "code",
   "execution_count": 1,
   "id": "76f1d11c-6d89-4a02-8eac-1e805e3bbc2d",
   "metadata": {},
   "outputs": [],
   "source": [
    "def filter(segmented, props, data, suffix, volume_thresh=20000, solidity_thresh=0.8):\n",
    "    '''\n",
    "    Filter out spheroids without beads\n",
    "\n",
    "    segmented: label images after segmentation\n",
    "    props: calculated properties\n",
    "    data: name of the input data\n",
    "    suffix: suffix of the input data  \n",
    "    volume_thresh: threshold value of volume\n",
    "    splidity_thresh: threshold value of solidity\n",
    "    '''\n",
    "    for i, segment in enumerate(segmented):\n",
    "        props_filtered = props[i][(props[i]['Volume']>volume_thresh)&(props[i]['Solidity']>solidity_thresh)]\n",
    "        retained_label = props_filtered['Label'].values\n",
    "        label_img = np.where(np.isin(segment, retained_label), segment, 0)\n",
    "        np.save(f'../result/{data}{suffix[i]}_segmented_spheroids.npy', label_img)"
   ]
  },
  {
   "cell_type": "markdown",
   "id": "e937851a-6273-49aa-9c24-0103e3cf7cd9",
   "metadata": {},
   "source": [
    "## Parameters"
   ]
  },
  {
   "cell_type": "code",
   "execution_count": 3,
   "id": "85aca99f-d82c-42f1-b8b6-75aa3a15b017",
   "metadata": {},
   "outputs": [
    {
     "ename": "NameError",
     "evalue": "name 'np' is not defined",
     "output_type": "error",
     "traceback": [
      "\u001b[0;31m---------------------------------------------------------------------------\u001b[0m",
      "\u001b[0;31mNameError\u001b[0m                                 Traceback (most recent call last)",
      "Cell \u001b[0;32mIn[3], line 2\u001b[0m\n\u001b[1;32m      1\u001b[0m suffix \u001b[38;5;241m=\u001b[39m [\u001b[38;5;124m'\u001b[39m\u001b[38;5;124m'\u001b[39m, \u001b[38;5;124m'\u001b[39m\u001b[38;5;124m_X1\u001b[39m\u001b[38;5;124m'\u001b[39m, \u001b[38;5;124m'\u001b[39m\u001b[38;5;124m_X2\u001b[39m\u001b[38;5;124m'\u001b[39m, \u001b[38;5;124m'\u001b[39m\u001b[38;5;124m_X3\u001b[39m\u001b[38;5;124m'\u001b[39m, \u001b[38;5;124m'\u001b[39m\u001b[38;5;124m_X4\u001b[39m\u001b[38;5;124m'\u001b[39m, \u001b[38;5;124m'\u001b[39m\u001b[38;5;124m_X5\u001b[39m\u001b[38;5;124m'\u001b[39m, \u001b[38;5;124m'\u001b[39m\u001b[38;5;124m_X6\u001b[39m\u001b[38;5;124m'\u001b[39m]\n\u001b[0;32m----> 2\u001b[0m scale \u001b[38;5;241m=\u001b[39m \u001b[43mnp\u001b[49m\u001b[38;5;241m.\u001b[39mrepeat(\u001b[38;5;241m0.295\u001b[39m\u001b[38;5;241m*\u001b[39m\u001b[38;5;241m4\u001b[39m, \u001b[38;5;241m3\u001b[39m)\n",
      "\u001b[0;31mNameError\u001b[0m: name 'np' is not defined"
     ]
    }
   ],
   "source": [
    "suffix = ['', '_X1', '_X2', '_X3', '_X4', '_X5', '_X6']\n",
    "scale = np.repeat(0.295*4, 3)"
   ]
  },
  {
   "cell_type": "markdown",
   "id": "ea551c29-50b3-4253-9165-1dbd043e49d1",
   "metadata": {},
   "source": [
    "## Analysis"
   ]
  },
  {
   "cell_type": "markdown",
   "id": "7fc3d2ad-fe47-4614-8f5c-830ab516cd55",
   "metadata": {},
   "source": [
    "### Measurement: 1"
   ]
  },
  {
   "cell_type": "code",
   "execution_count": 7,
   "id": "70c4e0a0-d4a1-4ded-bc20-07d718fa71a3",
   "metadata": {},
   "outputs": [],
   "source": [
    "data = 'id551_MDCK_unit_on_on_01_300Hz_405_250mW_488_150mW_488'"
   ]
  },
  {
   "cell_type": "code",
   "execution_count": 8,
   "id": "25788140-b4b1-47b8-bec6-a13aa6be637b",
   "metadata": {},
   "outputs": [
    {
     "name": "stdout",
     "output_type": "stream",
     "text": [
      "\n",
      "size: 50\n",
      "_X1\n",
      "size: 50\n",
      "_X2\n",
      "size: 50\n",
      "_X3\n",
      "size: 50\n",
      "_X4\n",
      "size: 50\n",
      "_X5\n",
      "size: 50\n",
      "_X6\n",
      "size: 50\n"
     ]
    }
   ],
   "source": [
    "res_segment = segment(data, suffix)"
   ]
  },
  {
   "cell_type": "code",
   "execution_count": 10,
   "id": "67c52876-bd10-4d84-83e1-6852ec285aca",
   "metadata": {},
   "outputs": [
    {
     "name": "stdout",
     "output_type": "stream",
     "text": [
      "\n",
      "_X1\n",
      "_X2\n",
      "_X3\n",
      "_X4\n",
      "_X5\n",
      "_X6\n"
     ]
    }
   ],
   "source": [
    "res_props = calculate_props(res_segment, suffix, scale=scale)"
   ]
  },
  {
   "cell_type": "code",
   "execution_count": 11,
   "id": "2bcabc81-b1bb-4be6-9d70-45f3b719adf3",
   "metadata": {},
   "outputs": [],
   "source": [
    "filter(res_segment, res_props, data, suffix)"
   ]
  },
  {
   "cell_type": "code",
   "execution_count": 12,
   "id": "5eb65428-2de0-4338-afd9-aec98302af3d",
   "metadata": {},
   "outputs": [
    {
     "name": "stdout",
     "output_type": "stream",
     "text": [
      "(50, 620, 2687)\n",
      "(50, 620, 2687)\n",
      "(50, 620, 2687)\n",
      "(50, 620, 2687)\n",
      "(50, 620, 2687)\n",
      "(50, 620, 2687)\n",
      "(50, 620, 1151)\n"
     ]
    }
   ],
   "source": [
    "for i in range(len(res_segment)):\n",
    "    print(res_segment[i].shape)"
   ]
  },
  {
   "cell_type": "markdown",
   "id": "2a3e838c-9cc1-425b-9bac-cc170aa87c6c",
   "metadata": {},
   "source": [
    "### Measurement: 2"
   ]
  },
  {
   "cell_type": "code",
   "execution_count": 7,
   "id": "6dd830b4-d358-4a9b-abff-7a7dd0cf8c9d",
   "metadata": {},
   "outputs": [],
   "source": [
    "data = 'id551_MDCK_unit_on_on_02_300Hz_405_250mW_488_150mW_488'"
   ]
  },
  {
   "cell_type": "code",
   "execution_count": 8,
   "id": "a4a148d2-1a97-4447-8151-97f1aaf05335",
   "metadata": {},
   "outputs": [
    {
     "name": "stdout",
     "output_type": "stream",
     "text": [
      "\n",
      "size: 50\n",
      "_X1\n",
      "size: 50\n",
      "_X2\n",
      "size: 50\n",
      "_X3\n",
      "size: 50\n",
      "_X4\n",
      "size: 50\n",
      "_X5\n",
      "size: 50\n",
      "_X6\n",
      "size: 50\n"
     ]
    }
   ],
   "source": [
    "res_segment = segment(data, suffix)"
   ]
  },
  {
   "cell_type": "code",
   "execution_count": 10,
   "id": "bbf293e4-5455-471d-90d5-1bb01cd2e0c1",
   "metadata": {},
   "outputs": [
    {
     "name": "stdout",
     "output_type": "stream",
     "text": [
      "\n",
      "_X1\n",
      "_X2\n",
      "_X3\n",
      "_X4\n",
      "_X5\n",
      "_X6\n"
     ]
    }
   ],
   "source": [
    "res_props = calculate_props(res_segment, suffix, scale=scale)"
   ]
  },
  {
   "cell_type": "code",
   "execution_count": 11,
   "id": "ce20c719-df9f-4cba-911b-e5da4ee4f733",
   "metadata": {},
   "outputs": [],
   "source": [
    "filter(res_segment, res_props, data, suffix)"
   ]
  },
  {
   "cell_type": "code",
   "execution_count": 12,
   "id": "6d126381-df37-4134-8cdf-c6eee4703754",
   "metadata": {},
   "outputs": [
    {
     "name": "stdout",
     "output_type": "stream",
     "text": [
      "(50, 620, 2687)\n",
      "(50, 620, 2687)\n",
      "(50, 620, 2687)\n",
      "(50, 620, 2687)\n",
      "(50, 620, 2687)\n",
      "(50, 620, 2687)\n",
      "(50, 620, 1151)\n"
     ]
    }
   ],
   "source": [
    "for i in range(len(res_segment)):\n",
    "    print(res_segment[i].shape)"
   ]
  },
  {
   "cell_type": "markdown",
   "id": "1a7ce378-18b0-4415-afcd-b26d62d84341",
   "metadata": {},
   "source": [
    "### Measurement: 3"
   ]
  },
  {
   "cell_type": "code",
   "execution_count": 13,
   "id": "e27076fe-6719-493b-8ebb-85feb2de6c5c",
   "metadata": {},
   "outputs": [],
   "source": [
    "data = 'id551_MDCK_unit_on_on_03_300Hz_405_250mW_488_150mW_488'"
   ]
  },
  {
   "cell_type": "code",
   "execution_count": 14,
   "id": "dae6ed67-1110-44cb-97f1-4e885298c90a",
   "metadata": {},
   "outputs": [
    {
     "name": "stdout",
     "output_type": "stream",
     "text": [
      "\n",
      "size: 50\n",
      "_X1\n",
      "size: 50\n",
      "_X2\n",
      "size: 50\n",
      "_X3\n",
      "size: 50\n",
      "_X4\n",
      "size: 50\n",
      "_X5\n",
      "size: 50\n",
      "_X6\n",
      "size: 50\n"
     ]
    }
   ],
   "source": [
    "res_segment = segment(data, suffix)"
   ]
  },
  {
   "cell_type": "code",
   "execution_count": 16,
   "id": "f5b008cb-fe13-455c-85c0-1d7e782f3a1c",
   "metadata": {},
   "outputs": [
    {
     "name": "stdout",
     "output_type": "stream",
     "text": [
      "\n",
      "_X1\n",
      "_X2\n",
      "_X3\n",
      "_X4\n",
      "_X5\n",
      "_X6\n"
     ]
    }
   ],
   "source": [
    "res_props = calculate_props(res_segment, suffix, scale=scale)"
   ]
  },
  {
   "cell_type": "code",
   "execution_count": 17,
   "id": "afdcd538-97de-493e-a81f-dd3bd9870409",
   "metadata": {},
   "outputs": [],
   "source": [
    "filter(res_segment, res_props, data, suffix)"
   ]
  },
  {
   "cell_type": "code",
   "execution_count": 18,
   "id": "3dcd29e3-14b9-4e2b-a5f9-f3c7be0cdb29",
   "metadata": {},
   "outputs": [
    {
     "name": "stdout",
     "output_type": "stream",
     "text": [
      "(50, 620, 2723)\n",
      "(50, 620, 2723)\n",
      "(50, 620, 2723)\n",
      "(50, 620, 2723)\n",
      "(50, 620, 2723)\n",
      "(50, 620, 2723)\n",
      "(50, 620, 1166)\n"
     ]
    }
   ],
   "source": [
    "for i in range(len(res_segment)):\n",
    "    print(res_segment[i].shape)"
   ]
  },
  {
   "cell_type": "markdown",
   "id": "3562b558-da4f-4afb-803e-a5fbdc050016",
   "metadata": {},
   "source": [
    "## Calculate the number of spheroids"
   ]
  },
  {
   "cell_type": "code",
   "execution_count": 25,
   "id": "931ace91-129e-4468-8df8-6af6fc9a63f3",
   "metadata": {},
   "outputs": [],
   "source": [
    "data = 'id551_MDCK_unit_on_on_01_300Hz_405_250mW_488_150mW_488'"
   ]
  },
  {
   "cell_type": "code",
   "execution_count": 26,
   "id": "d3d065f3-8460-47eb-baf6-e6b50e3af790",
   "metadata": {},
   "outputs": [
    {
     "name": "stdout",
     "output_type": "stream",
     "text": [
      "65\n",
      "72\n",
      "87\n",
      "87\n",
      "70\n",
      "47\n",
      "28\n",
      "456\n"
     ]
    }
   ],
   "source": [
    "total = []\n",
    "for i, s in enumerate(suffix):\n",
    "    spheroid = np.load(f'../result/{data}{s}_segmented_spheroids.npy')\n",
    "    num = len(np.unique(spheroid))-1 \n",
    "    print(num)\n",
    "    total.append(num)\n",
    "print(sum(total))"
   ]
  },
  {
   "cell_type": "code",
   "execution_count": 19,
   "id": "d463d4cf-52c1-4888-b373-a9dc40ed54ce",
   "metadata": {},
   "outputs": [],
   "source": [
    "data = 'id551_MDCK_unit_on_on_02_300Hz_405_250mW_488_150mW_488'"
   ]
  },
  {
   "cell_type": "code",
   "execution_count": 22,
   "id": "8b89cde2-f5ce-4c8a-9ce2-d79e7d246474",
   "metadata": {},
   "outputs": [
    {
     "name": "stdout",
     "output_type": "stream",
     "text": [
      "33\n",
      "42\n",
      "59\n",
      "50\n",
      "56\n",
      "53\n",
      "19\n",
      "312\n"
     ]
    }
   ],
   "source": [
    "total = []\n",
    "for i, s in enumerate(suffix):\n",
    "    spheroid = np.load(f'../result/{data}{s}_segmented_spheroids.npy')\n",
    "    num = len(np.unique(spheroid))-1 \n",
    "    print(num)\n",
    "    total.append(num)\n",
    "print(sum(total))"
   ]
  },
  {
   "cell_type": "code",
   "execution_count": 23,
   "id": "c38ed490-2bf1-4803-ae62-c91d7b1eda09",
   "metadata": {},
   "outputs": [],
   "source": [
    "data = 'id551_MDCK_unit_on_on_03_300Hz_405_250mW_488_150mW_488'"
   ]
  },
  {
   "cell_type": "code",
   "execution_count": 24,
   "id": "f982d665-4b30-481d-ad4d-c127e0716f69",
   "metadata": {},
   "outputs": [
    {
     "name": "stdout",
     "output_type": "stream",
     "text": [
      "44\n",
      "35\n",
      "25\n",
      "23\n",
      "23\n",
      "26\n",
      "10\n",
      "186\n"
     ]
    }
   ],
   "source": [
    "total = []\n",
    "for i, s in enumerate(suffix):\n",
    "    spheroid = np.load(f'../result/{data}{s}_segmented_spheroids.npy')\n",
    "    num = len(np.unique(spheroid))-1 \n",
    "    print(num)\n",
    "    total.append(num)\n",
    "print(sum(total))"
   ]
  },
  {
   "cell_type": "code",
   "execution_count": 27,
   "id": "d09d094f-a7dd-4306-a470-414303cc0fcf",
   "metadata": {},
   "outputs": [
    {
     "data": {
      "text/plain": [
       "954"
      ]
     },
     "execution_count": 27,
     "metadata": {},
     "output_type": "execute_result"
    }
   ],
   "source": [
    "456+312+186"
   ]
  }
 ],
 "metadata": {
  "kernelspec": {
   "display_name": "Python 3 (ipykernel)",
   "language": "python",
   "name": "python3"
  },
  "language_info": {
   "codemirror_mode": {
    "name": "ipython",
    "version": 3
   },
   "file_extension": ".py",
   "mimetype": "text/x-python",
   "name": "python",
   "nbconvert_exporter": "python",
   "pygments_lexer": "ipython3",
   "version": "3.8.16"
  }
 },
 "nbformat": 4,
 "nbformat_minor": 5
}
