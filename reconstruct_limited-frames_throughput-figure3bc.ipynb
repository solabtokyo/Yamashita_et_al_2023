{
 "cells": [
  {
   "cell_type": "markdown",
   "id": "e102c0fe-9563-457e-ad69-be0cfe94e24f",
   "metadata": {},
   "source": [
    "# Reconstruct 3D images using the limited number of frames for calculation of throughput and Figure 3b, c\n",
    "\n",
    "Data: original time-series 2D images of blue and green channels"
   ]
  },
  {
   "cell_type": "markdown",
   "id": "54d899ae-00c4-483e-84d0-0f724d30e1a1",
   "metadata": {},
   "source": [
    "## Libraries"
   ]
  },
  {
   "cell_type": "code",
   "execution_count": null,
   "id": "cb79fadf-02ab-455c-a194-01bd477f5628",
   "metadata": {},
   "outputs": [],
   "source": [
    "import numpy as np\n",
    "import recon\n",
    "import matplotlib.pyplot as plt\n",
    "import tifffile"
   ]
  },
  {
   "cell_type": "markdown",
   "id": "adb93be9-a2f9-471c-93af-53fb81b4d4a8",
   "metadata": {},
   "source": [
    "## Directories"
   ]
  },
  {
   "cell_type": "code",
   "execution_count": null,
   "id": "82c71853-4e8d-4945-9c43-1b059a3cc1c2",
   "metadata": {},
   "outputs": [],
   "source": [
    "# data paths\n",
    "path_calib = '../data/3D/calib/'\n",
    "path_rawdata = '../data/3D/raw/'\n",
    "path_result = '../result/'"
   ]
  },
  {
   "cell_type": "markdown",
   "id": "6d7fa8e2-1755-422d-8842-86200c90fc4f",
   "metadata": {},
   "source": [
    "## Reconstruction"
   ]
  },
  {
   "cell_type": "code",
   "execution_count": null,
   "id": "59b989eb-114c-416e-92ed-e89db87cd5b7",
   "metadata": {},
   "outputs": [],
   "source": [
    "# data name\n",
    "data = 'id551_MDCK_unit_on_on_01_300Hz_405_250mW_488_150mW_'"
   ]
  },
  {
   "cell_type": "code",
   "execution_count": null,
   "id": "fcdf5123-786e-486e-ad76-6216ad7ef685",
   "metadata": {},
   "outputs": [],
   "source": [
    "suffix=['_X2']"
   ]
  },
  {
   "cell_type": "code",
   "execution_count": null,
   "id": "3f429607-cfa6-4ec2-988f-12ebe2255a60",
   "metadata": {},
   "outputs": [],
   "source": [
    "#acquisition parameters\n",
    "mean_aspect_ratio = 7.83"
   ]
  },
  {
   "cell_type": "code",
   "execution_count": null,
   "id": "caa5efc3-f97a-4282-a15c-c9b8a19a7575",
   "metadata": {},
   "outputs": [],
   "source": [
    "recon.reconstruction(data=data, suffix=suffix, wavelength='405', fps=300, mean_aspect_ratio=mean_aspect_ratio, \n",
    "                     raw=path_rawdata, calib=path_calib, result=path_result, polarity=0, rescaling_factor=1, print_loop=False, \n",
    "                     start_end_frames=(100, 400))"
   ]
  },
  {
   "cell_type": "code",
   "execution_count": null,
   "id": "69d7557c-a4ac-43d0-8181-3ba74c2fcb1c",
   "metadata": {},
   "outputs": [],
   "source": [
    "recon.reconstruction(data=data, suffix=suffix, wavelength='488', fps=300, mean_aspect_ratio=mean_aspect_ratio, \n",
    "                     raw=path_rawdata, calib=path_calib, result=path_result, polarity=0, rescaling_factor=1, print_loop=False, \n",
    "                     start_end_frames=(100, 400))"
   ]
  },
  {
   "cell_type": "code",
   "execution_count": null,
   "id": "3ab9849b-41a6-4729-882e-0aea93487c2c",
   "metadata": {},
   "outputs": [],
   "source": [
    "img_405 = np.load(path_result+data+'405'+suffix[0]+'_100-400.npy')\n",
    "img_488 = np.load(path_result+data+'488'+suffix[0]+'_100-400.npy')"
   ]
  },
  {
   "cell_type": "code",
   "execution_count": null,
   "id": "4459dcb1-f95f-4d60-95d0-1dc5681a7235",
   "metadata": {},
   "outputs": [],
   "source": [
    "print(img_405.shape)\n",
    "print(img_488.shape)"
   ]
  },
  {
   "cell_type": "code",
   "execution_count": null,
   "id": "191c9a6a-97a4-441f-8326-e42f7e1baa65",
   "metadata": {},
   "outputs": [],
   "source": [
    "img_405 = img_405[:img_488.shape[0], :, :img_488.shape[2]]"
   ]
  },
  {
   "cell_type": "code",
   "execution_count": null,
   "id": "1c423c90-6386-46d0-95c0-774c87ab032b",
   "metadata": {},
   "outputs": [],
   "source": [
    "plt.figure(figsize=(10, 10))\n",
    "plt.imshow(img_405[200, ...], cmap='gray', vmax=1000, vmin=50)\n",
    "plt.axis('off')"
   ]
  },
  {
   "cell_type": "code",
   "execution_count": null,
   "id": "a1b3365e-295c-442f-9cff-49e25c4d1936",
   "metadata": {},
   "outputs": [],
   "source": [
    "plt.figure(figsize=(10, 10))\n",
    "plt.imshow(img_488[200, ...], cmap='gray', vmax=3000, vmin=50)\n",
    "plt.axis('off')"
   ]
  },
  {
   "cell_type": "code",
   "execution_count": null,
   "id": "8596ef44-bdfc-490d-93a3-6c415909148e",
   "metadata": {},
   "outputs": [],
   "source": [
    "tifffile.imwrite(path_result+data+'405'+suffix[0]+'_100-400_reconstructed.tif', img_405)\n",
    "tifffile.imwrite(path_result+data+'488'+suffix[0]+'_100-400_reconstructed.tif', img_488)"
   ]
  }
 ],
 "metadata": {
  "kernelspec": {
   "display_name": "Python 3 (ipykernel)",
   "language": "python",
   "name": "python3"
  },
  "language_info": {
   "codemirror_mode": {
    "name": "ipython",
    "version": 3
   },
   "file_extension": ".py",
   "mimetype": "text/x-python",
   "name": "python",
   "nbconvert_exporter": "python",
   "pygments_lexer": "ipython3",
   "version": "3.8.16"
  }
 },
 "nbformat": 4,
 "nbformat_minor": 5
}
