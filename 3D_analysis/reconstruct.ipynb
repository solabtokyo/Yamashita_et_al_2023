{
 "cells": [
  {
   "cell_type": "markdown",
   "id": "793837a4-7a8a-461e-b69f-23ced6d07c4a",
   "metadata": {},
   "source": [
    "# Reconstruct 3D images\n",
    "original time-series 2D images of blue and green channels"
   ]
  },
  {
   "cell_type": "markdown",
   "id": "f9e89614-90fb-4b79-9fdc-6769443fcf16",
   "metadata": {},
   "source": [
    "## Library"
   ]
  },
  {
   "cell_type": "code",
   "execution_count": null,
   "id": "ffdc76ce-139e-465e-afb3-e2eb0e35c107",
   "metadata": {},
   "outputs": [],
   "source": [
    "import recon"
   ]
  },
  {
   "cell_type": "markdown",
   "id": "026549c9-dd5b-449e-93b1-f27a4282512d",
   "metadata": {},
   "source": [
    "## Directories"
   ]
  },
  {
   "cell_type": "code",
   "execution_count": null,
   "id": "cafcdf98-fc5c-4dc0-b7aa-cc61a5d282e6",
   "metadata": {},
   "outputs": [],
   "source": [
    "calib = '../../data/3D/calib/'\n",
    "raw = '../../data/3D/raw/'\n",
    "result = '../../result/'"
   ]
  },
  {
   "cell_type": "markdown",
   "id": "f813cf9c-2801-4ba3-969b-6855e5b3c34b",
   "metadata": {},
   "source": [
    "## Reconstruct 3D images"
   ]
  },
  {
   "cell_type": "code",
   "execution_count": null,
   "id": "81a25140-652f-4bbf-b692-9fc6a6c687fb",
   "metadata": {},
   "outputs": [],
   "source": [
    "suffix = ['', '_X1', '_X2', '_X3', '_X4', '_X5', '_X6']"
   ]
  },
  {
   "cell_type": "markdown",
   "id": "26d51270-004e-43b3-97e0-27d764e1abb5",
   "metadata": {},
   "source": [
    "### Spheroids"
   ]
  },
  {
   "cell_type": "markdown",
   "id": "81629dcc-38d0-4858-990a-07154c7c46b6",
   "metadata": {},
   "source": [
    "#### Measurement 1"
   ]
  },
  {
   "cell_type": "code",
   "execution_count": null,
   "id": "4b7681d1-a073-4c06-b90f-2104231f5796",
   "metadata": {},
   "outputs": [],
   "source": [
    "data = 'id551_MDCK_unit_on_on_01_300Hz_405_250mW_488_150mW_'"
   ]
  },
  {
   "cell_type": "code",
   "execution_count": null,
   "id": "75648108-d80d-42ce-bc87-3e8a2d4fc737",
   "metadata": {},
   "outputs": [],
   "source": [
    "mean_aspect_ratio = 7.83 # mean aspect ratio of beads"
   ]
  },
  {
   "cell_type": "code",
   "execution_count": null,
   "id": "46921352-37f1-4bc9-8d14-f1541b3c8c82",
   "metadata": {},
   "outputs": [],
   "source": [
    "# wavelength: 405\n",
    "recon.reconstruction(data=data, suffix=suffix, wavelength='405', fps=300, mean_aspect_ratio=mean_aspect_ratio, \n",
    "                     raw=raw, calib=calib, result=result, polarity=0, rescaling_factor=0.25, print_loop=False)"
   ]
  },
  {
   "cell_type": "code",
   "execution_count": null,
   "id": "0bea5171-17fa-43dd-bb3d-6b3919f1e01f",
   "metadata": {},
   "outputs": [],
   "source": [
    "# wavelength: 488\n",
    "recon.reconstruction(data=data, suffix=suffix, wavelength='488', fps=300, mean_aspect_ratio=mean_aspect_ratio, \n",
    "                     raw=raw, calib=calib, result=result, polarity=0, rescaling_factor=0.25, print_loop=False)"
   ]
  },
  {
   "cell_type": "markdown",
   "id": "b92bee93-6657-4574-9514-2341d4b83b8b",
   "metadata": {},
   "source": [
    "#### Measurement 2"
   ]
  },
  {
   "cell_type": "code",
   "execution_count": null,
   "id": "5e1908c2-43c5-4cc3-9cfe-8136a7c591ae",
   "metadata": {},
   "outputs": [],
   "source": [
    "data = 'id551_MDCK_unit_on_on_02_300Hz_405_250mW_488_150mW_'"
   ]
  },
  {
   "cell_type": "code",
   "execution_count": null,
   "id": "64d8bc3a-6100-405d-87f5-9fa5caf61119",
   "metadata": {},
   "outputs": [],
   "source": [
    "mean_aspect_ratio = 7.82 # mean aspect ratio of beads"
   ]
  },
  {
   "cell_type": "code",
   "execution_count": null,
   "id": "faa2c3e0-97c7-423f-a30a-a2a488113bd1",
   "metadata": {},
   "outputs": [],
   "source": [
    "# wavelength: 405\n",
    "recon.reconstruction(data=data, suffix=suffix, wavelength='405', fps=300, mean_aspect_ratio=mean_aspect_ratio, \n",
    "                     raw=raw, calib=calib, result=result, polarity=0, rescaling_factor=0.25, print_loop=False)"
   ]
  },
  {
   "cell_type": "code",
   "execution_count": null,
   "id": "1295ee30-aa34-46d8-8ffc-581703037964",
   "metadata": {},
   "outputs": [],
   "source": [
    "# wavelength: 488\n",
    "recon.reconstruction(data=data, suffix=suffix, wavelength='488', fps=300, mean_aspect_ratio=mean_aspect_ratio, \n",
    "                     raw=raw, calib=calib, result=result, polarity=0, rescaling_factor=0.25, print_loop=False)"
   ]
  },
  {
   "cell_type": "markdown",
   "id": "c189150e-d228-4178-bb31-bf212b88643c",
   "metadata": {},
   "source": [
    "#### Measurement 3"
   ]
  },
  {
   "cell_type": "code",
   "execution_count": null,
   "id": "37128c11-c864-46e1-bcd3-28d782044230",
   "metadata": {},
   "outputs": [],
   "source": [
    "data = 'id551_MDCK_unit_on_on_03_300Hz_405_250mW_488_150mW_'"
   ]
  },
  {
   "cell_type": "code",
   "execution_count": null,
   "id": "e52f638e-ab00-4bfe-9522-6812f42d4cbf",
   "metadata": {},
   "outputs": [],
   "source": [
    "mean_aspect_ratio = 7.92 # mean aspect ratio of beads"
   ]
  },
  {
   "cell_type": "code",
   "execution_count": null,
   "id": "a362b823-316d-443b-8847-984dcc28a7f7",
   "metadata": {},
   "outputs": [],
   "source": [
    "# wavelength: 405\n",
    "recon.reconstruction(data=data, suffix=suffix, wavelength='405', fps=300, mean_aspect_ratio=mean_aspect_ratio, \n",
    "                     raw=raw, calib=calib, result=result, polarity=0, rescaling_factor=0.25, print_loop=False)"
   ]
  },
  {
   "cell_type": "code",
   "execution_count": null,
   "id": "6d216d23-f7dd-4925-9973-0ba79f334656",
   "metadata": {},
   "outputs": [],
   "source": [
    "# wavelength: 488\n",
    "recon.reconstruction(data=data, suffix=suffix, wavelength='488', fps=300, mean_aspect_ratio=mean_aspect_ratio, \n",
    "                     raw=raw, calib=calib, result=result, polarity=0, rescaling_factor=0.25, print_loop=False)"
   ]
  },
  {
   "cell_type": "markdown",
   "id": "d01cf7a3-64a7-4405-8412-eef2cfd07ea2",
   "metadata": {},
   "source": [
    "### Suspended"
   ]
  },
  {
   "cell_type": "markdown",
   "id": "1912c520-8631-4624-b1b5-24a786412f24",
   "metadata": {},
   "source": [
    "#### Measurement 1"
   ]
  },
  {
   "cell_type": "code",
   "execution_count": null,
   "id": "328c6076-56b6-4328-b262-ef490c930e15",
   "metadata": {},
   "outputs": [],
   "source": [
    "data = 'id551_MDCK_cellonly_01_300Hz_405_250mW_488_150mW_'"
   ]
  },
  {
   "cell_type": "code",
   "execution_count": null,
   "id": "1e36f2da-e2d1-4f74-9794-39d45084a69c",
   "metadata": {},
   "outputs": [],
   "source": [
    "mean_aspect_ratio = 7.84 # mean aspect ratio of beads"
   ]
  },
  {
   "cell_type": "code",
   "execution_count": null,
   "id": "5714bcb2-7397-4ec8-bd97-a1d7a662b1b6",
   "metadata": {},
   "outputs": [],
   "source": [
    "# wavelength: 405\n",
    "recon.reconstruction(data=data, suffix=suffix, wavelength='405', fps=300, mean_aspect_ratio=mean_aspect_ratio, \n",
    "                     raw=raw, calib=calib, result=result, polarity=0, rescaling_factor=0.25, print_loop=False)"
   ]
  },
  {
   "cell_type": "markdown",
   "id": "1fe0fcba-0035-4b8c-94ae-c1fdcb17e754",
   "metadata": {},
   "source": [
    "#### Measurement 2"
   ]
  },
  {
   "cell_type": "code",
   "execution_count": null,
   "id": "7ef696f8-e47c-4ee1-987d-7c3ee1288684",
   "metadata": {},
   "outputs": [],
   "source": [
    "data = 'id551_MDCK_cellonly_02_300Hz_405_250mW_488_150mW_'"
   ]
  },
  {
   "cell_type": "code",
   "execution_count": null,
   "id": "826d58e2-cde2-4a1d-9be7-96de7d6f268e",
   "metadata": {},
   "outputs": [],
   "source": [
    "mean_aspect_ratio = 7.89 # mean aspect ratio of beads"
   ]
  },
  {
   "cell_type": "code",
   "execution_count": null,
   "id": "a1f6fabe-233b-4aef-a990-50756e5b9c02",
   "metadata": {},
   "outputs": [],
   "source": [
    "# wavelength: 405\n",
    "recon.reconstruction(data=data, suffix=suffix, wavelength='405', fps=300, mean_aspect_ratio=mean_aspect_ratio, \n",
    "                     raw=raw, calib=calib, result=result, polarity=0, rescaling_factor=0.25, print_loop=False)"
   ]
  }
 ],
 "metadata": {
  "kernelspec": {
   "display_name": "Python 3 (ipykernel)",
   "language": "python",
   "name": "python3"
  },
  "language_info": {
   "codemirror_mode": {
    "name": "ipython",
    "version": 3
   },
   "file_extension": ".py",
   "mimetype": "text/x-python",
   "name": "python",
   "nbconvert_exporter": "python",
   "pygments_lexer": "ipython3",
   "version": "3.8.16"
  }
 },
 "nbformat": 4,
 "nbformat_minor": 5
}
