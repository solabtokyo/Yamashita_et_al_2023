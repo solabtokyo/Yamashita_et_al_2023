{
 "cells": [
  {
   "cell_type": "markdown",
   "id": "b14f27c3-cf6f-46fd-876e-6ec10cbd7b02",
   "metadata": {},
   "source": [
    "# Make figures for supplementary Figure 1\n",
    "Data: segmented labels of spheroids and suspended MDCK"
   ]
  },
  {
   "cell_type": "markdown",
   "id": "0c232ad2-da44-4e90-86b4-f8c2167d36e0",
   "metadata": {},
   "source": [
    "## Libraries"
   ]
  },
  {
   "cell_type": "code",
   "execution_count": null,
   "id": "4dec38eb-3f2a-4822-99fe-9f24a880b91e",
   "metadata": {},
   "outputs": [],
   "source": [
    "import numpy as np\n",
    "import matplotlib.pyplot as plt\n",
    "from skimage.color import label2rgb\n",
    "from mpl_toolkits.axes_grid1.anchored_artists import AnchoredSizeBar\n",
    "import matplotlib.font_manager as fm"
   ]
  },
  {
   "cell_type": "markdown",
   "id": "0d8d062d-997f-475d-89df-7c42ac02ee7f",
   "metadata": {},
   "source": [
    "## Functions"
   ]
  },
  {
   "cell_type": "code",
   "execution_count": null,
   "id": "b4f8aba8-5d0d-49e7-b0ff-9941c24da555",
   "metadata": {},
   "outputs": [],
   "source": [
    "def set_scalebar(ax, size, x_scale, vsize=2, borderpad=1, loc='lower right'):\n",
    "    '''\n",
    "    size: size in μm\n",
    "    vsize: width of scale bar\n",
    "    borderpad: distance of scale bar to edge of image\n",
    "    '''\n",
    "    scalebar = AnchoredSizeBar(ax.transData, size=size/x_scale, label='',\n",
    "                               loc=loc, frameon=False, color='white', size_vertical=vsize, borderpad=borderpad, label_top=True,\n",
    "                               fontproperties=fm.FontProperties(size=12))\n",
    "    ax.add_artist(scalebar)"
   ]
  },
  {
   "cell_type": "markdown",
   "id": "80b5d991-cb3a-49f1-bdb2-79dd8721f011",
   "metadata": {},
   "source": [
    "## Make figures"
   ]
  },
  {
   "cell_type": "code",
   "execution_count": null,
   "id": "fe410613-7ff4-4323-8da0-f84501041d79",
   "metadata": {},
   "outputs": [],
   "source": [
    "# adhering\n",
    "path = '../../result/'\n",
    "data = 'id551_MDCK_unit_on_on_01_300Hz_405_250mW_488_150mW_405'\n",
    "suffix = ['_X2']"
   ]
  },
  {
   "cell_type": "code",
   "execution_count": null,
   "id": "7f1c25b5-331d-4c71-8452-1c1b17fb8e59",
   "metadata": {},
   "outputs": [],
   "source": [
    "img_adhering = np.load(path+data+suffix[0]+'.npy')\n",
    "segmented_adhering = np.load(path+data+suffix[0]+'_segmented_filtered.npy')"
   ]
  },
  {
   "cell_type": "code",
   "execution_count": null,
   "id": "cb446b51-1698-4809-ac55-09e7026a2791",
   "metadata": {},
   "outputs": [],
   "source": [
    "color = label2rgb(segmented_adhering[55, 100:300, 150:350])\n",
    "\n",
    "fig, axes = plt.subplots(1, 2, figsize=(6, 3))\n",
    "\n",
    "axes[0].imshow(img_adhering[55, 100:300, 150:350], cmap='gray')\n",
    "axes[0].axis('off')\n",
    "set_scalebar(axes[0], size=50, x_scale=1.18, vsize=2, borderpad=0.5, loc='lower left')\n",
    "\n",
    "axes[1].imshow(color)\n",
    "axes[1].axis('off')\n",
    "\n",
    "plt.tight_layout()"
   ]
  },
  {
   "cell_type": "code",
   "execution_count": null,
   "id": "f10ce5c6-a613-4812-a5b6-46689ec297db",
   "metadata": {},
   "outputs": [],
   "source": [
    "# suspended\n",
    "data = 'id551_MDCK_cellonly_01_300Hz_405_250mW_488_150mW_405'\n",
    "suffix = ['']"
   ]
  },
  {
   "cell_type": "code",
   "execution_count": null,
   "id": "6bfdb1f6-e43a-4c2a-b9ff-650131bcebf3",
   "metadata": {},
   "outputs": [],
   "source": [
    "img_suspended = np.load(path+data+suffix[0]+'.npy')\n",
    "segmented_suspended = np.load(path+data+suffix[0]+'_segmented.npy')"
   ]
  },
  {
   "cell_type": "code",
   "execution_count": null,
   "id": "78ebfa20-b4b0-4960-9ca8-60ba8f1d57c3",
   "metadata": {},
   "outputs": [],
   "source": [
    "color = label2rgb(segmented_suspended[40, 200:400, 800:1000])\n",
    "\n",
    "fig, axes = plt.subplots(1, 2, figsize=(6, 3))\n",
    "\n",
    "axes[0].imshow(img_suspended[40, 200:400, 800:1000], cmap='gray')\n",
    "axes[0].axis('off')\n",
    "set_scalebar(axes[0], size=50, x_scale=1.18, vsize=2, borderpad=0.5, loc='lower left')\n",
    "\n",
    "axes[1].imshow(color)\n",
    "axes[1].axis('off')\n",
    "\n",
    "plt.tight_layout()"
   ]
  },
  {
   "cell_type": "code",
   "execution_count": null,
   "id": "f9ec114c-1f9a-42e1-a4b2-639aba9d800a",
   "metadata": {},
   "outputs": [],
   "source": [
    "color_suspended = label2rgb(segmented_suspended[40, 200:400, 800:1000])\n",
    "color_adhering = label2rgb(segmented_adhering[55, 100:300, 150:350])\n",
    "\n",
    "fig, axes = plt.subplots(2, 2, figsize=(6, 6))\n",
    "\n",
    "axes[0][0].imshow(img_suspended[40, 200:400, 800:1000], cmap='gray')\n",
    "axes[0][0].axis('off')\n",
    "set_scalebar(axes[0][0], size=50, x_scale=1.18, vsize=2, borderpad=0.5, loc='lower left')\n",
    "\n",
    "axes[0][1].imshow(color_suspended)\n",
    "axes[0][1].axis('off')\n",
    "\n",
    "axes[1][0].imshow(img_adhering[55, 100:300, 150:350], cmap='gray')\n",
    "axes[1][0].axis('off')\n",
    "set_scalebar(axes[1][0], size=50, x_scale=1.18, vsize=2, borderpad=0.5, loc='lower left')\n",
    "\n",
    "axes[1][1].imshow(color_adhering)\n",
    "axes[1][1].axis('off')\n",
    "\n",
    "plt.tight_layout()\n",
    "\n",
    "plt.savefig(path+'segmented_nuclei_adhering-suspended.pdf', bbox_inches='tight', pad_inches=0.05)"
   ]
  }
 ],
 "metadata": {
  "kernelspec": {
   "display_name": "Python 3 (ipykernel)",
   "language": "python",
   "name": "python3"
  },
  "language_info": {
   "codemirror_mode": {
    "name": "ipython",
    "version": 3
   },
   "file_extension": ".py",
   "mimetype": "text/x-python",
   "name": "python",
   "nbconvert_exporter": "python",
   "pygments_lexer": "ipython3",
   "version": "3.8.16"
  }
 },
 "nbformat": 4,
 "nbformat_minor": 5
}
