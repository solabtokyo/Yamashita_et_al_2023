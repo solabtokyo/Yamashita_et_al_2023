{
 "cells": [
  {
   "cell_type": "markdown",
   "id": "e619c347-3f7a-42ae-82b4-c74e31f5f623",
   "metadata": {},
   "source": [
    "# Analyze nuclei of adhering MDCK for figure 4b\n",
    "Data: reconstructed blue and green 3D images"
   ]
  },
  {
   "cell_type": "markdown",
   "id": "4c432594-a3e9-4325-b562-9be5feb45576",
   "metadata": {},
   "source": [
    "## Libraries"
   ]
  },
  {
   "cell_type": "code",
   "execution_count": null,
   "id": "a49ea30a-90d2-4b17-b795-ccb946467c12",
   "metadata": {},
   "outputs": [],
   "source": [
    "import analysis\n",
    "import numpy as np\n",
    "import pandas as pd\n",
    "\n",
    "import matplotlib.pyplot as plt\n",
    "import seaborn as sns\n",
    "\n",
    "from skimage.transform import rescale\n",
    "from skimage.color import label2rgb"
   ]
  },
  {
   "cell_type": "markdown",
   "id": "5783f421-6db3-4368-b9a9-1bf202ae88c6",
   "metadata": {},
   "source": [
    "## Parameters"
   ]
  },
  {
   "cell_type": "code",
   "execution_count": null,
   "id": "f2e2ba2b-e387-477a-b35f-ed33b571b84d",
   "metadata": {},
   "outputs": [],
   "source": [
    "path = '../../result/'\n",
    "suffix = ['', '_X1', '_X2', '_X3', '_X4', '_X5', '_X6']\n",
    "description = ''\n",
    "scale = np.repeat(0.295*4, 3) # spatial resolution in um scale"
   ]
  },
  {
   "cell_type": "markdown",
   "id": "f2381c82-e2c8-4a36-a19d-dc164abe1d5f",
   "metadata": {},
   "source": [
    "## Analysis"
   ]
  },
  {
   "cell_type": "markdown",
   "id": "0097ac32-e69b-45f4-86e8-cdfeb206e3a1",
   "metadata": {},
   "source": [
    "### Measurement: 1"
   ]
  },
  {
   "cell_type": "markdown",
   "id": "f4d3e5b2-f25b-424f-9272-e1900821d862",
   "metadata": {},
   "source": [
    "#### Spheroid"
   ]
  },
  {
   "cell_type": "code",
   "execution_count": null,
   "id": "c8c15147-d5ad-4ea5-bd41-c6d58f7f26f4",
   "metadata": {},
   "outputs": [],
   "source": [
    "data = 'id551_MDCK_unit_on_on_01_300Hz_405_250mW_488_150mW_488'"
   ]
  },
  {
   "cell_type": "code",
   "execution_count": null,
   "id": "f5080af8-92a7-4bb3-a49e-5536e534b1e3",
   "metadata": {},
   "outputs": [],
   "source": [
    "segmented_spheroid = analysis.segment(data=path+data, suffix=suffix, description=description, \n",
    "                                      sigma_spot_detection = 7, sigma_outline = 2)"
   ]
  },
  {
   "cell_type": "code",
   "execution_count": null,
   "id": "31967df2-8572-4242-b416-3784c4a080af",
   "metadata": {},
   "outputs": [],
   "source": [
    "total_num = 0\n",
    "for i in segmented_spheroid:\n",
    "    num = len(np.unique(i)-1)\n",
    "    print(num)\n",
    "    total_num += num\n",
    "print(total_num)"
   ]
  },
  {
   "cell_type": "code",
   "execution_count": null,
   "id": "bebbf10e-57da-42dd-9258-c1e0ed7b6323",
   "metadata": {},
   "outputs": [],
   "source": [
    "props_spheroid = analysis.calculate_props(segmented=segmented_spheroid, suffix=suffix, target=('spheroid'), scale=scale)"
   ]
  },
  {
   "cell_type": "code",
   "execution_count": null,
   "id": "c22f1a5c-42c7-441e-bc1e-0f79b8b41f4f",
   "metadata": {},
   "outputs": [],
   "source": [
    "segmented_spheroid_filtered = analysis.filter_spheroid(segmented=segmented_spheroid, props=props_spheroid, volume_thresh=30000, solidity_thresh=0.7)"
   ]
  },
  {
   "cell_type": "code",
   "execution_count": null,
   "id": "82206182-16c3-4b16-8680-ad5747037019",
   "metadata": {},
   "outputs": [],
   "source": [
    "total_num = 0\n",
    "for i in segmented_spheroid_filtered:\n",
    "    num = len(np.unique(i)-1)\n",
    "    print(num)\n",
    "    total_num += num\n",
    "print(total_num)"
   ]
  },
  {
   "cell_type": "code",
   "execution_count": null,
   "id": "6ccc51a9-1827-4480-a9a1-de149641c247",
   "metadata": {},
   "outputs": [],
   "source": [
    "for i in range(len(suffix)):\n",
    "    np.save(path+data+suffix[i]+description+'_segmented.npy', segmented_spheroid[i])\n",
    "    np.save(path+data+suffix[i]+description+'_segmented_filtered.npy', segmented_spheroid_filtered[i])\n",
    "    props_spheroid[i].to_csv(path+data+suffix[i]+description+'_props.csv')"
   ]
  },
  {
   "cell_type": "markdown",
   "id": "5d74e360-d8c4-477f-92a8-463835e2278c",
   "metadata": {},
   "source": [
    "#### Nucleus"
   ]
  },
  {
   "cell_type": "code",
   "execution_count": null,
   "id": "0351acdc-c460-4fb5-ac08-47eca2b1312e",
   "metadata": {},
   "outputs": [],
   "source": [
    "data = 'id551_MDCK_unit_on_on_01_300Hz_405_250mW_488_150mW_405'"
   ]
  },
  {
   "cell_type": "code",
   "execution_count": null,
   "id": "0f47e48e-bb23-493f-9620-9278bf138ee7",
   "metadata": {
    "scrolled": true
   },
   "outputs": [],
   "source": [
    "segmented_nucleus = analysis.segment(data=path+data, suffix=suffix, description=description,\n",
    "                                     sigma_spot_detection=1.5, sigma_outline=0)"
   ]
  },
  {
   "cell_type": "code",
   "execution_count": null,
   "id": "52deea88-ca64-4af9-b7bb-c84f19e841c5",
   "metadata": {},
   "outputs": [],
   "source": [
    "total_num = 0\n",
    "for i in segmented_nucleus:\n",
    "    num = len(np.unique(i)-1)\n",
    "    print(num)\n",
    "    total_num += num\n",
    "print(total_num)"
   ]
  },
  {
   "cell_type": "code",
   "execution_count": null,
   "id": "c54ade69-e4ad-4566-a637-4893d2a7bb77",
   "metadata": {},
   "outputs": [],
   "source": [
    "segmented_nucleus_filtered = analysis.filter_nucleus(nucleus=segmented_nucleus, spheroid=segmented_spheroid_filtered, suffix=suffix)"
   ]
  },
  {
   "cell_type": "code",
   "execution_count": null,
   "id": "abee2ebd-cfbb-4ea1-839b-e6e4623a88a7",
   "metadata": {},
   "outputs": [],
   "source": [
    "total_num = 0\n",
    "for i in segmented_nucleus_filtered:\n",
    "    num = len(np.unique(i)-1)\n",
    "    print(num)\n",
    "    total_num += num\n",
    "print(total_num)"
   ]
  },
  {
   "cell_type": "code",
   "execution_count": null,
   "id": "8abbc203-092b-46a7-b1bc-fe5715a526a5",
   "metadata": {},
   "outputs": [],
   "source": [
    "props_nucleus = analysis.calculate_props(segmented=segmented_nucleus_filtered, suffix=suffix, target=('nucleus'), scale=scale)"
   ]
  },
  {
   "cell_type": "code",
   "execution_count": null,
   "id": "466b5272-fd9d-4192-abfe-a31e26e4f746",
   "metadata": {},
   "outputs": [],
   "source": [
    "for i in range(len(suffix)):\n",
    "    np.save(path+data+suffix[i]+description+'_segmented.npy', segmented_nucleus[i])\n",
    "    np.save(path+data+suffix[i]+description+'_segmented_filtered.npy', segmented_nucleus_filtered[i])"
   ]
  },
  {
   "cell_type": "code",
   "execution_count": null,
   "id": "02eab9f2-c13c-4f9f-a977-edf8d86bb1c5",
   "metadata": {},
   "outputs": [],
   "source": [
    "props_nucleus.to_csv(path+data+description+'_props.csv')"
   ]
  },
  {
   "cell_type": "markdown",
   "id": "697c13dd-fcc2-448f-841c-9031733c9d3d",
   "metadata": {},
   "source": [
    "### Measurement: 2"
   ]
  },
  {
   "cell_type": "markdown",
   "id": "3702890b-1e69-49c6-87f3-aa4f2b766be6",
   "metadata": {},
   "source": [
    "#### Spheroid"
   ]
  },
  {
   "cell_type": "code",
   "execution_count": null,
   "id": "d0a417a5-8f3b-4528-8613-93e7e19ac1fd",
   "metadata": {},
   "outputs": [],
   "source": [
    "data = 'id551_MDCK_unit_on_on_02_300Hz_405_250mW_488_150mW_488'"
   ]
  },
  {
   "cell_type": "code",
   "execution_count": null,
   "id": "3fde1ed7-431b-4f52-a1f2-0902f5853168",
   "metadata": {},
   "outputs": [],
   "source": [
    "segmented_spheroid = analysis.segment(data=path+data, suffix=suffix, description=description, \n",
    "                                      sigma_spot_detection = 7, sigma_outline = 2)"
   ]
  },
  {
   "cell_type": "code",
   "execution_count": null,
   "id": "c11eaee0-f72b-44c1-b00a-b756458e1cad",
   "metadata": {},
   "outputs": [],
   "source": [
    "total_num = 0\n",
    "for i in segmented_spheroid:\n",
    "    num = len(np.unique(i)-1)\n",
    "    print(num)\n",
    "    total_num += num\n",
    "print(total_num)"
   ]
  },
  {
   "cell_type": "code",
   "execution_count": null,
   "id": "73e83bbf-f6e9-4169-8522-46ca5d70a362",
   "metadata": {},
   "outputs": [],
   "source": [
    "props_spheroid = analysis.calculate_props(segmented=segmented_spheroid, suffix=suffix, target=('spheroid'), scale=scale)"
   ]
  },
  {
   "cell_type": "code",
   "execution_count": null,
   "id": "37bdedec-201b-43c1-a95d-2f51e521ead9",
   "metadata": {},
   "outputs": [],
   "source": [
    "segmented_spheroid_filtered = analysis.filter_spheroid(segmented=segmented_spheroid, props=props_spheroid, volume_thresh=30000, solidity_thresh=0.7)"
   ]
  },
  {
   "cell_type": "code",
   "execution_count": null,
   "id": "eecbaae9-346b-4e95-81d6-a668fd28dd45",
   "metadata": {},
   "outputs": [],
   "source": [
    "total_num = 0\n",
    "for i in segmented_spheroid_filtered:\n",
    "    num = len(np.unique(i)-1)\n",
    "    print(num)\n",
    "    total_num += num\n",
    "print(total_num)"
   ]
  },
  {
   "cell_type": "code",
   "execution_count": null,
   "id": "f40a30da-ac1f-44c9-b53a-aa0c03b8b1b1",
   "metadata": {},
   "outputs": [],
   "source": [
    "for i in range(len(suffix)):\n",
    "    np.save(path+data+suffix[i]+description+'_segmented.npy', segmented_spheroid[i])\n",
    "    np.save(path+data+suffix[i]+description+'_segmented_filtered.npy', segmented_spheroid_filtered[i])\n",
    "    props_spheroid[i].to_csv(path+data+suffix[i]+description+'_props.csv')"
   ]
  },
  {
   "cell_type": "markdown",
   "id": "1c5c6d08-f05d-4761-8eda-b548707a273e",
   "metadata": {},
   "source": [
    "#### Nucleus"
   ]
  },
  {
   "cell_type": "code",
   "execution_count": null,
   "id": "0bec3351-c851-4c6f-aef4-3e604668664d",
   "metadata": {},
   "outputs": [],
   "source": [
    "data = 'id551_MDCK_unit_on_on_02_300Hz_405_250mW_488_150mW_405'"
   ]
  },
  {
   "cell_type": "code",
   "execution_count": null,
   "id": "9a7bfbdf-0f3c-44b2-8912-fd78c1dbff51",
   "metadata": {
    "scrolled": true
   },
   "outputs": [],
   "source": [
    "segmented_nucleus = analysis.segment(data=path+data, suffix=suffix, description=description, \n",
    "                                     sigma_spot_detection=1.5, sigma_outline=0)"
   ]
  },
  {
   "cell_type": "code",
   "execution_count": null,
   "id": "5ab5a4a0-4ee7-4c97-97ee-80d54ca5da75",
   "metadata": {},
   "outputs": [],
   "source": [
    "total_num = 0\n",
    "for i in segmented_nucleus:\n",
    "    num = len(np.unique(i)-1)\n",
    "    print(num)\n",
    "    total_num += num\n",
    "print(total_num)"
   ]
  },
  {
   "cell_type": "code",
   "execution_count": null,
   "id": "4b09b19c-7ce0-4931-b145-95c6ed250b6d",
   "metadata": {},
   "outputs": [],
   "source": [
    "segmented_nucleus_filtered = analysis.filter_nucleus(nucleus=segmented_nucleus, spheroid=segmented_spheroid_filtered, suffix=suffix)"
   ]
  },
  {
   "cell_type": "code",
   "execution_count": null,
   "id": "3c38ec75-b7a5-411a-8d99-8efec4fa39dd",
   "metadata": {},
   "outputs": [],
   "source": [
    "total_num = 0\n",
    "for i in segmented_nucleus_filtered:\n",
    "    num = len(np.unique(i)-1)\n",
    "    print(num)\n",
    "    total_num += num\n",
    "print(total_num)"
   ]
  },
  {
   "cell_type": "code",
   "execution_count": null,
   "id": "d38680e7-50b8-4975-814e-04560962f3e9",
   "metadata": {},
   "outputs": [],
   "source": [
    "props_nucleus = analysis.calculate_props(segmented=segmented_nucleus_filtered, suffix=suffix, target=('nucleus'), scale=scale)"
   ]
  },
  {
   "cell_type": "code",
   "execution_count": null,
   "id": "4840e0f6-fa4a-42db-bed8-658b6e501ea2",
   "metadata": {},
   "outputs": [],
   "source": [
    "for i in range(len(suffix)):\n",
    "    np.save(path+data+suffix[i]+description+'_segmented.npy', segmented_nucleus[i])\n",
    "    np.save(path+data+suffix[i]+description+'_segmented_filtered.npy', segmented_nucleus_filtered[i])"
   ]
  },
  {
   "cell_type": "code",
   "execution_count": null,
   "id": "d5c0c6bb-9524-4093-8dd7-1c196cff3037",
   "metadata": {},
   "outputs": [],
   "source": [
    "props_nucleus.to_csv(path+data+description+'_props.csv')"
   ]
  },
  {
   "cell_type": "markdown",
   "id": "eeae2b22-9abe-417a-b830-24cae77ac1d8",
   "metadata": {},
   "source": [
    "### Measurement: 3"
   ]
  },
  {
   "cell_type": "markdown",
   "id": "5e407bd8-ca91-410d-8a82-c1f72bd9a2e7",
   "metadata": {},
   "source": [
    "#### Spheroid"
   ]
  },
  {
   "cell_type": "code",
   "execution_count": null,
   "id": "e1f68b27-3852-43af-acac-827744cc268c",
   "metadata": {},
   "outputs": [],
   "source": [
    "data = 'id551_MDCK_unit_on_on_03_300Hz_405_250mW_488_150mW_488'"
   ]
  },
  {
   "cell_type": "code",
   "execution_count": null,
   "id": "efd283a6-37da-4a00-8ea1-88539f812b01",
   "metadata": {},
   "outputs": [],
   "source": [
    "segmented_spheroid = analysis.segment(data=path+data, suffix=suffix, description=description, \n",
    "                                      sigma_spot_detection = 7, sigma_outline = 2)"
   ]
  },
  {
   "cell_type": "code",
   "execution_count": null,
   "id": "3dfe97de-9273-4052-ba16-1a2665dd03ce",
   "metadata": {},
   "outputs": [],
   "source": [
    "total_num = 0\n",
    "for i in segmented_spheroid:\n",
    "    num = len(np.unique(i)-1)\n",
    "    print(num)\n",
    "    total_num += num\n",
    "print(total_num)"
   ]
  },
  {
   "cell_type": "code",
   "execution_count": null,
   "id": "2a36b271-6451-4d07-9edc-7d26d9660b0e",
   "metadata": {},
   "outputs": [],
   "source": [
    "props_spheroid = analysis.calculate_props(segmented=segmented_spheroid, suffix=suffix, target=('spheroid'), scale=scale)"
   ]
  },
  {
   "cell_type": "code",
   "execution_count": null,
   "id": "bdecbfac-2ab8-44fa-993f-09bd299a6bc0",
   "metadata": {},
   "outputs": [],
   "source": [
    "segmented_spheroid_filtered = analysis.filter_spheroid(segmented=segmented_spheroid, props=props_spheroid, volume_thresh=30000, solidity_thresh=0.7)"
   ]
  },
  {
   "cell_type": "code",
   "execution_count": null,
   "id": "37d6a593-8637-481d-a345-819510b45a36",
   "metadata": {},
   "outputs": [],
   "source": [
    "total_num = 0\n",
    "for i in segmented_spheroid_filtered:\n",
    "    num = len(np.unique(i)-1)\n",
    "    print(num)\n",
    "    total_num += num\n",
    "print(total_num)"
   ]
  },
  {
   "cell_type": "code",
   "execution_count": null,
   "id": "ab086f21-cf25-4859-b820-e811726b3ff4",
   "metadata": {},
   "outputs": [],
   "source": [
    "for i in range(len(suffix)):\n",
    "    np.save(path+data+suffix[i]+description+'_segmented.npy', segmented_spheroid[i])\n",
    "    np.save(path+data+suffix[i]+description+'_segmented_filtered.npy', segmented_spheroid_filtered[i])\n",
    "    props_spheroid[i].to_csv(path+data+suffix[i]+description+'_props.csv')"
   ]
  },
  {
   "cell_type": "markdown",
   "id": "b308ad90-edf8-49a5-b027-10fee16eea22",
   "metadata": {},
   "source": [
    "#### Nucleus"
   ]
  },
  {
   "cell_type": "code",
   "execution_count": null,
   "id": "6e3e4b0f-3849-4636-a56a-1f433a07efbf",
   "metadata": {},
   "outputs": [],
   "source": [
    "data = 'id551_MDCK_unit_on_on_03_300Hz_405_250mW_488_150mW_405'"
   ]
  },
  {
   "cell_type": "code",
   "execution_count": null,
   "id": "1d0ff562-7990-4ec7-9f71-a8f8299f4817",
   "metadata": {},
   "outputs": [],
   "source": [
    "segmented_nucleus = analysis.segment(data=path+data, suffix=suffix, description=description, \n",
    "                                     sigma_spot_detection=1.5, sigma_outline=0)"
   ]
  },
  {
   "cell_type": "code",
   "execution_count": null,
   "id": "9619b614-1cc1-4df1-8842-d4dca3fce9f1",
   "metadata": {},
   "outputs": [],
   "source": [
    "total_num = 0\n",
    "for i in segmented_nucleus:\n",
    "    num = len(np.unique(i)-1)\n",
    "    print(num)\n",
    "    total_num += num\n",
    "print(total_num)"
   ]
  },
  {
   "cell_type": "code",
   "execution_count": null,
   "id": "6b9b2e61-a79d-4156-917b-dc0e2725e1a5",
   "metadata": {},
   "outputs": [],
   "source": [
    "segmented_nucleus_filtered = analysis.filter_nucleus(nucleus=segmented_nucleus, spheroid=segmented_spheroid_filtered, suffix=suffix)"
   ]
  },
  {
   "cell_type": "code",
   "execution_count": null,
   "id": "4a0d60df-23ea-4be1-a2c5-6a75fcf1813a",
   "metadata": {},
   "outputs": [],
   "source": [
    "total_num = 0\n",
    "for i in segmented_nucleus_filtered:\n",
    "    num = len(np.unique(i)-1)\n",
    "    print(num)\n",
    "    total_num += num\n",
    "print(total_num)"
   ]
  },
  {
   "cell_type": "code",
   "execution_count": null,
   "id": "557da92f-aeb6-438f-ad85-b74b8cdf4196",
   "metadata": {},
   "outputs": [],
   "source": [
    "props_nucleus = analysis.calculate_props(segmented=segmented_nucleus_filtered, suffix=suffix, target=('nucleus'), scale=scale)"
   ]
  },
  {
   "cell_type": "code",
   "execution_count": null,
   "id": "3cfb9cdc-f23e-43dd-bde1-89092acb6250",
   "metadata": {},
   "outputs": [],
   "source": [
    "for i in range(len(suffix)):\n",
    "    np.save(path+data+suffix[i]+description+'_segmented.npy', segmented_nucleus[i])\n",
    "    np.save(path+data+suffix[i]+description+'_segmented_filtered.npy', segmented_nucleus_filtered[i])"
   ]
  },
  {
   "cell_type": "code",
   "execution_count": null,
   "id": "1726bd4d-9691-48a4-b42e-b0a0d6eaa4e8",
   "metadata": {},
   "outputs": [],
   "source": [
    "props_nucleus.to_csv(path+data+description+'_props.csv')"
   ]
  }
 ],
 "metadata": {
  "kernelspec": {
   "display_name": "Python 3 (ipykernel)",
   "language": "python",
   "name": "python3"
  },
  "language_info": {
   "codemirror_mode": {
    "name": "ipython",
    "version": 3
   },
   "file_extension": ".py",
   "mimetype": "text/x-python",
   "name": "python",
   "nbconvert_exporter": "python",
   "pygments_lexer": "ipython3",
   "version": "3.8.16"
  }
 },
 "nbformat": 4,
 "nbformat_minor": 5
}
