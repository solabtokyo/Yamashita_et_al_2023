{
 "cells": [
  {
   "cell_type": "markdown",
   "id": "77d54eec-98de-4a3c-9208-9a5de995914f",
   "metadata": {},
   "source": [
    "# Make figures for Figure 2e  \n",
    "Data: original time-series 2D images of green channel"
   ]
  },
  {
   "cell_type": "markdown",
   "id": "96e3e52b-aec2-4069-8e52-f1076951ce66",
   "metadata": {},
   "source": [
    "## Libraries"
   ]
  },
  {
   "cell_type": "code",
   "execution_count": null,
   "id": "32f67abe-60d2-4720-8b0b-e18712a351d1",
   "metadata": {},
   "outputs": [],
   "source": [
    "import numpy as np\n",
    "import pandas as pd\n",
    "from astropy.io import fits\n",
    "import tifffile\n",
    "import matplotlib.pyplot as plt\n",
    "from mpl_toolkits.axes_grid1.anchored_artists import AnchoredSizeBar\n",
    "import matplotlib.font_manager as fm\n",
    "\n",
    "plt.rcParams['font.family'] = 'Helvetica'\n",
    "plt.rcParams[\"font.size\"] = 6"
   ]
  },
  {
   "cell_type": "markdown",
   "id": "ba23c339-096c-49e7-a1fa-49efe14b58a0",
   "metadata": {},
   "source": [
    "## Functions"
   ]
  },
  {
   "cell_type": "code",
   "execution_count": null,
   "id": "92b976b0-0e91-4d4f-9e4e-463990c266ac",
   "metadata": {},
   "outputs": [],
   "source": [
    "def int_projection(path, data):\n",
    "    '''\n",
    "    Calculate the sum of fluorescence intensity\n",
    "\n",
    "    path: path of the data\n",
    "    data: data name\n",
    "    '''\n",
    "    result = []\n",
    "    number = ['', '_X1', '_X2', '_X3', '_X4', '_X5', '_X6', '_X7'] # suffix of the data\n",
    "\n",
    "    for n in number:\n",
    "        filename = data+n+'.fits'\n",
    "        img = np.flip(fits.getdata(path+filename), axis=1) # inverte the images along z-axis (height)\n",
    "        result.append(np.sum(img, axis=0))\n",
    "\n",
    "    result = np.sum(np.stack(result), axis=0) # calculate the sum along y-axis (flow)\n",
    "    return np.sum(result, axis=1) # calculate the sum along x-axis (width)"
   ]
  },
  {
   "cell_type": "code",
   "execution_count": null,
   "id": "74553bae-56c4-43fd-9783-64b3cf93d584",
   "metadata": {},
   "outputs": [],
   "source": [
    "def make_img(path, file, start_frame, end_frame):\n",
    "    '''\n",
    "    Create images of the sum of fluorescence intensity\n",
    "\n",
    "    path: path of the data\n",
    "    file: input data\n",
    "    start_frame: first frame\n",
    "    end_frame: last frame\n",
    "    '''\n",
    "    img = np.flip(fits.getdata(path+file), axis=1)\n",
    "    img = img[start_frame:end_frame, ...]\n",
    "\n",
    "    return np.sum(img, axis=0)"
   ]
  },
  {
   "cell_type": "code",
   "execution_count": null,
   "id": "55218758-5b23-4ca4-809f-a335696a2c85",
   "metadata": {},
   "outputs": [],
   "source": [
    "def set_scalebar(ax, size, x_scale, vsize=2, borderpad=1, loc='lower right'):\n",
    "    '''\n",
    "    Set a scalebar in a image\n",
    "    \n",
    "    size: size in μm\n",
    "    vsize: height of scale bar\n",
    "    borderpad: distance of scale bar to edge of image\n",
    "    '''\n",
    "    scalebar = AnchoredSizeBar(ax.transData, size=size/x_scale, label=rf'{size} $\\mu$$m$',\n",
    "                               loc=loc, frameon=False, color='white', size_vertical=vsize, borderpad=borderpad, label_top=True,\n",
    "                               fontproperties=fm.FontProperties(size=12))\n",
    "    ax.add_artist(scalebar)"
   ]
  },
  {
   "cell_type": "markdown",
   "id": "606ce8b1-96d8-4c9a-a246-7d118332eeba",
   "metadata": {},
   "source": [
    "## Directories"
   ]
  },
  {
   "cell_type": "code",
   "execution_count": null,
   "id": "8ce888e7-7905-4733-8d70-ba15a124e446",
   "metadata": {},
   "outputs": [],
   "source": [
    "path_data = '../../data/3D/raw/'\n",
    "path_result = '../../result/'"
   ]
  },
  {
   "cell_type": "markdown",
   "id": "80f0ed48-9f7a-4c38-adce-fcb23ded0d19",
   "metadata": {},
   "source": [
    "## Analysis"
   ]
  },
  {
   "cell_type": "markdown",
   "id": "9a7a0004-2106-442e-abd2-bfbf501e87de",
   "metadata": {},
   "source": [
    "### Calculatie sum of intensity"
   ]
  },
  {
   "cell_type": "code",
   "execution_count": null,
   "id": "22bc3145-7c6c-42fc-ac80-b5ac5f625233",
   "metadata": {},
   "outputs": [],
   "source": [
    "result_on = int_projection(path_data, 'id551_MDCK_unit_acousticon_sheathoff_02_200Hz_405_250mW_488_150mW_488')"
   ]
  },
  {
   "cell_type": "code",
   "execution_count": null,
   "id": "2ebbc8bd-d978-4831-879e-813f84db2cd4",
   "metadata": {},
   "outputs": [],
   "source": [
    "result_off = int_projection(path_data, 'id551_MDCK_unit_acousticoff_sheathoff_01_200Hz_405_250mW_488_150mW_488')"
   ]
  },
  {
   "cell_type": "code",
   "execution_count": null,
   "id": "50a2c92a-7bc9-4350-a846-09ddb902ab2a",
   "metadata": {},
   "outputs": [],
   "source": [
    "np.save(path_result+'result_acousticon_sheathoff.npy', np.array(result_on))"
   ]
  },
  {
   "cell_type": "code",
   "execution_count": null,
   "id": "41972357-d74f-4e63-8eff-8395ae5c535b",
   "metadata": {},
   "outputs": [],
   "source": [
    "np.save(path_result+'result_acousticoff_sheathoff.npy', np.array(result_off))"
   ]
  },
  {
   "cell_type": "markdown",
   "id": "d8079b69-2afc-4945-b800-022a7c903da3",
   "metadata": {},
   "source": [
    "### Make figures"
   ]
  },
  {
   "cell_type": "markdown",
   "id": "d1406067-3db7-4908-a8b2-b12a9809f304",
   "metadata": {},
   "source": [
    "#### Sum along flow and width directions"
   ]
  },
  {
   "cell_type": "code",
   "execution_count": null,
   "id": "8702eb2e-5118-423e-a9ce-060458a3e805",
   "metadata": {},
   "outputs": [],
   "source": [
    "pixelsize = 6.5 # pixel size of the image sensor in um\n",
    "mag = 200/9 # magnification rate of imaging\n",
    "F_indexmismatch = 1.412 # axial elongation factor due to refractive-index mismatch of remote focusing"
   ]
  },
  {
   "cell_type": "code",
   "execution_count": null,
   "id": "788fbbf1-e126-4abd-b33d-9eebd7904d14",
   "metadata": {},
   "outputs": [],
   "source": [
    "z_scale = F_indexmismatch * (pixelsize / mag)"
   ]
  },
  {
   "cell_type": "code",
   "execution_count": null,
   "id": "6c3a80e5-8489-4de2-8fd4-ca52e79655c2",
   "metadata": {},
   "outputs": [],
   "source": [
    "zcoord = np.arange(350, 0, -1)\n",
    "zcoord = zcoord * z_scale # convert z-coordnate to μm scale"
   ]
  },
  {
   "cell_type": "code",
   "execution_count": null,
   "id": "909d5134-45b5-40b7-b0f5-3cb4852efc61",
   "metadata": {},
   "outputs": [],
   "source": [
    "result_on = result_on[-350:]\n",
    "result_off = result_off[-350:]"
   ]
  },
  {
   "cell_type": "code",
   "execution_count": null,
   "id": "b3f54ea3-3aed-45e1-bbd6-2187685cb2af",
   "metadata": {},
   "outputs": [],
   "source": [
    "# normalize the sum of the intensity\n",
    "result_on_normalized = (result_on - np.min(result_on)) / (np.max(result_on) - np.min(result_on))\n",
    "result_off_normalized = (result_off - np.min(result_off))/ (np.max(result_off) - np.min(result_off))"
   ]
  },
  {
   "cell_type": "code",
   "execution_count": null,
   "id": "b3a913e4-82f9-412e-a641-e1fc4465f1b8",
   "metadata": {},
   "outputs": [],
   "source": [
    "plt.figure(figsize=(1.41, 1.41))\n",
    "plt.plot(result_off_normalized, zcoord, label='OFF')\n",
    "plt.plot(result_on_normalized, zcoord, label='ON')\n",
    "plt.legend(title = 'Acoustic focusing', ncol=2, columnspacing=0.5, handlelength=1, handletextpad=0.5, loc='upper right', borderaxespad=0.1, frameon=False)\n",
    "plt.xlabel('Normalized sum of intensity [A.U.]')\n",
    "plt.ylabel(r'$y_{o}$-coordinate $[\\mu m]$')\n",
    "plt.savefig(path_result+'intensity_acousticonoff.pdf', bbox_inches=\"tight\", pad_inches=0.05)"
   ]
  },
  {
   "cell_type": "markdown",
   "id": "26a66bbc-f783-4adb-9378-0643ee4bf934",
   "metadata": {},
   "source": [
    "#### Sum along flow direction"
   ]
  },
  {
   "cell_type": "code",
   "execution_count": null,
   "id": "f70d8885-432d-4f04-a2f7-847aed3713ca",
   "metadata": {},
   "outputs": [],
   "source": [
    "on_sum = make_img(path_data, 'id551_MDCK_unit_acousticon_sheathoff_02_200Hz_405_250mW_488_150mW_488_X1.fits', 500, 700)"
   ]
  },
  {
   "cell_type": "code",
   "execution_count": null,
   "id": "cee0de7c-994d-408f-8e7c-03dfd120cdb2",
   "metadata": {},
   "outputs": [],
   "source": [
    "off_sum = make_img(path_data, 'id551_MDCK_unit_acousticoff_sheathoff_01_200Hz_405_250mW_488_150mW_488.fits', 200, 400)"
   ]
  },
  {
   "cell_type": "code",
   "execution_count": null,
   "id": "f90009c6-24fd-4e61-82d5-86c20c45d51d",
   "metadata": {},
   "outputs": [],
   "source": [
    "on_sum_normalized = (on_sum - np.min(on_sum)) / (np.max(on_sum) - np.min(on_sum))\n",
    "off_sum_normalized = (off_sum - np.min(off_sum)) / (np.max(off_sum) - np.min(off_sum))"
   ]
  },
  {
   "cell_type": "code",
   "execution_count": null,
   "id": "ce023ad8-9f09-440f-a3d4-2b59e30f14f4",
   "metadata": {},
   "outputs": [],
   "source": [
    "on_sum_normalized = on_sum_normalized[-350:, :]\n",
    "off_sum_normalized = off_sum_normalized[-350:, :]"
   ]
  },
  {
   "cell_type": "code",
   "execution_count": null,
   "id": "4d5879c3-0c28-40ad-be5b-06544049bcb2",
   "metadata": {},
   "outputs": [],
   "source": [
    "fig, ax = plt.subplots(2, 1, figsize=(7, 3))\n",
    "ax[0].imshow(off_sum_normalized, cmap='gray')\n",
    "ax[0].set_axis_off()\n",
    "ax[0].set_title('Acoustic focusing is OFF', size=12)\n",
    "set_scalebar(ax[0], size=50, x_scale=pixelsize/mag, vsize=2, borderpad=0.5, loc='lower left')\n",
    "ax[1].imshow(on_sum_normalized, cmap='gray')\n",
    "ax[1].set_axis_off()\n",
    "ax[1].set_title('Acoustic focusing is ON', size=12)\n",
    "set_scalebar(ax[1], size=50, x_scale=pixelsize/mag, vsize=2, borderpad=0.5, loc='lower left')\n",
    "plt.tight_layout()\n",
    "\n",
    "plt.savefig(path_result+'sum_acousticonoff.pdf', bbox_inches=\"tight\", pad_inches=0.05)"
   ]
  },
  {
   "cell_type": "code",
   "execution_count": null,
   "id": "7546747d-5e3e-44a2-8cc8-03b75e63c02e",
   "metadata": {},
   "outputs": [],
   "source": [
    "tifffile.imwrite(path_result+'sum_acousticoff.tif', off_sum_normalized)\n",
    "tifffile.imwrite(path_result+'sum_acousticon.tif', on_sum_normalized)"
   ]
  }
 ],
 "metadata": {
  "kernelspec": {
   "display_name": "Python 3 (ipykernel)",
   "language": "python",
   "name": "python3"
  },
  "language_info": {
   "codemirror_mode": {
    "name": "ipython",
    "version": 3
   },
   "file_extension": ".py",
   "mimetype": "text/x-python",
   "name": "python",
   "nbconvert_exporter": "python",
   "pygments_lexer": "ipython3",
   "version": "3.8.16"
  }
 },
 "nbformat": 4,
 "nbformat_minor": 5
}
