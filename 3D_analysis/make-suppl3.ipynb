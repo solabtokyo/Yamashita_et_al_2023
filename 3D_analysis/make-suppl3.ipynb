{
 "cells": [
  {
   "cell_type": "markdown",
   "id": "e619c347-3f7a-42ae-82b4-c74e31f5f623",
   "metadata": {},
   "source": [
    "# Make figures for supplementary figure 3\n",
    "Data: calculated nuclear properties of spheroids and suspended MDCK"
   ]
  },
  {
   "cell_type": "markdown",
   "id": "137ccc56-debc-4136-9826-6e51b14d0867",
   "metadata": {},
   "source": [
    "## Libraries"
   ]
  },
  {
   "cell_type": "code",
   "execution_count": null,
   "id": "a49ea30a-90d2-4b17-b795-ccb946467c12",
   "metadata": {},
   "outputs": [],
   "source": [
    "import numpy as np\n",
    "import pandas as pd\n",
    "\n",
    "import matplotlib.pyplot as plt\n",
    "import seaborn as sns\n",
    "\n",
    "plt.rcParams['font.family'] = 'Helvetica'\n",
    "plt.rcParams[\"font.size\"] = 8"
   ]
  },
  {
   "cell_type": "markdown",
   "id": "573aeb07-30be-40c9-bbe3-2b26d20d91d2",
   "metadata": {},
   "source": [
    "## Make figures"
   ]
  },
  {
   "cell_type": "code",
   "execution_count": null,
   "id": "c8c15147-d5ad-4ea5-bd41-c6d58f7f26f4",
   "metadata": {},
   "outputs": [],
   "source": [
    "path = '../../result/'"
   ]
  },
  {
   "cell_type": "code",
   "execution_count": null,
   "id": "e60cba22-f03a-4aec-8c1b-89b66a6c24e9",
   "metadata": {},
   "outputs": [],
   "source": [
    "data_1 = [pd.read_csv(path+'id551_MDCK_unit_on_on_01_300Hz_405_250mW_488_150mW_488'+suffix[i]+'_props.csv', index_col=0) for i in range(len(suffix))]\n",
    "data_2 = [pd.read_csv(path+'id551_MDCK_unit_on_on_02_300Hz_405_250mW_488_150mW_488'+suffix[i]+'_props.csv', index_col=0) for i in range(len(suffix))]\n",
    "data_3 = [pd.read_csv(path+'id551_MDCK_unit_on_on_03_300Hz_405_250mW_488_150mW_488'+suffix[i]+'_props.csv', index_col=0) for i in range(len(suffix))]"
   ]
  },
  {
   "cell_type": "code",
   "execution_count": null,
   "id": "f5080af8-92a7-4bb3-a49e-5536e534b1e3",
   "metadata": {},
   "outputs": [],
   "source": [
    "data = pd.concat([pd.concat(data_1), pd.concat(data_2), pd.concat(data_3)])"
   ]
  },
  {
   "cell_type": "code",
   "execution_count": null,
   "id": "5413f638-4c2c-4dfb-902f-2fb01d69c705",
   "metadata": {},
   "outputs": [],
   "source": [
    "data"
   ]
  },
  {
   "cell_type": "code",
   "execution_count": null,
   "id": "8cf075f6-168b-4392-9f1a-d2ba398937cd",
   "metadata": {},
   "outputs": [],
   "source": [
    "volume_thresh = 30000\n",
    "solidity_thresh = 0.7"
   ]
  },
  {
   "cell_type": "code",
   "execution_count": null,
   "id": "d945881f-d96a-46a9-8e73-24d772452511",
   "metadata": {},
   "outputs": [],
   "source": [
    "data['Selection'] = np.where((data['Volume']>volume_thresh) & (data['Solidity']>solidity_thresh), 'Retained', 'Removed')"
   ]
  },
  {
   "cell_type": "code",
   "execution_count": null,
   "id": "1ec4eb56-44bb-43c4-8392-7c7a7882a118",
   "metadata": {},
   "outputs": [],
   "source": [
    "g = sns.jointplot(data=data, x='Volume', y='Solidity',\n",
    "                  height=3.5, hue='Selection',\n",
    "                  xlim=(0, 100000), ylim=(0.0, 1.0), joint_kws={'s': 1})\n",
    "g.ax_marg_x.cla()\n",
    "g.ax_marg_y.cla()\n",
    "g.ax_marg_x.hist(data['Volume'], bins=20, range=(0, 100000), color='grey', alpha=0.7)\n",
    "g.ax_marg_x.get_yaxis().set_visible(False)\n",
    "g.ax_marg_x.tick_params(labelbottom=False)\n",
    "g.ax_marg_y.hist(data['Solidity'], bins=20, range=(0, 1), color='grey', orientation='horizontal', alpha=0.7)\n",
    "g.ax_marg_y.get_xaxis().set_visible(False)\n",
    "g.ax_marg_y.tick_params(labelleft=False)\n",
    "g.refline(x=30000, y=0.7, color='black')\n",
    "\n",
    "\n",
    "g.ax_joint.tick_params(axis = 'x', labelsize=6)\n",
    "g.ax_joint.tick_params(axis = 'y', labelsize=6)\n",
    "g.ax_joint.set_xlabel('Volume', fontsize=8)\n",
    "g.ax_joint.set_ylabel('Solidity', fontsize=8)\n",
    "g.ax_joint.legend(fontsize=8, markerscale=0.5, handletextpad=0, frameon=False)\n",
    "\n",
    "plt.savefig(path+'spheroid_volume_solidity.pdf', bbox_inches='tight', pad_inches=0.05)"
   ]
  },
  {
   "cell_type": "code",
   "execution_count": null,
   "id": "c7ca3345-908f-4d08-807c-22ec4e41a069",
   "metadata": {},
   "outputs": [],
   "source": [
    "img = np.load(path+'id551_MDCK_unit_on_on_01_300Hz_405_250mW_488_150mW_488.npy')"
   ]
  },
  {
   "cell_type": "code",
   "execution_count": null,
   "id": "6005a8ea-eed3-4d2c-9ce3-4fef8f84beb5",
   "metadata": {},
   "outputs": [],
   "source": [
    "n = 30\n",
    "\n",
    "fig, axes = plt.subplots(5, 6, figsize=(8, 8))\n",
    "axes = axes.flatten()\n",
    "for i in range(n):\n",
    "    axes[i].imshow(img[50, int(data.iloc[i+4, :]['bbox-1']):int(data.iloc[i+4, :]['bbox-4']), int(data.iloc[i+4, :]['bbox-2']):int(data.iloc[i+4, :]['bbox-5'])])\n",
    "    axes[i].axis('off')\n",
    "    if data.iloc[i+4, :]['Selection']=='Retained':\n",
    "        axes[i].set_title(r'$\\bf{'+ data.iloc[i+4, :]['Selection'] +'}$'\n",
    "                          +'\\nLabel: '+str(int(data.iloc[i+4, :]['Label']))\n",
    "                          +'\\nVolume:'+str(int(data.iloc[i+4, :]['Volume']))\n",
    "                          +'\\nSolidity: '+str(np.round(data.iloc[i+4, :]['Solidity'], 2)), \n",
    "                          size=6, y=0.95, color='tab:orange')\n",
    "    else:\n",
    "        axes[i].set_title(r'$\\bf{'+ data.iloc[i+4, :]['Selection'] +'}$'\n",
    "                          +'\\nLabel: '+str(int(data.iloc[i+4, :]['Label']))\n",
    "                          +'\\nVolume:'+str(int(data.iloc[i+4, :]['Volume']))\n",
    "                          +'\\nSolidity: '+str(np.round(data.iloc[i+4, :]['Solidity'], 2)), \n",
    "                          size=6, y=0.95, color='tab:blue')\n",
    "plt.subplots_adjust(wspace=0, hspace=0.6)\n",
    "\n",
    "plt.savefig(path+'spheroid_tile.pdf', bbox_inches='tight', pad_inches=0.05)"
   ]
  }
 ],
 "metadata": {
  "kernelspec": {
   "display_name": "Python 3 (ipykernel)",
   "language": "python",
   "name": "python3"
  },
  "language_info": {
   "codemirror_mode": {
    "name": "ipython",
    "version": 3
   },
   "file_extension": ".py",
   "mimetype": "text/x-python",
   "name": "python",
   "nbconvert_exporter": "python",
   "pygments_lexer": "ipython3",
   "version": "3.8.16"
  }
 },
 "nbformat": 4,
 "nbformat_minor": 5
}
