{
 "cells": [
  {
   "cell_type": "markdown",
   "id": "e102c0fe-9563-457e-ad69-be0cfe94e24f",
   "metadata": {},
   "source": [
    "# Make images for figrure \n",
    "Data: reconstructed 3D blue and green images obtained in one second"
   ]
  },
  {
   "cell_type": "markdown",
   "id": "ea68951d-8da0-4f5f-aaf7-abe235e83429",
   "metadata": {},
   "source": [
    "## Libraries"
   ]
  },
  {
   "cell_type": "code",
   "execution_count": null,
   "id": "cb79fadf-02ab-455c-a194-01bd477f5628",
   "metadata": {},
   "outputs": [],
   "source": [
    "import numpy as np\n",
    "import matplotlib.pyplot as plt\n",
    "import tifffile\n",
    "from skimage.exposure import rescale_intensity\n",
    "from skimage.transform import rescale"
   ]
  },
  {
   "cell_type": "markdown",
   "id": "6888cc66-8264-4169-96f1-430f844d9f41",
   "metadata": {},
   "source": [
    "## Directory"
   ]
  },
  {
   "cell_type": "code",
   "execution_count": null,
   "id": "82c71853-4e8d-4945-9c43-1b059a3cc1c2",
   "metadata": {},
   "outputs": [],
   "source": [
    "path = '../../result/'"
   ]
  },
  {
   "cell_type": "markdown",
   "id": "c5585207-8bca-4c34-a32e-119c85625714",
   "metadata": {},
   "source": [
    "## Make figures"
   ]
  },
  {
   "cell_type": "code",
   "execution_count": null,
   "id": "2d31bf4d-aeec-44db-9ac7-40e56451a2d4",
   "metadata": {},
   "outputs": [],
   "source": [
    "data = 'id551_MDCK_unit_on_on_01_300Hz_405_250mW_488_150mW_'\n",
    "suffix = '_X2'"
   ]
  },
  {
   "cell_type": "code",
   "execution_count": null,
   "id": "3ab9849b-41a6-4729-882e-0aea93487c2c",
   "metadata": {},
   "outputs": [],
   "source": [
    "img_405 = np.load(path+data+'405'+suffix+'_100-400.npy')\n",
    "img_488 = np.load(path+data+'488'+suffix+'_100-400.npy')"
   ]
  },
  {
   "cell_type": "code",
   "execution_count": null,
   "id": "4459dcb1-f95f-4d60-95d0-1dc5681a7235",
   "metadata": {},
   "outputs": [],
   "source": [
    "print(img_405.shape)\n",
    "print(img_488.shape)"
   ]
  },
  {
   "cell_type": "code",
   "execution_count": null,
   "id": "191c9a6a-97a4-441f-8326-e42f7e1baa65",
   "metadata": {},
   "outputs": [],
   "source": [
    "img_405 = img_405[:img_488.shape[0], :, :img_488.shape[2]]"
   ]
  },
  {
   "cell_type": "code",
   "execution_count": null,
   "id": "6c45c5eb-a8b7-421c-bbb4-f9da5ee8bfbe",
   "metadata": {},
   "outputs": [],
   "source": [
    "img_405 = rescale_intensity(img_405, in_range=(100, 1500))\n",
    "img_488 = rescale_intensity(img_488, in_range=(100, 2000))"
   ]
  },
  {
   "cell_type": "code",
   "execution_count": null,
   "id": "1de3fe39-a365-4b01-b0d5-d3fb919c128a",
   "metadata": {},
   "outputs": [],
   "source": [
    "plt.figure(figsize=(10, 10))\n",
    "plt.imshow(img_405[220, ...], cmap='gray')\n",
    "plt.axis('off')"
   ]
  },
  {
   "cell_type": "code",
   "execution_count": null,
   "id": "a1b3365e-295c-442f-9cff-49e25c4d1936",
   "metadata": {},
   "outputs": [],
   "source": [
    "plt.figure(figsize=(10, 10))\n",
    "plt.imshow(img_488[220, ...], cmap='gray')\n",
    "plt.axis('off')"
   ]
  },
  {
   "cell_type": "code",
   "execution_count": null,
   "id": "8596ef44-bdfc-490d-93a3-6c415909148e",
   "metadata": {},
   "outputs": [],
   "source": [
    "tifffile.imwrite(path+data+'405'+suffix+'_100-400_reconstructed_z-220_modified.tif', img_405[220, ...])\n",
    "tifffile.imwrite(path+data+'488'+suffix+'_100-400_reconstructed_z-220_modified.tif', img_488[220, ...])"
   ]
  },
  {
   "cell_type": "code",
   "execution_count": null,
   "id": "6f8a9a8f-bbfd-458f-9cba-28da940c4e91",
   "metadata": {},
   "outputs": [],
   "source": [
    "img_405_rescaled = rescale(img_405, 0.5, anti_aliasing=True)\n",
    "img_488_rescaled = rescale(img_488, 0.5, anti_aliasing=True)"
   ]
  },
  {
   "cell_type": "code",
   "execution_count": null,
   "id": "61ad1edc-deb8-4fe4-a4f3-c69063b6bb56",
   "metadata": {},
   "outputs": [],
   "source": [
    "img_405_rescaled = img_405_rescaled.astype('float16')\n",
    "img_488_rescaled = img_488_rescaled.astype('float16')"
   ]
  },
  {
   "cell_type": "code",
   "execution_count": null,
   "id": "6c872918-62b0-4328-82e1-124ba1ca7586",
   "metadata": {},
   "outputs": [],
   "source": [
    "tifffile.imwrite(path+data+'405'+suffix+'_100-400_reconstructed_modified_rescaled.tif', img_405_rescaled)\n",
    "tifffile.imwrite(path+data+'488'+suffix+'_100-400_reconstructed_modified_rescaled.tif', img_488_rescaled)"
   ]
  }
 ],
 "metadata": {
  "kernelspec": {
   "display_name": "Python 3 (ipykernel)",
   "language": "python",
   "name": "python3"
  },
  "language_info": {
   "codemirror_mode": {
    "name": "ipython",
    "version": 3
   },
   "file_extension": ".py",
   "mimetype": "text/x-python",
   "name": "python",
   "nbconvert_exporter": "python",
   "pygments_lexer": "ipython3",
   "version": "3.8.16"
  }
 },
 "nbformat": 4,
 "nbformat_minor": 5
}
