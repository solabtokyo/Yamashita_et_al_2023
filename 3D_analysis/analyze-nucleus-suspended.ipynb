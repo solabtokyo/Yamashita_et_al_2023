{
 "cells": [
  {
   "cell_type": "markdown",
   "id": "d6bf4e2b-2eec-47c0-8a95-2d5d128a6d0b",
   "metadata": {},
   "source": [
    "# Analyze nuclei of suspended MDCK for Figure 4b\n",
    "Data: reconstructed 3D blue channel images of suspended MDCK"
   ]
  },
  {
   "cell_type": "markdown",
   "id": "9bc8e5a3-59b6-471c-83c0-1af0e7724d59",
   "metadata": {},
   "source": [
    "## Libraries"
   ]
  },
  {
   "cell_type": "code",
   "execution_count": null,
   "id": "4dec38eb-3f2a-4822-99fe-9f24a880b91e",
   "metadata": {},
   "outputs": [],
   "source": [
    "import analysis\n",
    "import numpy as np\n",
    "import pandas as pd\n",
    "\n",
    "import matplotlib.pyplot as plt\n",
    "import seaborn as sns\n",
    "\n",
    "from skimage.color import label2rgb"
   ]
  },
  {
   "cell_type": "markdown",
   "id": "8d7d431c-5788-4dc8-befa-d80c2702eeb2",
   "metadata": {},
   "source": [
    "## Parameters"
   ]
  },
  {
   "cell_type": "code",
   "execution_count": null,
   "id": "002c1c9e-1aa5-45f3-b21a-f6c2eb1a60d4",
   "metadata": {},
   "outputs": [],
   "source": [
    "path = '../../result/'\n",
    "suffix = ['', '_X1', '_X2', '_X3', '_X4', '_X5', '_X6']\n",
    "description = ''\n",
    "scale = np.repeat(0.295*4, 3) # spatial resolution in um scale"
   ]
  },
  {
   "cell_type": "markdown",
   "id": "302506b0-08ff-48d0-97cf-856bf88d116c",
   "metadata": {},
   "source": [
    "## Analysis"
   ]
  },
  {
   "cell_type": "markdown",
   "id": "81ba1617-37d4-4f4d-a5ef-8de7266688fc",
   "metadata": {},
   "source": [
    "### Measurement: 1"
   ]
  },
  {
   "cell_type": "code",
   "execution_count": null,
   "id": "fe410613-7ff4-4323-8da0-f84501041d79",
   "metadata": {},
   "outputs": [],
   "source": [
    "data = 'id551_MDCK_cellonly_01_300Hz_405_250mW_488_150mW_405'"
   ]
  },
  {
   "cell_type": "code",
   "execution_count": null,
   "id": "b8ff68d8-f6d5-4f82-a2b7-06f91637f1fb",
   "metadata": {
    "scrolled": true
   },
   "outputs": [],
   "source": [
    "res = analysis.segment(path+data, suffix, description, sigma_spot_detection=1.5, sigma_outline=0, rescaling_factor=1)"
   ]
  },
  {
   "cell_type": "code",
   "execution_count": null,
   "id": "63eab300-3776-4594-97e9-c5fd0cadd10f",
   "metadata": {},
   "outputs": [],
   "source": [
    "for i in res:\n",
    "    print(len(np.unique(i))-1)"
   ]
  },
  {
   "cell_type": "code",
   "execution_count": null,
   "id": "37391e2a-7cca-4baf-b9d6-4e85945205e7",
   "metadata": {},
   "outputs": [],
   "source": [
    "res_props = analysis.calculate_props(res, suffix, target=('nucleus'), scale=scale)"
   ]
  },
  {
   "cell_type": "code",
   "execution_count": null,
   "id": "4f8a1fe5-46ec-4b25-b37f-e077c99abd56",
   "metadata": {},
   "outputs": [],
   "source": [
    "res_props"
   ]
  },
  {
   "cell_type": "code",
   "execution_count": null,
   "id": "a61f274a-40a9-4444-a74f-f003c9fe9668",
   "metadata": {},
   "outputs": [],
   "source": [
    "for i in range(len(suffix)):\n",
    "    np.save(path+data+suffix[i]+description+'_segmented.npy', res[i])"
   ]
  },
  {
   "cell_type": "code",
   "execution_count": null,
   "id": "a610b22a-14b9-4834-8198-9e3977a193b0",
   "metadata": {},
   "outputs": [],
   "source": [
    "res_props.to_csv(path+data+'_props.csv')"
   ]
  }
 ],
 "metadata": {
  "kernelspec": {
   "display_name": "Python 3 (ipykernel)",
   "language": "python",
   "name": "python3"
  },
  "language_info": {
   "codemirror_mode": {
    "name": "ipython",
    "version": 3
   },
   "file_extension": ".py",
   "mimetype": "text/x-python",
   "name": "python",
   "nbconvert_exporter": "python",
   "pygments_lexer": "ipython3",
   "version": "3.8.16"
  }
 },
 "nbformat": 4,
 "nbformat_minor": 5
}
