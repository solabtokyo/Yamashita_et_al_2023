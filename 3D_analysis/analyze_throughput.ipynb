{
 "cells": [
  {
   "cell_type": "markdown",
   "id": "e619c347-3f7a-42ae-82b4-c74e31f5f623",
   "metadata": {},
   "source": [
    "# Analyze nucleus for throughput calculation\n",
    "\n",
    "Data: \n",
    "- Spheroid: id551_MDCK_unit_on_on_01_300Hz_405_250mW_488_150mW_488_X2_100-400.npy\n",
    "- Nucleus: id551_MDCK_unit_on_on_01_300Hz_405_250mW_488_150mW_405_X2_100-400.npy"
   ]
  },
  {
   "cell_type": "markdown",
   "id": "4c432594-a3e9-4325-b562-9be5feb45576",
   "metadata": {},
   "source": [
    "## Libraries"
   ]
  },
  {
   "cell_type": "code",
   "execution_count": null,
   "id": "a49ea30a-90d2-4b17-b795-ccb946467c12",
   "metadata": {},
   "outputs": [],
   "source": [
    "import analysis\n",
    "import numpy as np\n",
    "import pandas as pd\n",
    "\n",
    "import matplotlib.pyplot as plt\n",
    "import seaborn as sns\n",
    "\n",
    "from skimage.color import label2rgb\n",
    "from skimage.transform import rescale"
   ]
  },
  {
   "cell_type": "markdown",
   "id": "d03904ed-1cd6-422c-a101-3cd5732db58f",
   "metadata": {},
   "source": [
    "## Parameters"
   ]
  },
  {
   "cell_type": "code",
   "execution_count": null,
   "id": "aba72053-4556-42ef-8793-3e12207ae3bd",
   "metadata": {},
   "outputs": [],
   "source": [
    "path = '../../result/'\n",
    "suffix= ['_X2']\n",
    "description = '_100-400'\n",
    "scale = np.repeat(0.295*4, 3) # spatial resolution in μm scale"
   ]
  },
  {
   "cell_type": "markdown",
   "id": "f2381c82-e2c8-4a36-a19d-dc164abe1d5f",
   "metadata": {},
   "source": [
    "## Analysis"
   ]
  },
  {
   "cell_type": "markdown",
   "id": "f4d3e5b2-f25b-424f-9272-e1900821d862",
   "metadata": {},
   "source": [
    "### Spheroid"
   ]
  },
  {
   "cell_type": "code",
   "execution_count": null,
   "id": "c8c15147-d5ad-4ea5-bd41-c6d58f7f26f4",
   "metadata": {},
   "outputs": [],
   "source": [
    "data = 'id551_MDCK_unit_on_on_01_300Hz_405_250mW_488_150mW_488'"
   ]
  },
  {
   "cell_type": "code",
   "execution_count": null,
   "id": "f5080af8-92a7-4bb3-a49e-5536e534b1e3",
   "metadata": {},
   "outputs": [],
   "source": [
    "segmented_spheroid = analysis.segment(data=path+data, suffix=suffix, description=description, \n",
    "                                      sigma_spot_detection = 7, sigma_outline = 2, rescaling_factor=0.25)"
   ]
  },
  {
   "cell_type": "code",
   "execution_count": null,
   "id": "31967df2-8572-4242-b416-3784c4a080af",
   "metadata": {},
   "outputs": [],
   "source": [
    "np.unique(segmented_spheroid[0])"
   ]
  },
  {
   "cell_type": "code",
   "execution_count": null,
   "id": "bebbf10e-57da-42dd-9258-c1e0ed7b6323",
   "metadata": {},
   "outputs": [],
   "source": [
    "props_spheroid = analysis.calculate_props(segmented=segmented_spheroid, suffix=suffix, target=('spheroid'), scale=scale)"
   ]
  },
  {
   "cell_type": "code",
   "execution_count": null,
   "id": "b43e2ead-7381-4fca-a72e-38055c7ca1d5",
   "metadata": {},
   "outputs": [],
   "source": [
    "props_spheroid[0]"
   ]
  },
  {
   "cell_type": "code",
   "execution_count": null,
   "id": "c22f1a5c-42c7-441e-bc1e-0f79b8b41f4f",
   "metadata": {},
   "outputs": [],
   "source": [
    "segmented_spheroid_filtered = analysis.filter_spheroid(segmented=segmented_spheroid, props=props_spheroid, volume_thresh=30000, solidity_thresh=0.7)"
   ]
  },
  {
   "cell_type": "code",
   "execution_count": null,
   "id": "82206182-16c3-4b16-8680-ad5747037019",
   "metadata": {},
   "outputs": [],
   "source": [
    "print('The number of spheroid is:', len(np.unique(segmented_spheroid_filtered[0]))-1)"
   ]
  },
  {
   "cell_type": "code",
   "execution_count": null,
   "id": "b62a62f4-35ed-43ac-8bf5-507d51620264",
   "metadata": {},
   "outputs": [],
   "source": [
    "img_488 = np.load(path+data+suffix[0]+description+'.npy')\n",
    "img_488 = rescale(img_488, 0.25, anti_aliasing=True)"
   ]
  },
  {
   "cell_type": "code",
   "execution_count": null,
   "id": "5d6359a6-7e0e-4280-9cc3-def8aaed8ed8",
   "metadata": {},
   "outputs": [],
   "source": [
    "labels = label2rgb(segmented_spheroid_filtered[0][50, ...])\n",
    "\n",
    "fig, ax = plt.subplots(1, 2, figsize=(10, 5))\n",
    "ax[0].imshow(img_488[50, ...])\n",
    "ax[1].imshow(labels)"
   ]
  },
  {
   "cell_type": "code",
   "execution_count": null,
   "id": "74ef1c49-479f-4361-b9fc-138051864a10",
   "metadata": {},
   "outputs": [],
   "source": [
    "labels = label2rgb(segmented_spheroid[0][50, ...])\n",
    "\n",
    "fig, ax = plt.subplots(1, 2, figsize=(10, 5))\n",
    "ax[0].imshow(img_488[50, ...])\n",
    "ax[1].imshow(labels)"
   ]
  },
  {
   "cell_type": "code",
   "execution_count": null,
   "id": "6ccc51a9-1827-4480-a9a1-de149641c247",
   "metadata": {},
   "outputs": [],
   "source": [
    "np.save(path+data+suffix[0]+description+'_segmented.npy', segmented_spheroid[0])\n",
    "np.save(path+data+suffix[0]+description+'_segmented_filtered.npy', segmented_spheroid_filtered[0])\n",
    "props_spheroid[0].to_csv(path+data+suffix[0]+description+'_props.csv')"
   ]
  },
  {
   "cell_type": "markdown",
   "id": "5d74e360-d8c4-477f-92a8-463835e2278c",
   "metadata": {},
   "source": [
    "### Nucleus"
   ]
  },
  {
   "cell_type": "code",
   "execution_count": null,
   "id": "0351acdc-c460-4fb5-ac08-47eca2b1312e",
   "metadata": {},
   "outputs": [],
   "source": [
    "data = 'id551_MDCK_unit_on_on_01_300Hz_405_250mW_488_150mW_405'"
   ]
  },
  {
   "cell_type": "code",
   "execution_count": null,
   "id": "0f47e48e-bb23-493f-9620-9278bf138ee7",
   "metadata": {
    "scrolled": true
   },
   "outputs": [],
   "source": [
    "segmented_nucleus = analysis.segment(data=path+data, suffix=suffix, description=description, sigma_spot_detection = 1.5, sigma_outline = 0, rescaling_factor=0.25)"
   ]
  },
  {
   "cell_type": "code",
   "execution_count": null,
   "id": "8fa966a2-cf8f-4896-a9ba-417fc1c4eb15",
   "metadata": {},
   "outputs": [],
   "source": [
    "print(segmented_spheroid_filtered[0].shape)\n",
    "print(segmented_nucleus[0].shape)"
   ]
  },
  {
   "cell_type": "code",
   "execution_count": null,
   "id": "c54ade69-e4ad-4566-a637-4893d2a7bb77",
   "metadata": {},
   "outputs": [],
   "source": [
    "segmented_nucleus_filtered = analysis.filter_nucleus(nucleus=segmented_nucleus, spheroid=segmented_spheroid_filtered, suffix=suffix)"
   ]
  },
  {
   "cell_type": "code",
   "execution_count": null,
   "id": "ed7ddef8-5d50-480d-b474-002eada459be",
   "metadata": {},
   "outputs": [],
   "source": [
    "img_405 = np.load(path+data+suffix[0]+description+'.npy')\n",
    "img_405 = rescale(img_405, 0.25, anti_aliasing=True)"
   ]
  },
  {
   "cell_type": "code",
   "execution_count": null,
   "id": "9bff31f3-7cab-4015-ba39-246fa0437c1b",
   "metadata": {},
   "outputs": [],
   "source": [
    "labels_spheroid = label2rgb(segmented_spheroid_filtered[0][50, :200, :200])\n",
    "labels_nucleus = label2rgb(segmented_nucleus[0][50, :200, :200])\n",
    "labels_nucleus_filtered = label2rgb(segmented_nucleus_filtered[0][50, :200, :200])\n",
    "\n",
    "fig, ax = plt.subplots(2, 2, figsize=(10, 10))\n",
    "ax[0, 0].imshow(img_405[50, :200, :200])\n",
    "ax[0, 1].imshow(labels_spheroid)\n",
    "ax[1, 0].imshow(labels_nucleus)\n",
    "ax[1, 1].imshow(labels_nucleus_filtered)"
   ]
  },
  {
   "cell_type": "code",
   "execution_count": null,
   "id": "8abbc203-092b-46a7-b1bc-fe5715a526a5",
   "metadata": {},
   "outputs": [],
   "source": [
    "props_nucleus = analysis.calculate_props(segmented=segmented_nucleus_filtered, suffix=suffix, target=('nucleus'), scale=scale)"
   ]
  },
  {
   "cell_type": "code",
   "execution_count": null,
   "id": "634fbec0-66cd-4199-9b25-2a12c3fc7660",
   "metadata": {},
   "outputs": [],
   "source": [
    "props_nucleus"
   ]
  },
  {
   "cell_type": "code",
   "execution_count": null,
   "id": "466b5272-fd9d-4192-abfe-a31e26e4f746",
   "metadata": {},
   "outputs": [],
   "source": [
    "np.save(path+data+suffix[0]+description+'_segmented.npy', segmented_nucleus[0])\n",
    "np.save(path+data+suffix[0]+description+'_segmented_filtered.npy', segmented_nucleus[0])\n",
    "props_nucleus.to_csv(path+data+suffix[0]+description+'_props.csv')"
   ]
  },
  {
   "cell_type": "code",
   "execution_count": null,
   "id": "6ca6906a-1a3e-42a5-b249-533e2fed67d6",
   "metadata": {},
   "outputs": [],
   "source": [
    "fig, axes = plt.subplots(2, 3, figsize=(15, 10))\n",
    "axes = axes.flatten()\n",
    "\n",
    "columns = ['Volume', 'Surface area', 'Surface-area-to-Volume', 'Aspect ratio', 'Solidity']\n",
    "\n",
    "for i, ax in enumerate(axes):\n",
    "    if i == 5:\n",
    "        axes[i].set_axis_off()\n",
    "    else:\n",
    "        sns.violinplot(data=props_nucleus, y=columns[i], ax=ax)\n",
    "\n",
    "plt.subplots_adjust(wspace=0.35, hspace=0.3)"
   ]
  }
 ],
 "metadata": {
  "kernelspec": {
   "display_name": "Python 3 (ipykernel)",
   "language": "python",
   "name": "python3"
  },
  "language_info": {
   "codemirror_mode": {
    "name": "ipython",
    "version": 3
   },
   "file_extension": ".py",
   "mimetype": "text/x-python",
   "name": "python",
   "nbconvert_exporter": "python",
   "pygments_lexer": "ipython3",
   "version": "3.8.16"
  }
 },
 "nbformat": 4,
 "nbformat_minor": 5
}
