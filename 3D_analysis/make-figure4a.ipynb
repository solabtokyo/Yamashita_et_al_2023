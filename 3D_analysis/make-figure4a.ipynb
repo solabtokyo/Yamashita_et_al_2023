{
 "cells": [
  {
   "cell_type": "markdown",
   "id": "e619c347-3f7a-42ae-82b4-c74e31f5f623",
   "metadata": {},
   "source": [
    "# Make figure 4a\n",
    "\n",
    "Data: original time-series 2D images of blue and green channels"
   ]
  },
  {
   "cell_type": "code",
   "execution_count": null,
   "id": "a49ea30a-90d2-4b17-b795-ccb946467c12",
   "metadata": {},
   "outputs": [],
   "source": [
    "import numpy as np\n",
    "import recon\n",
    "import matplotlib.pyplot as plt\n",
    "from skimage.color import label2rgb\n",
    "from skimage.exposure import rescale_intensity\n",
    "import tifffile"
   ]
  },
  {
   "cell_type": "markdown",
   "id": "f80d1f89-b93b-41b1-90be-11b76559defa",
   "metadata": {},
   "source": [
    "## Directories"
   ]
  },
  {
   "cell_type": "code",
   "execution_count": null,
   "id": "6910d512-bd0a-42ef-8e33-d996a63a4404",
   "metadata": {},
   "outputs": [],
   "source": [
    "# data paths\n",
    "path_calib = '../../data/3D/calib/'\n",
    "path_rawdata = '../../data/3D/raw/'\n",
    "path_result = '../../result/'"
   ]
  },
  {
   "cell_type": "markdown",
   "id": "306b5e14-7b10-4e74-a516-d57d588360ea",
   "metadata": {},
   "source": [
    "## Reconstruction"
   ]
  },
  {
   "cell_type": "markdown",
   "id": "aefd482e-ab5e-4dda-86bf-39c61a6fa3cf",
   "metadata": {},
   "source": [
    "### Parameters"
   ]
  },
  {
   "cell_type": "code",
   "execution_count": null,
   "id": "bc49c7c4-a8c7-4106-973b-4cebec534fc1",
   "metadata": {},
   "outputs": [],
   "source": [
    "mean_aspect_ratio = 7.83\n",
    "suffix=['']"
   ]
  },
  {
   "cell_type": "markdown",
   "id": "70681da4-5782-42d6-bf33-9011cd8a8895",
   "metadata": {},
   "source": [
    "### Spheroid"
   ]
  },
  {
   "cell_type": "code",
   "execution_count": null,
   "id": "1be43b51-4766-43e9-abb8-caccf1464af8",
   "metadata": {},
   "outputs": [],
   "source": [
    "# data name\n",
    "org_data = 'id551_MDCK_unit_on_on_01_300Hz_405_250mW_488_150mW_'"
   ]
  },
  {
   "cell_type": "code",
   "execution_count": null,
   "id": "6c4d9148-0b71-4283-b2e3-d7cf8dfbb97f",
   "metadata": {},
   "outputs": [],
   "source": [
    "recon.reconstruction(data=org_data, suffix=suffix, wavelength='488', fps=300, mean_aspect_ratio=mean_aspect_ratio, \n",
    "                     raw=path_rawdata, calib=path_calib, result=path_result, polarity=0, rescaling_factor=1, print_loop=False, \n",
    "                     start_end_frames=(0, 1200))"
   ]
  },
  {
   "cell_type": "markdown",
   "id": "cb9b2fcc-5900-4d27-a7ec-45a6d20cb6c8",
   "metadata": {},
   "source": [
    "### Neucleus"
   ]
  },
  {
   "cell_type": "code",
   "execution_count": null,
   "id": "d2a6d45c-c79a-4211-9268-975f12ea0ef5",
   "metadata": {},
   "outputs": [],
   "source": [
    "recon.reconstruction(data=org_data, suffix=suffix, wavelength='405', fps=300, mean_aspect_ratio=mean_aspect_ratio, \n",
    "                     raw=path_rawdata, calib=path_calib, result=path_result, polarity=0, rescaling_factor=1, print_loop=False, \n",
    "                     start_end_frames=(0, 1200))"
   ]
  },
  {
   "cell_type": "markdown",
   "id": "44eeaa0f-f9d6-4877-b05f-d385c0f42828",
   "metadata": {},
   "source": [
    "## Make images"
   ]
  },
  {
   "cell_type": "markdown",
   "id": "1622b9c9-4f86-483d-abad-3202e7d74b26",
   "metadata": {},
   "source": [
    "### Spheroid"
   ]
  },
  {
   "cell_type": "code",
   "execution_count": null,
   "id": "c8c15147-d5ad-4ea5-bd41-c6d58f7f26f4",
   "metadata": {},
   "outputs": [],
   "source": [
    "path = '../../result/'\n",
    "data = 'id551_MDCK_unit_on_on_01_300Hz_405_250mW_488_150mW_488'\n",
    "suffix = ''"
   ]
  },
  {
   "cell_type": "code",
   "execution_count": null,
   "id": "6578b6ad-48f0-4049-bd59-e62843030e3e",
   "metadata": {},
   "outputs": [],
   "source": [
    "img = np.load(path+data+suffix+'.npy')\n",
    "segmented_spheroid = np.load(path+data+suffix+'_segmented.npy')\n",
    "segmented_spheroid_filtered = np.load(path+data+suffix+'_segmented_filtered.npy')"
   ]
  },
  {
   "cell_type": "code",
   "execution_count": null,
   "id": "64929f22-d8a8-45a2-bc1c-8b6a319d237f",
   "metadata": {},
   "outputs": [],
   "source": [
    "img.shape"
   ]
  },
  {
   "cell_type": "code",
   "execution_count": null,
   "id": "33a47f83-f5e6-489c-8d42-8398efb5bbd8",
   "metadata": {},
   "outputs": [],
   "source": [
    "coord = [50, 0, 1800]\n",
    "\n",
    "color = label2rgb(segmented_spheroid[coord[0], coord[1]:coord[1]+400, coord[2]:coord[2]+600])\n",
    "color_filtered = label2rgb(segmented_spheroid_filtered[coord[0], coord[1]:coord[1]+400, coord[2]:coord[2]+600])\n",
    "\n",
    "fig, ax = plt.subplots(3, 1, figsize=(5, 8))\n",
    "ax[0].imshow(img[coord[0], coord[1]:coord[1]+400, coord[2]:coord[2]+600])\n",
    "ax[1].imshow(color)\n",
    "ax[2].imshow(color_filtered)\n",
    "\n",
    "plt.tight_layout()"
   ]
  },
  {
   "cell_type": "code",
   "execution_count": null,
   "id": "f5080af8-92a7-4bb3-a49e-5536e534b1e3",
   "metadata": {},
   "outputs": [],
   "source": [
    "coord = [50, 105, 1962]\n",
    "\n",
    "color = label2rgb(segmented_spheroid[coord[0], coord[1]:coord[1]+120, coord[2]:coord[2]+120])\n",
    "color_filtered = label2rgb(segmented_spheroid_filtered[coord[0], coord[1]:coord[1]+120, coord[2]:coord[2]+120])\n",
    "\n",
    "fig, ax = plt.subplots(3, 1, figsize=(5, 8))\n",
    "ax[0].imshow(img[coord[0], coord[1]:coord[1]+120, coord[2]:coord[2]+120])\n",
    "ax[1].imshow(color)\n",
    "ax[2].imshow(color_filtered)\n",
    "\n",
    "plt.tight_layout()"
   ]
  },
  {
   "cell_type": "code",
   "execution_count": null,
   "id": "3e002806-e237-4de6-bac9-ab80289a2467",
   "metadata": {},
   "outputs": [],
   "source": [
    "coord = [50, 105, 1962]\n",
    "\n",
    "color = label2rgb(segmented_spheroid[coord[0], coord[1]:coord[1]+120, coord[2]:coord[2]+120])\n",
    "color_filtered = color.copy()\n",
    "for i in range(color_filtered.shape[2]):\n",
    "    color_filtered[..., i] = np.where(segmented_spheroid_filtered[coord[0], coord[1]:coord[1]+120, coord[2]:coord[2]+120]==0, \n",
    "                                      0, color_filtered[..., i])\n",
    "\n",
    "fig, ax = plt.subplots(3, 1, figsize=(5, 8))\n",
    "ax[0].imshow(img[coord[0], coord[1]:coord[1]+120, coord[2]:coord[2]+120])\n",
    "ax[1].imshow(color)\n",
    "ax[2].imshow(color_filtered)\n",
    "\n",
    "plt.tight_layout()"
   ]
  },
  {
   "cell_type": "code",
   "execution_count": null,
   "id": "fb127f9e-d280-456e-ae7e-5e1d2a45d113",
   "metadata": {},
   "outputs": [],
   "source": [
    "img_org = np.load(path+data+suffix+'_0-1200.npy')"
   ]
  },
  {
   "cell_type": "code",
   "execution_count": null,
   "id": "d246a66e-93a8-4f51-a2c5-254f2c82fc49",
   "metadata": {},
   "outputs": [],
   "source": [
    "img_org.shape"
   ]
  },
  {
   "cell_type": "code",
   "execution_count": null,
   "id": "2d655cf2-5377-4c45-ac52-5c11d2cde37a",
   "metadata": {},
   "outputs": [],
   "source": [
    "coord = [200, 420, 7848]\n",
    "plt.imshow(img_org[coord[0], coord[1]:coord[1]+480, coord[2]:coord[2]+480])"
   ]
  },
  {
   "cell_type": "code",
   "execution_count": null,
   "id": "e16fd15d-9048-4952-bf5c-cae9d9f50bc9",
   "metadata": {},
   "outputs": [],
   "source": [
    "coord = [200, 420, 7848]\n",
    "\n",
    "img_cropped = img_org[coord[0], coord[1]:coord[1]+480, coord[2]:coord[2]+480]\n",
    "img_cropped = rescale_intensity(img_cropped, in_range=(100, 2000))\n",
    "tifffile.imwrite(path+'spheroid_cropped_large.tif', img_cropped)"
   ]
  },
  {
   "cell_type": "code",
   "execution_count": null,
   "id": "ce3b81c0-5f96-446c-884a-b3b93243fa16",
   "metadata": {},
   "outputs": [],
   "source": [
    "coord = [50, 105, 1962]\n",
    "\n",
    "color = label2rgb(segmented_spheroid[coord[0], coord[1]:coord[1]+120, coord[2]:coord[2]+120])\n",
    "\n",
    "plt.figure(figsize=(3.5, 3.5))\n",
    "plt.imshow(color)\n",
    "plt.axis('off')\n",
    "plt.savefig(path+'segmented_spheroid_cropped.pdf', bbox_inches='tight', pad_inches=0.05)"
   ]
  },
  {
   "cell_type": "code",
   "execution_count": null,
   "id": "9416470a-e2a7-4385-ad11-260d13851887",
   "metadata": {},
   "outputs": [],
   "source": [
    "coord = [50, 105, 1962]\n",
    "\n",
    "color = label2rgb(segmented_spheroid[coord[0], coord[1]:coord[1]+120, coord[2]:coord[2]+120])\n",
    "color_filtered = color.copy()\n",
    "for i in range(color_filtered.shape[2]):\n",
    "    color_filtered[..., i] = np.where(segmented_spheroid_filtered[coord[0], coord[1]:coord[1]+120, coord[2]:coord[2]+120]==0, \n",
    "                                      0, color_filtered[..., i])\n",
    "\n",
    "plt.figure(figsize=(3.5, 3.5))\n",
    "plt.imshow(color_filtered)\n",
    "plt.axis('off')\n",
    "plt.savefig(path+'segmented_spheroid_filtered_cropped.pdf', bbox_inches='tight', pad_inches=0.05)"
   ]
  },
  {
   "cell_type": "markdown",
   "id": "920acc3d-a19c-44cc-9e19-bf95987c98b2",
   "metadata": {},
   "source": [
    "### Nucleus"
   ]
  },
  {
   "cell_type": "code",
   "execution_count": null,
   "id": "568639b4-5bfa-4c1f-a1f3-e539440eefcd",
   "metadata": {},
   "outputs": [],
   "source": [
    "data = 'id551_MDCK_unit_on_on_01_300Hz_405_250mW_488_150mW_405'\n",
    "suffix = ''"
   ]
  },
  {
   "cell_type": "code",
   "execution_count": null,
   "id": "f3ae3773-09c6-492f-8f18-23f8ae0dc25f",
   "metadata": {},
   "outputs": [],
   "source": [
    "img = np.load(path+data+suffix+'.npy')\n",
    "segmented_nucleus = np.load(path+data+suffix+'_segmented.npy')\n",
    "segmented_nucleus_filtered = np.load(path+data+suffix+'_segmented_filtered.npy')"
   ]
  },
  {
   "cell_type": "code",
   "execution_count": null,
   "id": "eafe585f-55c5-43f4-8ee9-e57f67fca543",
   "metadata": {},
   "outputs": [],
   "source": [
    "coord = [50, 105, 1962]\n",
    "\n",
    "color = label2rgb(segmented_nucleus[coord[0], coord[1]:coord[1]+120, coord[2]:coord[2]+120])\n",
    "color_filtered = color.copy()\n",
    "for i in range(color_filtered.shape[2]):\n",
    "    color_filtered[..., i] = np.where(segmented_nucleus_filtered[coord[0], coord[1]:coord[1]+120, coord[2]:coord[2]+120]==0, \n",
    "                                      0, color_filtered[..., i])\n",
    "\n",
    "fig, ax = plt.subplots(3, 1, figsize=(5, 8))\n",
    "ax[0].imshow(img[coord[0], coord[1]:coord[1]+120, coord[2]:coord[2]+120])\n",
    "ax[1].imshow(color)\n",
    "ax[2].imshow(color_filtered)\n",
    "\n",
    "plt.tight_layout()"
   ]
  },
  {
   "cell_type": "code",
   "execution_count": null,
   "id": "ea9a9029-b3ca-4cc7-82d3-859bd83af154",
   "metadata": {},
   "outputs": [],
   "source": [
    "img_org = np.load(path+data+suffix+'_0-1200.npy')"
   ]
  },
  {
   "cell_type": "code",
   "execution_count": null,
   "id": "9b51f5f2-7915-4952-8c8b-518a503ae0dd",
   "metadata": {},
   "outputs": [],
   "source": [
    "img_org.shape"
   ]
  },
  {
   "cell_type": "code",
   "execution_count": null,
   "id": "5edab2d8-813f-4226-a7b0-15415bafe7f9",
   "metadata": {},
   "outputs": [],
   "source": [
    "coord = [200, 420, 7848]\n",
    "plt.imshow(img_org[coord[0], coord[1]:coord[1]+480, coord[2]:coord[2]+480])"
   ]
  },
  {
   "cell_type": "code",
   "execution_count": null,
   "id": "7e59bfbb-40ae-4de1-b0eb-c2747e178f6f",
   "metadata": {},
   "outputs": [],
   "source": [
    "coord = [200, 420, 7848]\n",
    "\n",
    "img_cropped = img_org[coord[0], coord[1]:coord[1]+480, coord[2]:coord[2]+480]\n",
    "img_cropped = rescale_intensity(img_cropped, in_range=(100, 2000))\n",
    "tifffile.imwrite(path+'nucleus_cropped_large.tif', img_cropped)"
   ]
  },
  {
   "cell_type": "code",
   "execution_count": null,
   "id": "933bce00-276f-4bad-a65e-65228e532177",
   "metadata": {},
   "outputs": [],
   "source": [
    "coord = [50, 105, 1962]\n",
    "\n",
    "color = label2rgb(segmented_nucleus[coord[0], coord[1]:coord[1]+120, coord[2]:coord[2]+120])\n",
    "\n",
    "plt.figure(figsize=(3.5, 3.5))\n",
    "plt.imshow(color)\n",
    "plt.axis('off')\n",
    "plt.savefig(path+'segmented_nucleus_cropped.pdf', bbox_inches='tight', pad_inches=0.05)"
   ]
  },
  {
   "cell_type": "code",
   "execution_count": null,
   "id": "8b775929-4058-440a-b29c-d85f9979a390",
   "metadata": {},
   "outputs": [],
   "source": [
    "coord = [50, 105, 1962]\n",
    "\n",
    "color = label2rgb(segmented_nucleus[coord[0], coord[1]:coord[1]+120, coord[2]:coord[2]+120])\n",
    "color_filtered = color.copy()\n",
    "for i in range(color_filtered.shape[2]):\n",
    "    color_filtered[..., i] = np.where(segmented_nucleus_filtered[coord[0], coord[1]:coord[1]+120, coord[2]:coord[2]+120]==0, \n",
    "                                      0, color_filtered[..., i])\n",
    "\n",
    "plt.figure(figsize=(3.5, 3.5))\n",
    "plt.imshow(color_filtered)\n",
    "plt.axis('off')\n",
    "plt.savefig(path+'segmented_nucleus_filtered_cropped.pdf', bbox_inches='tight', pad_inches=0.05)"
   ]
  }
 ],
 "metadata": {
  "kernelspec": {
   "display_name": "Python 3 (ipykernel)",
   "language": "python",
   "name": "python3"
  },
  "language_info": {
   "codemirror_mode": {
    "name": "ipython",
    "version": 3
   },
   "file_extension": ".py",
   "mimetype": "text/x-python",
   "name": "python",
   "nbconvert_exporter": "python",
   "pygments_lexer": "ipython3",
   "version": "3.8.16"
  }
 },
 "nbformat": 4,
 "nbformat_minor": 5
}
