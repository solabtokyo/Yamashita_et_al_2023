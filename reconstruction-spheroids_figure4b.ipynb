{
 "cells": [
  {
   "cell_type": "markdown",
   "id": "793837a4-7a8a-461e-b69f-23ced6d07c4a",
   "metadata": {},
   "source": [
    "# Reconstruct 3D image of spheroids for Figure 4b\n",
    "Data: 3D blue and green channel images of MDCK spheroids"
   ]
  },
  {
   "cell_type": "markdown",
   "id": "8d14e164-1bae-4994-a594-0d00657d366d",
   "metadata": {},
   "source": [
    "## Libraries"
   ]
  },
  {
   "cell_type": "code",
   "execution_count": 1,
   "id": "c354b41b-3a40-487a-8c23-40e140c36431",
   "metadata": {},
   "outputs": [],
   "source": [
    "import numpy as np\n",
    "import myfunctions as myfunc\n",
    "from astropy.io import fits\n",
    "from skimage.transform import rescale\n",
    "import matplotlib.pyplot as plt"
   ]
  },
  {
   "cell_type": "markdown",
   "id": "c48be92a-375b-49a6-8e37-ac9242ab4ea1",
   "metadata": {},
   "source": [
    "## Functions"
   ]
  },
  {
   "cell_type": "code",
   "execution_count": null,
   "id": "8d9a6555-dd7f-433b-a2b5-9446ca320c36",
   "metadata": {},
   "outputs": [],
   "source": [
    "def reconstruction(data, suffix, raw, calib, result, wavelength,\n",
    "                   ex, bg, theta, pixelsize, mag, fps, v, F_indexmismatch, polarity, coeff_405,\n",
    "                   ex_bg_488=file_488_ex_bg, print_loop=False, kernel_movmean=10, shift1=(0, 0, 0), rescaling_factor=0.25):\n",
    "    '''\n",
    "    Reconstruct 3D image\n",
    "\n",
    "    data: data name of the input data\n",
    "    suffix: suffix of the data\n",
    "    raw: path of raw data\n",
    "    calib: path of calibration data\n",
    "    result: path of result\n",
    "    wavelength: wavelength of excitation (405, 488)\n",
    "    ex: excitation profile\n",
    "    bg: background profile\n",
    "    theta: angle of light sheet in water\n",
    "    pixelsize: pixel size of the image sensor in um\n",
    "    mag: magnification rate of imaging\n",
    "    fps: frame per second in Hz\n",
    "    v: scanning velocity in the flow direction in um/s\n",
    "    F_indexmismatch: axial elongation factor due to refractive-index mismatch of remote focusing\n",
    "    polarity: forward or reverse scanning direction\n",
    "    coeff_405: coefficient to calibrate aberration of blue channel image\n",
    "    ex_bg_488: background profile of 488 excitation\n",
    "    print_loop: whether to print loop counter\n",
    "    kernel_movmean: bin width to calculate background\n",
    "    shift1: shit of 405 image for spatial calibration\n",
    "    rescaling_factor: factor to rescale image\n",
    "    '''\n",
    "    if wavelength=='405':\n",
    "        for s in suffix:\n",
    "            print(s)\n",
    "            file = path_rawdata+data_name+s+'.fits'\n",
    "            img = fits.getdata(file)\n",
    "            (dim_flow, dim_height, dim_width) = img.shape\n",
    "\n",
    "            # prepare an array to store the reconstructed image\n",
    "            T, dim_height_recon, dim_flow_recon = myfunc.get_affine_parameters(theta,pixelsize,mag, fps, v, F_indexmismatch/coeff_405, polarity, dim_height, dim_flow)\n",
    "            img_stack = np.float32(np.transpose(img, [1,2,0]))\n",
    "            img_out = np.float32(np.zeros((dim_height_recon, dim_width, dim_flow_recon)))\n",
    "            print('initialized')\n",
    "\n",
    "            # calculate background and excitation profile\n",
    "            img_bg, img_ex =  myfunc.calc_bg_ex_profiles(calib+bg, calib+ex, calib+ex_bg_488, kernel_movmean)\n",
    "            \n",
    "            if polarity == 1:\n",
    "                img_stack = np.flip(img_stack, 0)\n",
    "\n",
    "            # calibrate the input image\n",
    "            myfunc.bg_ex_calib(img_stack, img_bg, img_ex, dim_flow, '405', print_loop)\n",
    "\n",
    "            # reconstruct\n",
    "            myfunc.affine_transform_3D(img_out, img_stack[:,:,0:dim_flow-1], T[:2], dim_width, dim_flow_recon, dim_height_recon, '405', print_loop)\n",
    "\n",
    "            # rescale the image\n",
    "            if rescaling_factor!=1:\n",
    "                img_out = rescale(img_out, rescaling_factor, anti_aliasing=True)\n",
    "\n",
    "            # spatially calibrate the image\n",
    "            img_out = np.roll(img_out, shift1, axis=(0,1,2))       \n",
    "            img_out = np.flip(img_out, axis=0)\n",
    "\n",
    "            np.save(f'{result}{data}{s}.npy', img_out)\n",
    "\n",
    "    if wavelength=='488':\n",
    "        for s in suffix:\n",
    "            print(s)\n",
    "            file = path_rawdata+data_name+s+'.fits'\n",
    "            img = fits.getdata(file)\n",
    "            (dim_flow, dim_height, dim_width) = img.shape\n",
    "            \n",
    "            T, dim_height_recon, dim_flow_recon = myfunc.get_affine_parameters(theta,pixelsize,mag, fps, v, F_indexmismatch, polarity, dim_height, dim_flow)\n",
    "            img_stack = np.float32(np.transpose(img, [1,2,0]))\n",
    "            img_out = np.float32(np.zeros((dim_height_recon, dim_width, dim_flow_recon)))\n",
    "            print('initialized')\n",
    "\n",
    "            img_bg, img_ex =  myfunc.calc_bg_ex_profiles(calib+bg, calib+ex, calib+ex_bg_488, kernel_movmean)\n",
    "            \n",
    "            if polarity == 1:\n",
    "                img_stack = np.flip(img_stack, 0)\n",
    "            \n",
    "            myfunc.bg_ex_calib(img_stack, img_bg, img_ex, dim_flow, '488', print_loop)\n",
    "            \n",
    "            myfunc.affine_transform_3D(img_out, img_stack[:,:,0:dim_flow-1], T[:2], dim_width, dim_flow_recon, dim_height_recon, '488', print_loop)\n",
    "            \n",
    "            if rescaling_factor!=1:\n",
    "                img_out = rescale(img_out, rescaling_factor, anti_aliasing=True)\n",
    "            \n",
    "            img_out = np.flip(img_out, axis=0)\n",
    "\n",
    "            np.save(f'{result}{data}{s}.npy', img_out)"
   ]
  },
  {
   "cell_type": "markdown",
   "id": "996e9c49-fb4a-4135-9ea7-80ea62f42808",
   "metadata": {},
   "source": [
    "## Parameters"
   ]
  },
  {
   "cell_type": "code",
   "execution_count": null,
   "id": "3e919c6e-03cf-4a94-80da-99a7d0f146b2",
   "metadata": {},
   "outputs": [],
   "source": [
    "# acquisition parameters\n",
    "theta = np.arcsin(0.62/1.33)\n",
    "pixelsize = 6.5\n",
    "mag = 200/9\n",
    "fps = 300\n",
    "F_indexmismatch = 1.412\n",
    "polarity =  0\n",
    "coeff_405 = 0.994"
   ]
  },
  {
   "cell_type": "code",
   "execution_count": 1,
   "id": "773840c0-6329-4b1d-8798-51ceeeaa8602",
   "metadata": {},
   "outputs": [],
   "source": [
    "# file names for calibrartion\n",
    "file_405_ex = 'ex_405.tif'\n",
    "file_488_ex = 'ex_488.tif'\n",
    "file_488_ex_bg = 'bg_1Hz_100average_488.tif'\n",
    "file_405_bg = 'bg_300Hz_100average_405.tif'\n",
    "file_488_bg = 'bg_300Hz_100average_488.tif'"
   ]
  },
  {
   "cell_type": "code",
   "execution_count": 3,
   "id": "a2e231b5-4895-4f9c-a413-c62e2e2fa60c",
   "metadata": {},
   "outputs": [],
   "source": [
    "suffix = ['', '_X1', '_X2', '_X3', '_X4', '_X5', '_X6']"
   ]
  },
  {
   "cell_type": "markdown",
   "id": "026549c9-dd5b-449e-93b1-f27a4282512d",
   "metadata": {},
   "source": [
    "## Directories"
   ]
  },
  {
   "cell_type": "code",
   "execution_count": 2,
   "id": "cafcdf98-fc5c-4dc0-b7aa-cc61a5d282e6",
   "metadata": {},
   "outputs": [],
   "source": [
    "calib = '../data/3D/calib/'\n",
    "raw = '../data/3D/raw/'\n",
    "result = '../result/'"
   ]
  },
  {
   "cell_type": "markdown",
   "id": "f813cf9c-2801-4ba3-969b-6855e5b3c34b",
   "metadata": {},
   "source": [
    "## Analysis"
   ]
  },
  {
   "cell_type": "markdown",
   "id": "81629dcc-38d0-4858-990a-07154c7c46b6",
   "metadata": {},
   "source": [
    "### Measurement 1"
   ]
  },
  {
   "cell_type": "code",
   "execution_count": null,
   "id": "4b7681d1-a073-4c06-b90f-2104231f5796",
   "metadata": {},
   "outputs": [],
   "source": [
    "file_405 = 'id551_MDCK_unit_on_on_01_300Hz_405_250mW_488_150mW_405'\n",
    "file_488 = 'id551_MDCK_unit_on_on_01_300Hz_405_250mW_488_150mW_488'"
   ]
  },
  {
   "cell_type": "code",
   "execution_count": 4,
   "id": "75648108-d80d-42ce-bc87-3e8a2d4fc737",
   "metadata": {},
   "outputs": [
    {
     "ename": "NameError",
     "evalue": "name 'fps' is not defined",
     "output_type": "error",
     "traceback": [
      "\u001b[0;31m---------------------------------------------------------------------------\u001b[0m",
      "\u001b[0;31mNameError\u001b[0m                                 Traceback (most recent call last)",
      "Cell \u001b[0;32mIn[4], line 3\u001b[0m\n\u001b[1;32m      1\u001b[0m \u001b[38;5;66;03m# velocity calculation\u001b[39;00m\n\u001b[1;32m      2\u001b[0m mean_aspect_ratio \u001b[38;5;241m=\u001b[39m \u001b[38;5;241m7.83\u001b[39m \u001b[38;5;66;03m# mean aspect ratio of beads\u001b[39;00m\n\u001b[0;32m----> 3\u001b[0m v \u001b[38;5;241m=\u001b[39m mean_aspect_ratio\u001b[38;5;241m*\u001b[39m\u001b[43mfps\u001b[49m\u001b[38;5;241m*\u001b[39m(pixelsize\u001b[38;5;241m/\u001b[39mmag)\n",
      "\u001b[0;31mNameError\u001b[0m: name 'fps' is not defined"
     ]
    }
   ],
   "source": [
    "# velocity calculation\n",
    "mean_aspect_ratio = 7.83 # mean aspect ratio of beads\n",
    "v = mean_aspect_ratio*fps*(pixelsize/mag)"
   ]
  },
  {
   "cell_type": "code",
   "execution_count": 8,
   "id": "46921352-37f1-4bc9-8d14-f1541b3c8c82",
   "metadata": {},
   "outputs": [
    {
     "name": "stdout",
     "output_type": "stream",
     "text": [
      "\n",
      "initialized\n",
      "_X1\n",
      "initialized\n",
      "_X2\n",
      "initialized\n",
      "_X3\n",
      "initialized\n",
      "_X4\n",
      "initialized\n",
      "_X5\n",
      "initialized\n",
      "_X6\n",
      "initialized\n"
     ]
    }
   ],
   "source": [
    "reconstruction(data_name=file_405, suffix=suffix, wavelength='405', ex=file_405_ex, bg=file_405_bg, theta=theta,\n",
    "               pixelsize=pixelsize, mag=mag, fps=fps, v=v, F_indexmismatch=F_indexmismatch, polarity=polarity, coeff_405=coeff_405,\n",
    "               ex_bg_488=file_488_ex_bg, print_loop=False, kernel_movmean=10, shift1=(0, 0, 0), rescaling_factor=0.25)"
   ]
  },
  {
   "cell_type": "code",
   "execution_count": 9,
   "id": "0bea5171-17fa-43dd-bb3d-6b3919f1e01f",
   "metadata": {},
   "outputs": [
    {
     "name": "stdout",
     "output_type": "stream",
     "text": [
      "\n",
      "initialized\n",
      "_X1\n",
      "initialized\n",
      "_X2\n",
      "initialized\n",
      "_X3\n",
      "initialized\n",
      "_X4\n",
      "initialized\n",
      "_X5\n",
      "initialized\n",
      "_X6\n",
      "initialized\n"
     ]
    }
   ],
   "source": [
    "reconstruction(data_name=file_488, suffix=suffix, wavelength='488', ex=file_488_ex, bg=file_488_bg, theta=theta,\n",
    "               pixelsize=pixelsize, mag=mag, fps=fps, v=v, F_indexmismatch=F_indexmismatch, polarity=polarity, coeff_405=coeff_405,\n",
    "               ex_bg_488=file_488_ex_bg, print_loop=False, kernel_movmean=10, shift1=(0, 0, 0), rescaling_factor=0.25)"
   ]
  },
  {
   "cell_type": "markdown",
   "id": "b92bee93-6657-4574-9514-2341d4b83b8b",
   "metadata": {},
   "source": [
    "### Measurement 2"
   ]
  },
  {
   "cell_type": "code",
   "execution_count": null,
   "id": "5e1908c2-43c5-4cc3-9cfe-8136a7c591ae",
   "metadata": {},
   "outputs": [],
   "source": [
    "file_405 = 'id551_MDCK_unit_on_on_02_300Hz_405_250mW_488_150mW_405'\n",
    "file_488 = 'id551_MDCK_unit_on_on_02_300Hz_405_250mW_488_150mW_488'"
   ]
  },
  {
   "cell_type": "code",
   "execution_count": null,
   "id": "64d8bc3a-6100-405d-87f5-9fa5caf61119",
   "metadata": {},
   "outputs": [],
   "source": [
    "# velocity calculation\n",
    "mean_aspect_ratio = 7.82 # mean aspect ratio of beads\n",
    "v = mean_aspect_ratio*fps*(pixelsize/mag)"
   ]
  },
  {
   "cell_type": "code",
   "execution_count": null,
   "id": "faa2c3e0-97c7-423f-a30a-a2a488113bd1",
   "metadata": {},
   "outputs": [],
   "source": [
    "reconstruction(data_name=file_405, suffix=suffix, wavelength='405', ex=file_405_ex, bg=file_405_bg, theta=theta,\n",
    "               pixelsize=pixelsize, mag=mag, fps=fps, v=v, F_indexmismatch=F_indexmismatch, polarity=polarity, coeff_405=coeff_405,\n",
    "               ex_bg_488=file_488_ex_bg, print_loop=False, kernel_movmean=10, shift1=(0, 0, 0), rescaling_factor=0.25)"
   ]
  },
  {
   "cell_type": "code",
   "execution_count": null,
   "id": "1295ee30-aa34-46d8-8ffc-581703037964",
   "metadata": {},
   "outputs": [],
   "source": [
    "reconstruction(data_name=file_488, suffix=suffix, wavelength='488', ex=file_488_ex, bg=file_488_bg, theta=theta,\n",
    "               pixelsize=pixelsize, mag=mag, fps=fps, v=v, F_indexmismatch=F_indexmismatch, polarity=polarity, coeff_405=coeff_405,\n",
    "               ex_bg_488=file_488_ex_bg, print_loop=False, kernel_movmean=10, shift1=(0, 0, 0), rescaling_factor=0.25)"
   ]
  },
  {
   "cell_type": "markdown",
   "id": "c189150e-d228-4178-bb31-bf212b88643c",
   "metadata": {},
   "source": [
    "### Measurement 3"
   ]
  },
  {
   "cell_type": "code",
   "execution_count": null,
   "id": "37128c11-c864-46e1-bcd3-28d782044230",
   "metadata": {},
   "outputs": [],
   "source": [
    "file_405 = 'id551_MDCK_unit_on_on_03_300Hz_405_250mW_488_150mW_405'\n",
    "file_488 = 'id551_MDCK_unit_on_on_03_300Hz_405_250mW_488_150mW_488'"
   ]
  },
  {
   "cell_type": "code",
   "execution_count": null,
   "id": "e52f638e-ab00-4bfe-9522-6812f42d4cbf",
   "metadata": {},
   "outputs": [],
   "source": [
    "# velocity calculation\n",
    "mean_aspect_ratio = 7.92 # mean aspect ratio of beads\n",
    "v = mean_aspect_ratio*fps*(pixelsize/mag)"
   ]
  },
  {
   "cell_type": "code",
   "execution_count": null,
   "id": "a362b823-316d-443b-8847-984dcc28a7f7",
   "metadata": {},
   "outputs": [],
   "source": [
    "reconstruction(data_name=file_405, suffix=suffix, wavelength='405', ex=file_405_ex, bg=file_405_bg, theta=theta,\n",
    "               pixelsize=pixelsize, mag=mag, fps=fps, v=v, F_indexmismatch=F_indexmismatch, polarity=polarity, coeff_405=coeff_405,\n",
    "               ex_bg_488=file_488_ex_bg, print_loop=False, kernel_movmean=10, shift1=(0, 0, 0), rescaling_factor=0.25)"
   ]
  },
  {
   "cell_type": "code",
   "execution_count": null,
   "id": "6d216d23-f7dd-4925-9973-0ba79f334656",
   "metadata": {},
   "outputs": [],
   "source": [
    "reconstruction(data_name=file_488, suffix=suffix, wavelength='488', ex=file_488_ex, bg=file_488_bg, theta=theta,\n",
    "               pixelsize=pixelsize, mag=mag, fps=fps, v=v, F_indexmismatch=F_indexmismatch, polarity=polarity, coeff_405=coeff_405,\n",
    "               ex_bg_488=file_488_ex_bg, print_loop=False, kernel_movmean=10, shift1=(0, 0, 0), rescaling_factor=0.25)"
   ]
  }
 ],
 "metadata": {
  "kernelspec": {
   "display_name": "Python 3 (ipykernel)",
   "language": "python",
   "name": "python3"
  },
  "language_info": {
   "codemirror_mode": {
    "name": "ipython",
    "version": 3
   },
   "file_extension": ".py",
   "mimetype": "text/x-python",
   "name": "python",
   "nbconvert_exporter": "python",
   "pygments_lexer": "ipython3",
   "version": "3.8.16"
  }
 },
 "nbformat": 4,
 "nbformat_minor": 5
}
