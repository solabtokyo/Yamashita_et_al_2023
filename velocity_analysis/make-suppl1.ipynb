{
 "cells": [
  {
   "cell_type": "markdown",
   "id": "09af9dfc-9ccd-4688-9586-285e85a76c6b",
   "metadata": {},
   "source": [
    "# Create figures using located tracks"
   ]
  },
  {
   "cell_type": "markdown",
   "id": "032062fe-5a29-413a-9fd7-0393e197b8e9",
   "metadata": {},
   "source": [
    "## Libraries"
   ]
  },
  {
   "cell_type": "code",
   "execution_count": null,
   "id": "83bfd6a5-5223-4b85-8923-3df5bf369a20",
   "metadata": {},
   "outputs": [],
   "source": [
    "import numpy as np\n",
    "import pandas as pd\n",
    "import pickle\n",
    "\n",
    "import matplotlib.pyplot as plt\n",
    "import seaborn as sns\n",
    "\n",
    "plt.rcParams['font.family'] = 'Helvetica'\n",
    "plt.rcParams[\"font.size\"] = 10"
   ]
  },
  {
   "cell_type": "markdown",
   "id": "d02702b5-6ddf-4f56-888c-13c2a5a94ee3",
   "metadata": {},
   "source": [
    "## Function"
   ]
  },
  {
   "cell_type": "code",
   "execution_count": null,
   "id": "6094d0a8-c3c5-4df7-96ec-5f9c9940856b",
   "metadata": {},
   "outputs": [],
   "source": [
    "def velocity(data):\n",
    "    '''\n",
    "    Calculate velocity from detected track\n",
    "    '''\n",
    "    res = np.sqrt(data)\n",
    "    res = res.diff()/(1/40)\n",
    "    res = res.mean()\n",
    "    \n",
    "    return res"
   ]
  },
  {
   "cell_type": "markdown",
   "id": "65ea3644-337d-42be-9e20-6d03e6fa3c22",
   "metadata": {},
   "source": [
    "## Analysis"
   ]
  },
  {
   "cell_type": "code",
   "execution_count": null,
   "id": "ea8540d4-dfe5-47c0-b8c5-41c5ec5908d1",
   "metadata": {},
   "outputs": [],
   "source": [
    "path = '../../result/'"
   ]
  },
  {
   "cell_type": "markdown",
   "id": "897c8928-2cca-4227-a5af-f2031f5ded73",
   "metadata": {},
   "source": [
    "### 0min"
   ]
  },
  {
   "cell_type": "code",
   "execution_count": null,
   "id": "9b467c56-f6ff-449c-a4c0-891c1062c4c7",
   "metadata": {
    "tags": []
   },
   "outputs": [],
   "source": [
    "t_0_1 = pd.read_csv(path+'id557_0min_1_imsd.csv', index_col=0)\n",
    "t_0_2 = pd.read_csv(path+'id557_0min_2_imsd.csv', index_col=0)\n",
    "t_0_3 = pd.read_csv(path+'id557_0min_3_imsd.csv', index_col=0)"
   ]
  },
  {
   "cell_type": "code",
   "execution_count": null,
   "id": "4ddf38d3-273c-4884-bf06-c969458ff20a",
   "metadata": {},
   "outputs": [],
   "source": [
    "res_t_0_1 = velocity(t_0_1)\n",
    "res_t_0_2 = velocity(t_0_2)\n",
    "res_t_0_3 = velocity(t_0_3)"
   ]
  },
  {
   "cell_type": "code",
   "execution_count": null,
   "id": "c68fc310-5222-4684-8c69-bdceb3ec3da4",
   "metadata": {},
   "outputs": [],
   "source": [
    "res_t_0_1.describe()"
   ]
  },
  {
   "cell_type": "code",
   "execution_count": null,
   "id": "8da6a26e-514f-43de-bb4b-b29adc4d571c",
   "metadata": {},
   "outputs": [],
   "source": [
    "res_t_0_2.describe()"
   ]
  },
  {
   "cell_type": "code",
   "execution_count": null,
   "id": "9769fc5e-efcd-4f23-9ea8-0fe7aecf66ac",
   "metadata": {},
   "outputs": [],
   "source": [
    "res_t_0_3.describe()"
   ]
  },
  {
   "cell_type": "code",
   "execution_count": null,
   "id": "b1cfbe2b-8196-417e-909e-ada7b1fd733b",
   "metadata": {},
   "outputs": [],
   "source": [
    "res_t_0 = pd.DataFrame({'Velocity': pd.concat([res_t_0_1, res_t_0_2, res_t_0_3])})\n",
    "res_t_0['Measurement'] = np.concatenate([np.repeat(1, len(res_t_0_1)), np.repeat(2, len(res_t_0_2)), np.repeat(3, len(res_t_0_3))])"
   ]
  },
  {
   "cell_type": "code",
   "execution_count": null,
   "id": "b3bd0617-2687-4426-8aa2-5ad144fed55b",
   "metadata": {},
   "outputs": [],
   "source": [
    "res_t_0"
   ]
  },
  {
   "cell_type": "markdown",
   "id": "149fcdc5-a877-4c1a-aaf6-2f28e834a6bb",
   "metadata": {},
   "source": [
    "### 5min"
   ]
  },
  {
   "cell_type": "code",
   "execution_count": null,
   "id": "e4490800-5ecb-40c8-8a73-9d1b4c3c24a8",
   "metadata": {
    "tags": []
   },
   "outputs": [],
   "source": [
    "t_5_1 = pd.read_csv(path+'id557_5min_1_imsd.csv', index_col=0)\n",
    "t_5_2 = pd.read_csv(path+'id557_5min_2_imsd.csv', index_col=0)\n",
    "t_5_3 = pd.read_csv(path+'id557_5min_3_imsd.csv', index_col=0)"
   ]
  },
  {
   "cell_type": "code",
   "execution_count": null,
   "id": "39af46f2-4f88-4d70-a6ae-6d25a482c866",
   "metadata": {},
   "outputs": [],
   "source": [
    "res_t_5_1 = velocity(t_5_1)\n",
    "res_t_5_2 = velocity(t_5_2)\n",
    "res_t_5_3 = velocity(t_5_3)"
   ]
  },
  {
   "cell_type": "code",
   "execution_count": null,
   "id": "03b48928-ae16-4815-86ed-f4d93ef08ce5",
   "metadata": {},
   "outputs": [],
   "source": [
    "res_t_5_1.describe()"
   ]
  },
  {
   "cell_type": "code",
   "execution_count": null,
   "id": "1b3701bd-2546-40a2-857a-5e907b268e9d",
   "metadata": {},
   "outputs": [],
   "source": [
    "res_t_5_2.describe()"
   ]
  },
  {
   "cell_type": "code",
   "execution_count": null,
   "id": "41f151b8-a4d2-43b4-a4f2-8d23c2f9ef99",
   "metadata": {},
   "outputs": [],
   "source": [
    "res_t_5_3.describe()"
   ]
  },
  {
   "cell_type": "code",
   "execution_count": null,
   "id": "a96f9c5e-073c-4906-a1d8-8e994c709162",
   "metadata": {},
   "outputs": [],
   "source": [
    "res_t_5 = pd.DataFrame({'Velocity': pd.concat([res_t_5_1, res_t_5_2, res_t_5_3])})\n",
    "res_t_5['Measurement'] = np.concatenate([np.repeat(1, len(res_t_5_1)), np.repeat(2, len(res_t_5_2)), np.repeat(3, len(res_t_5_3))])"
   ]
  },
  {
   "cell_type": "code",
   "execution_count": null,
   "id": "5ec451f0-99b3-4cf9-9542-e7dd2281420c",
   "metadata": {},
   "outputs": [],
   "source": [
    "res_t_5"
   ]
  },
  {
   "cell_type": "markdown",
   "id": "6221a180-455d-4a15-86d0-373954eb20af",
   "metadata": {},
   "source": [
    "### Whole measurements"
   ]
  },
  {
   "cell_type": "code",
   "execution_count": null,
   "id": "2dcedf13-c761-4daa-9209-65dc70d7d80d",
   "metadata": {},
   "outputs": [],
   "source": [
    "res = pd.concat([res_t_0, res_t_5])\n",
    "res['Time'] = np.concatenate([np.repeat(0, len(res_t_0)), np.repeat(5, len(res_t_5))])"
   ]
  },
  {
   "cell_type": "code",
   "execution_count": null,
   "id": "7734a97f-d90b-478f-b4a3-f38d4cc716fc",
   "metadata": {},
   "outputs": [],
   "source": [
    "res"
   ]
  },
  {
   "cell_type": "code",
   "execution_count": null,
   "id": "249a8025-d03e-44ec-98ff-1d4937ea8ce6",
   "metadata": {},
   "outputs": [],
   "source": [
    "res_mean = res.groupby(['Time', 'Measurement']).mean()\n",
    "res_std = res.groupby(['Time', 'Measurement']).std()\n",
    "\n",
    "res_cv = res_std / res_mean"
   ]
  },
  {
   "cell_type": "code",
   "execution_count": null,
   "id": "ec4013cb-72d7-46eb-a695-c33143ab54ab",
   "metadata": {},
   "outputs": [],
   "source": [
    "res_mean"
   ]
  },
  {
   "cell_type": "code",
   "execution_count": null,
   "id": "65675cf8-2805-4d36-8553-e8f04cb03117",
   "metadata": {},
   "outputs": [],
   "source": [
    "res_cv"
   ]
  },
  {
   "cell_type": "code",
   "execution_count": null,
   "id": "d6467b9e-cca4-4183-aa59-c076c3bd1b3d",
   "metadata": {},
   "outputs": [],
   "source": [
    "res_n = res.groupby(['Time', 'Measurement']).count()"
   ]
  },
  {
   "cell_type": "code",
   "execution_count": null,
   "id": "cec0d29c-522e-42a9-af92-633de98a9f54",
   "metadata": {},
   "outputs": [],
   "source": [
    "res_n"
   ]
  },
  {
   "cell_type": "code",
   "execution_count": null,
   "id": "fd3f8468-b457-4d8f-b0f2-16c270b58cee",
   "metadata": {},
   "outputs": [],
   "source": [
    "stats = pd.DataFrame({'Time': np.repeat([0, 5], 3),\n",
    "                      'Measurement': np.tile([1, 2, 3], 2),\n",
    "                      'n': res_n.values.flatten(),\n",
    "                      'Mean': res_mean.values.flatten(),\n",
    "                      'CV': res_cv.values.flatten()}) "
   ]
  },
  {
   "cell_type": "code",
   "execution_count": null,
   "id": "940a4738-a11b-4d4e-8d00-43134f7b0890",
   "metadata": {},
   "outputs": [],
   "source": [
    "stats"
   ]
  },
  {
   "cell_type": "code",
   "execution_count": null,
   "id": "56284598-328a-41cb-b573-52b8831081be",
   "metadata": {},
   "outputs": [],
   "source": [
    "# total mean\n",
    "res['Velocity'].mean()"
   ]
  },
  {
   "cell_type": "code",
   "execution_count": null,
   "id": "83f8fae9-eb0e-4c6a-9152-254d8236e4a1",
   "metadata": {},
   "outputs": [],
   "source": [
    "# total CV\n",
    "res['Velocity'].std()/res['Velocity'].mean()"
   ]
  },
  {
   "cell_type": "code",
   "execution_count": null,
   "id": "e0efd4f2-0175-4b3d-852c-7733080a2a3d",
   "metadata": {},
   "outputs": [],
   "source": [
    "len(res)"
   ]
  },
  {
   "cell_type": "markdown",
   "id": "be71ec30-91b0-495b-b6b8-cad2237be35e",
   "metadata": {},
   "source": [
    "## Figure"
   ]
  },
  {
   "cell_type": "code",
   "execution_count": null,
   "id": "4ba8c7c6-9a18-4ed3-abd1-cc819b70758e",
   "metadata": {},
   "outputs": [],
   "source": [
    "plt.figure(figsize=(3.5, 3.5))\n",
    "sns.violinplot(data=res, y='Velocity', x='Time', hue='Measurement', linewidth=1)\n",
    "plt.ylim(0, 900)\n",
    "plt.xlabel('Time')\n",
    "plt.ylabel(r'Velocity  [$\\mu$$m$/$sec$]')\n",
    "plt.legend(title='Measurement', loc='lower left')\n",
    "plt.savefig(path+'velocity_distribution_0-5min.pdf', bbox_inches='tight', pad_inches=0.05)"
   ]
  },
  {
   "cell_type": "code",
   "execution_count": null,
   "id": "c9bc511a-75b8-4e58-8cec-36e3b919f580",
   "metadata": {},
   "outputs": [],
   "source": []
  }
 ],
 "metadata": {
  "kernelspec": {
   "display_name": "Python 3 (ipykernel)",
   "language": "python",
   "name": "python3"
  },
  "language_info": {
   "codemirror_mode": {
    "name": "ipython",
    "version": 3
   },
   "file_extension": ".py",
   "mimetype": "text/x-python",
   "name": "python",
   "nbconvert_exporter": "python",
   "pygments_lexer": "ipython3",
   "version": "3.8.16"
  }
 },
 "nbformat": 4,
 "nbformat_minor": 5
}
