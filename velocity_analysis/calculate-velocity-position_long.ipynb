{
 "cells": [
  {
   "cell_type": "markdown",
   "id": "cc648987-34b3-4a01-b061-6c9338c87da5",
   "metadata": {},
   "source": [
    "# Calculate velocity distribution and position destribution of MDCK spheroids\n",
    "\n",
    "Data  \n",
    "2D time-series images of flowing spheroids  \n",
    "- Hydrodynamic focusing and acoustic focusing: on\n",
    "- Time points: 0, 5 min  \n",
    "- Number of measurements at each time point: 3\n",
    "- Use only frames from 0 to 360 (=nine seconds)"
   ]
  },
  {
   "cell_type": "markdown",
   "id": "3c45ae41-9988-42a1-920f-ded5297fef09",
   "metadata": {},
   "source": [
    "## Libraries"
   ]
  },
  {
   "cell_type": "code",
   "execution_count": null,
   "id": "4d68751d-9ade-4fac-8d31-77f30b03adb2",
   "metadata": {},
   "outputs": [],
   "source": [
    "import glob\n",
    "import os\n",
    "import re\n",
    "import pickle\n",
    "\n",
    "import numpy as np\n",
    "import pandas as pd\n",
    "import matplotlib.pyplot as plt\n",
    "\n",
    "from skimage.io import imread, imshow\n",
    "from skimage.filters import median, gaussian\n",
    "\n",
    "import trackpy as tp"
   ]
  },
  {
   "cell_type": "markdown",
   "id": "6b6d7703-e301-4b63-9973-821cf6cc7e10",
   "metadata": {},
   "source": [
    "## Functions"
   ]
  },
  {
   "cell_type": "code",
   "execution_count": null,
   "id": "18123344-f9a2-4c2a-a8a6-cc8efaedae65",
   "metadata": {},
   "outputs": [],
   "source": [
    "def make_dataset(time, measurement, start_frame=0, end_frame=360):\n",
    "    '''\n",
    "    Make a list of data to analyze\n",
    "\n",
    "    time: timepoint of the measurement to analyze\n",
    "    measurement: id of the measurement to analyze\n",
    "    start_frame: first frame of the data to analyze\n",
    "    end_frame: last frame of the data to analyze\n",
    "    '''\n",
    "    imgs = [os.path.abspath(p) for p in glob.glob(f'{path_data}id557_{time}min_{measurement}*.tif')]\n",
    "    imgs = sorted(imgs, key = lambda x : re.search(r'_00[0-9][0-9][0-9].', x).group())\n",
    "    imgs = imgs[start_frame:end_frame]\n",
    "    imgs = [imread (img) for img in imgs]\n",
    "    \n",
    "    return imgs\n",
    "\n",
    "def clip(img, bounds=(None, None)):\n",
    "    '''\n",
    "    Clip image along the first axis so that the image includes only the inside of the microfluidic channel\n",
    "\n",
    "    img: image to process\n",
    "    bounds: coordinates on which image is clipped\n",
    "    '''\n",
    "    return img[bounds[0]:bounds[1], :]\n",
    "\n",
    "def filter_img(img):\n",
    "    '''\n",
    "    Apply median and Gaussian filter to image\n",
    "    '''\n",
    "    filtered_img = median(img)\n",
    "    filtered_img = gaussian(filtered_img, sigma=1)\n",
    "    return filtered_img\n",
    "\n",
    "def process(imgs, bounds=(None, None)):\n",
    "    '''\n",
    "    Processs images before analysis\n",
    "\n",
    "    imgs: images to analyze\n",
    "    bounds: coordinates on which images are clipped\n",
    "    '''\n",
    "    filtered_imgs = [filter_img(clip(np.fliplr(img), bounds=bounds)) for img in imgs]\n",
    "    return filtered_imgs\n",
    "\n",
    "def test(time, measurement, end_frame=20, bounds=(None, None), threshold=20/255):\n",
    "    '''\n",
    "    Analyze the small subset of the data and chack the result\n",
    "\n",
    "    time: timepoint of the measurement to analyze\n",
    "    measurement: id of the measurement to analyze\n",
    "    end_frame: last frame of the data to analyze\n",
    "    bounds: coordinates on which image is clipped\n",
    "    threshold: threshold value to detect flowing objects\n",
    "    '''\n",
    "    imgs = make_dataset(time, measurement, end_frame=end_frame)\n",
    "    imgs = process(imgs, bounds)\n",
    "    locations = tp.batch(imgs, diameter=25, threshold=threshold)\n",
    "    pred = tp.predict.ChannelPredict(110, 'x', minsamples=10)\n",
    "    track = pred.link_df(locations, search_range=[13, 40], memory=10)\n",
    "    track = tp.filter_stubs(track, 5)\n",
    "    \n",
    "    fig, axes = plt.subplots(2, 1, figsize=(20, 10))\n",
    "    tp.annotate(locations[locations['frame']==0], imgs[0], ax=axes[0])\n",
    "    tp.plot_traj(track)\n",
    "\n",
    "def analysis(time, measurement, bounds=(None, None), threshold=20/255):\n",
    "    '''\n",
    "    Analyze the first 360 frames of the measurement\n",
    "\n",
    "    time: timepoint of the measurement to analyze\n",
    "    measurement: id of the measurement to analyze\n",
    "    bounds: coordinates on which image is clipped\n",
    "    threshold: threshold value to detect flowing objects\n",
    "    '''\n",
    "    imgs = make_dataset(time, measurement)\n",
    "    imgs = process(imgs, bounds)\n",
    "    locations = tp.batch(imgs, diameter=25, threshold=threshold)\n",
    "    pred = tp.predict.ChannelPredict(110, 'x', minsamples=10)\n",
    "    track = pred.link_df(locations, search_range=[13, 40], memory=10)\n",
    "    track = tp.filter_stubs(track, 120)\n",
    "    imsd = tp.motion.imsd(track, mpp=1/1.124, fps=40, max_lagtime=360)\n",
    "    print('The number of detected tracks is:', len(imsd.columns))\n",
    "        \n",
    "    return track, imsd"
   ]
  },
  {
   "cell_type": "markdown",
   "id": "e9509f02-ee88-467e-9c7a-e5750893cb6e",
   "metadata": {},
   "source": [
    "## Directories"
   ]
  },
  {
   "cell_type": "code",
   "execution_count": null,
   "id": "e09c8f44-3491-4c36-ba6f-cb4ed9f6dc60",
   "metadata": {},
   "outputs": [],
   "source": [
    "path_data = '../../data/2D/long/'\n",
    "path_result = '../../result/'"
   ]
  },
  {
   "cell_type": "markdown",
   "id": "57de0c88-4a6b-4cf9-bacf-1e9278437a49",
   "metadata": {},
   "source": [
    "## Test using the limited number of frames"
   ]
  },
  {
   "cell_type": "code",
   "execution_count": null,
   "id": "b2b9818f-fd87-469d-af3b-67c8b73ae35f",
   "metadata": {},
   "outputs": [],
   "source": [
    "img = imread(path_data+'id557_0min_1*_00001.tif')\n",
    "plt.figure(figsize=(20, 10))\n",
    "plt.imshow(img[235:235+1124, :])"
   ]
  },
  {
   "cell_type": "code",
   "execution_count": null,
   "id": "34dd503d-2b36-44ff-9e36-9b0b64d2c814",
   "metadata": {},
   "outputs": [],
   "source": [
    "wall_up = 235 # coordinate of the upper wall\n",
    "wall_bottom = wall_up + 1124 # coordinate of the bottom wall"
   ]
  },
  {
   "cell_type": "code",
   "execution_count": null,
   "id": "81226889-34cd-4e60-8f90-70a46286ed9b",
   "metadata": {},
   "outputs": [],
   "source": [
    "test(0, measurement=1, bounds=(wall_up, wall_bottom))"
   ]
  },
  {
   "cell_type": "code",
   "execution_count": null,
   "id": "6779735b-f93e-4db6-a46d-60ff4a8ab982",
   "metadata": {},
   "outputs": [],
   "source": [
    "test(5, measurement=1, bounds=(wall_up, wall_bottom))"
   ]
  },
  {
   "cell_type": "markdown",
   "id": "e0c1caa5-99b9-4c95-a83c-c7d8110e41a5",
   "metadata": {
    "tags": []
   },
   "source": [
    "## Analysis"
   ]
  },
  {
   "cell_type": "markdown",
   "id": "44a126a0-cbc7-4f83-93d7-ee850e8a4b05",
   "metadata": {},
   "source": [
    "### 0 min"
   ]
  },
  {
   "cell_type": "code",
   "execution_count": null,
   "id": "8283b17b-62fd-4999-949b-4a9bde5695fc",
   "metadata": {},
   "outputs": [],
   "source": [
    "wall_up = 235\n",
    "wall_bottom = wall_up + 1124\n",
    "\n",
    "time = 0"
   ]
  },
  {
   "cell_type": "code",
   "execution_count": null,
   "id": "7db30511-922d-43c0-9194-39abd13e9b67",
   "metadata": {},
   "outputs": [],
   "source": [
    "measurement = 1"
   ]
  },
  {
   "cell_type": "code",
   "execution_count": null,
   "id": "440d8f48-6933-49fb-84ab-2a824bbb5ab0",
   "metadata": {},
   "outputs": [],
   "source": [
    "track, imsd = analysis(time=time, measurement=measurement, bounds=(wall_up, wall_bottom))"
   ]
  },
  {
   "cell_type": "code",
   "execution_count": null,
   "id": "0c935266-b6a0-448c-b74b-8b1bf86faaed",
   "metadata": {},
   "outputs": [],
   "source": [
    "plt.figure(figsize=(20, 5))\n",
    "plt.ylim(0, 1124)\n",
    "tp.plot_traj(track)"
   ]
  },
  {
   "cell_type": "code",
   "execution_count": null,
   "id": "6deeea19-86c7-465d-810d-5b2d74fcc048",
   "metadata": {
    "tags": []
   },
   "outputs": [],
   "source": [
    "imsd.to_csv(f'{path_result}id557_{time}min_{measurement}_imsd.csv')\n",
    "with open(f'{path_result}id557_{time}min_{measurement}_track.txt', 'wb') as f:\n",
    "    pickle.dump(track, f)"
   ]
  },
  {
   "cell_type": "code",
   "execution_count": null,
   "id": "60b87560-ffc9-4d98-ba88-50722b22ff7e",
   "metadata": {},
   "outputs": [],
   "source": [
    "measurement = 2"
   ]
  },
  {
   "cell_type": "code",
   "execution_count": null,
   "id": "2c03bd0b-3cca-42de-a744-4c99a28af31b",
   "metadata": {},
   "outputs": [],
   "source": [
    "track, imsd = analysis(time=time, measurement=measurement, bounds=(wall_up, wall_bottom))"
   ]
  },
  {
   "cell_type": "code",
   "execution_count": null,
   "id": "f0b1ed26-a79f-413f-ac75-2202c7c856b0",
   "metadata": {},
   "outputs": [],
   "source": [
    "plt.figure(figsize=(20, 5))\n",
    "plt.ylim(0, 1124)\n",
    "tp.plot_traj(track)"
   ]
  },
  {
   "cell_type": "code",
   "execution_count": null,
   "id": "cc8e7a96-2d43-4461-ab9a-3e4d243cc9bf",
   "metadata": {
    "tags": []
   },
   "outputs": [],
   "source": [
    "imsd.to_csv(f'{path_result}id557_{time}min_{measurement}_imsd.csv')\n",
    "with open(f'{path_result}id557_{time}min_{measurement}_track.txt', 'wb') as f:\n",
    "    pickle.dump(track, f)"
   ]
  },
  {
   "cell_type": "code",
   "execution_count": null,
   "id": "0f912d8c-12aa-4519-833c-a1bbeda0ae65",
   "metadata": {},
   "outputs": [],
   "source": [
    "measurement = 3"
   ]
  },
  {
   "cell_type": "code",
   "execution_count": null,
   "id": "62d631d2-1b2e-44fe-953c-795fcbd3f377",
   "metadata": {},
   "outputs": [],
   "source": [
    "track, imsd = analysis(time=time, measurement=measurement, bounds=(wall_up, wall_bottom))"
   ]
  },
  {
   "cell_type": "code",
   "execution_count": null,
   "id": "360a8b27-e6ea-444a-81f4-c3d1ba1af384",
   "metadata": {},
   "outputs": [],
   "source": [
    "plt.figure(figsize=(20, 5))\n",
    "plt.ylim(0, 1124)\n",
    "tp.plot_traj(track)"
   ]
  },
  {
   "cell_type": "code",
   "execution_count": null,
   "id": "ec3ec243-4600-41f7-b034-65bb6a80289c",
   "metadata": {
    "tags": []
   },
   "outputs": [],
   "source": [
    "imsd.to_csv(f'{path_result}id557_{time}min_{measurement}_imsd.csv')\n",
    "with open(f'{path_result}id557_{time}min_{measurement}_track.txt', 'wb') as f:\n",
    "    pickle.dump(track, f)"
   ]
  },
  {
   "cell_type": "markdown",
   "id": "e9589040-9354-478c-8931-839cb93d0c97",
   "metadata": {},
   "source": [
    "### 5min"
   ]
  },
  {
   "cell_type": "code",
   "execution_count": null,
   "id": "2d005cbd-34e3-4c98-95c1-36e001ea6224",
   "metadata": {},
   "outputs": [],
   "source": [
    "wall_up = 235\n",
    "wall_bottom = wall_up + 1124\n",
    "\n",
    "time = 5"
   ]
  },
  {
   "cell_type": "code",
   "execution_count": null,
   "id": "d0344a49-3826-4420-a007-7d43f5e784a6",
   "metadata": {},
   "outputs": [],
   "source": [
    "measurement = 1"
   ]
  },
  {
   "cell_type": "code",
   "execution_count": null,
   "id": "403f8f70-e85f-4900-a442-8178f73767a2",
   "metadata": {},
   "outputs": [],
   "source": [
    "track, imsd = analysis(time=time, measurement=measurement, bounds=(wall_up, wall_bottom))"
   ]
  },
  {
   "cell_type": "code",
   "execution_count": null,
   "id": "f4598a63-acf1-4af9-a8ad-27d243980933",
   "metadata": {},
   "outputs": [],
   "source": [
    "plt.figure(figsize=(20, 5))\n",
    "plt.ylim(0, 1124)\n",
    "tp.plot_traj(track)"
   ]
  },
  {
   "cell_type": "code",
   "execution_count": null,
   "id": "3b08913a-3492-444c-ab93-b42ac0e4a49b",
   "metadata": {
    "tags": []
   },
   "outputs": [],
   "source": [
    "imsd.to_csv(f'{path_result}id557_{time}min_{measurement}_imsd.csv')\n",
    "with open(f'{path_result}id557_{time}min_{measurement}_track.txt', 'wb') as f:\n",
    "    pickle.dump(track, f)"
   ]
  },
  {
   "cell_type": "code",
   "execution_count": null,
   "id": "c3dbf164-b39a-4899-a6c1-3bc5abfd1815",
   "metadata": {},
   "outputs": [],
   "source": [
    "measurement = 2"
   ]
  },
  {
   "cell_type": "code",
   "execution_count": null,
   "id": "315ccb0c-4fbb-4c81-a967-7c4addc9db18",
   "metadata": {},
   "outputs": [],
   "source": [
    "track, imsd = analysis(time=time, measurement=measurement, bounds=(wall_up, wall_bottom))"
   ]
  },
  {
   "cell_type": "code",
   "execution_count": null,
   "id": "5558b84d-65dc-4853-85b7-5a83c77983e6",
   "metadata": {},
   "outputs": [],
   "source": [
    "plt.figure(figsize=(20, 5))\n",
    "plt.ylim(0, 1124)\n",
    "tp.plot_traj(track)"
   ]
  },
  {
   "cell_type": "code",
   "execution_count": null,
   "id": "9f26977c-b378-45ae-9a01-4226058703db",
   "metadata": {
    "tags": []
   },
   "outputs": [],
   "source": [
    "imsd.to_csv(f'{path_result}id557_{time}min_{measurement}_imsd.csv')\n",
    "with open(f'{path_result}id557_{time}min_{measurement}_track.txt', 'wb') as f:\n",
    "    pickle.dump(track, f)"
   ]
  },
  {
   "cell_type": "code",
   "execution_count": null,
   "id": "61b251ec-f573-4934-86d8-58cc9987dc7b",
   "metadata": {},
   "outputs": [],
   "source": [
    "measurement = 3"
   ]
  },
  {
   "cell_type": "code",
   "execution_count": null,
   "id": "93e56a2d-8329-4f7b-9a1b-da3ea710f211",
   "metadata": {},
   "outputs": [],
   "source": [
    "track, imsd = analysis(time=time, measurement=measurement, bounds=(wall_up, wall_bottom))"
   ]
  },
  {
   "cell_type": "code",
   "execution_count": null,
   "id": "50a32b9f-8547-4c89-8956-10856f4176bd",
   "metadata": {},
   "outputs": [],
   "source": [
    "plt.figure(figsize=(20, 5))\n",
    "plt.ylim(0, 1124)\n",
    "tp.plot_traj(track)"
   ]
  },
  {
   "cell_type": "code",
   "execution_count": null,
   "id": "97e0c918-efd8-4747-b663-9dcba59c2866",
   "metadata": {
    "tags": []
   },
   "outputs": [],
   "source": [
    "imsd.to_csv(f'{path_result}id557_{time}min_{measurement}_imsd.csv')\n",
    "with open(f'{path_result}id557_{time}min_{measurement}_track.txt', 'wb') as f:\n",
    "    pickle.dump(track, f)"
   ]
  }
 ],
 "metadata": {
  "kernelspec": {
   "display_name": "Python 3 (ipykernel)",
   "language": "python",
   "name": "python3"
  },
  "language_info": {
   "codemirror_mode": {
    "name": "ipython",
    "version": 3
   },
   "file_extension": ".py",
   "mimetype": "text/x-python",
   "name": "python",
   "nbconvert_exporter": "python",
   "pygments_lexer": "ipython3",
   "version": "3.8.16"
  }
 },
 "nbformat": 4,
 "nbformat_minor": 5
}
