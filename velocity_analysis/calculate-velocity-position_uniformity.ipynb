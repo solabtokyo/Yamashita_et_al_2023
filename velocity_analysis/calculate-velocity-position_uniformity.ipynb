{
 "cells": [
  {
   "cell_type": "markdown",
   "id": "cc648987-34b3-4a01-b061-6c9338c87da5",
   "metadata": {},
   "source": [
    "# Calculate velocity distribution and position destribution of MDCK spheroids\n",
    "\n",
    "Data  \n",
    "2D time-series images of flowing spheroids  \n",
    "Conditions of experimes (four in total):\n",
    "- Hydrodynamic focusing (=hydro): on/off\n",
    "- Acoustic focusing (=acoustic): on/off\n",
    "\n",
    "Use only frames from 0 to 360 (=nine seconds)"
   ]
  },
  {
   "cell_type": "markdown",
   "id": "3c45ae41-9988-42a1-920f-ded5297fef09",
   "metadata": {},
   "source": [
    "## Libraries"
   ]
  },
  {
   "cell_type": "code",
   "execution_count": null,
   "id": "4d68751d-9ade-4fac-8d31-77f30b03adb2",
   "metadata": {},
   "outputs": [],
   "source": [
    "import glob\n",
    "import os\n",
    "import re\n",
    "import pickle\n",
    "\n",
    "import numpy as np\n",
    "import pandas as pd\n",
    "import matplotlib.pyplot as plt\n",
    "\n",
    "from skimage.io import imread, imshow\n",
    "from skimage.filters import median, gaussian\n",
    "\n",
    "import trackpy as tp"
   ]
  },
  {
   "cell_type": "markdown",
   "id": "6b6d7703-e301-4b63-9973-821cf6cc7e10",
   "metadata": {},
   "source": [
    "## Functions"
   ]
  },
  {
   "cell_type": "code",
   "execution_count": null,
   "id": "18123344-f9a2-4c2a-a8a6-cc8efaedae65",
   "metadata": {},
   "outputs": [],
   "source": [
    "def make_dataset(acoustic, hydro, measurement, start_frame=0, end_frame=360):\n",
    "    '''\n",
    "    Make a list of data to analyze\n",
    "\n",
    "    acousitc: whether acoustic focsuing is on or off\n",
    "    hydro: whether hydrodynamic focusing is on or off\n",
    "    measurement: id of the measurement to analyze\n",
    "    start_frame: first frame of the data to analyze\n",
    "    end_frame: last frame of the data to analyze\n",
    "    '''\n",
    "    imgs = [os.path.abspath(p) for p in glob.glob(f'{path_data}id553_acoustic-{acoustic}_flow-{hydro}_{measurement}*_*.tif')]\n",
    "    imgs = sorted(imgs, key = lambda x : re.search(r'_00[0-9][0-9][0-9].', x).group())\n",
    "    imgs = imgs[start_frame:end_frame]\n",
    "    imgs = [imread (img) for img in imgs]\n",
    "    \n",
    "    return imgs\n",
    "\n",
    "def clip(img, bounds=(None, None)):\n",
    "    '''\n",
    "    Clip image along the first axis so that the image includes only the inside of the microfluidic channel\n",
    "\n",
    "    img: image to process\n",
    "    bounds: coordinates on which image is clipped\n",
    "    '''\n",
    "    return img[bounds[0]:bounds[1], :]\n",
    "\n",
    "def filter_img(img):\n",
    "    '''\n",
    "    Apply median and Gaussian filter to image\n",
    "    '''\n",
    "    filtered_img = median(img)\n",
    "    filtered_img = gaussian(filtered_img, sigma=1)\n",
    "    return filtered_img\n",
    "\n",
    "def process(imgs, bounds=(None, None)):\n",
    "    '''\n",
    "    Processs images before analysis\n",
    "\n",
    "    imgs: images to analyze\n",
    "    bounds: coordinates on which images are clipped\n",
    "    '''\n",
    "    filtered_imgs = [filter_img(clip(np.fliplr(img), bounds=bounds)) for img in imgs]\n",
    "    return filtered_imgs\n",
    "\n",
    "def test(acoustic, hydro, measurement, end_frame=20, bounds=(None, None), threshold=20/255):\n",
    "    '''\n",
    "    Analyze the small subset of the data and chack the result\n",
    "\n",
    "    acousitc: whether acoustic focsuing is on or off\n",
    "    hydro: whether hydrodynamic focusing is on or off\n",
    "    measurement: id of the measurement to analyze\n",
    "    end_frame: last frame of the data to analyze\n",
    "    bounds: coordinates on which image is clipped\n",
    "    threshold: threshold value to detect flowing objects\n",
    "    '''\n",
    "    imgs = make_dataset(acoustic, hydro, measurement, end_frame=end_frame)\n",
    "    imgs = process(imgs, bounds)\n",
    "    locations = tp.batch(imgs, diameter=25, threshold=threshold)\n",
    "    pred = tp.predict.ChannelPredict(110, 'x', minsamples=10)\n",
    "    track = pred.link_df(locations, search_range=[13, 40], memory=10)\n",
    "    track = tp.filter_stubs(track, 5)\n",
    "    \n",
    "    fig, axes = plt.subplots(2, 1, figsize=(20, 10))\n",
    "    tp.annotate(locations[locations['frame']==0], imgs[0], ax=axes[0])\n",
    "    tp.plot_traj(track)\n",
    "\n",
    "def analysis(acoustic, hydro, measurement, bounds=(None, None), threshold=20/255):\n",
    "    '''\n",
    "    Analyze the first 360 frames of the measurement\n",
    "\n",
    "    acousitc: whether acoustic focsuing is on or off\n",
    "    hydro: whether hydrodynamic focusing is on or off\n",
    "    measurement: id of the measurement to analyze\n",
    "    bounds: coordinates on which image is clipped\n",
    "    threshold: threshold value to detect flowing objects\n",
    "    '''\n",
    "    imgs = make_dataset(acoustic, hydro, measurement)\n",
    "    imgs = process(imgs, bounds)\n",
    "    locations = tp.batch(imgs, diameter=25, threshold=threshold)\n",
    "    pred = tp.predict.ChannelPredict(110, 'x', minsamples=10)\n",
    "    track = pred.link_df(locations, search_range=[13, 40], memory=10)\n",
    "    track = tp.filter_stubs(track, 120)\n",
    "    imsd = tp.motion.imsd(track, mpp=1/1.124, fps=40, max_lagtime=360)\n",
    "    print('The number of detected tracks is:', len(imsd.columns))\n",
    "        \n",
    "    return track, imsd"
   ]
  },
  {
   "cell_type": "markdown",
   "id": "706d7f55-eedf-42b4-acfd-c25584719a42",
   "metadata": {},
   "source": [
    "## Directories"
   ]
  },
  {
   "cell_type": "code",
   "execution_count": null,
   "id": "483c08d6-2777-480c-b56a-f5daad46b581",
   "metadata": {},
   "outputs": [],
   "source": [
    "path_data = '../../data/2D/uniformity/'\n",
    "path_result = '../../result/'"
   ]
  },
  {
   "cell_type": "markdown",
   "id": "57de0c88-4a6b-4cf9-bacf-1e9278437a49",
   "metadata": {},
   "source": [
    "## Test using the limited number of frames"
   ]
  },
  {
   "cell_type": "code",
   "execution_count": null,
   "id": "b2b9818f-fd87-469d-af3b-67c8b73ae35f",
   "metadata": {},
   "outputs": [],
   "source": [
    "img = imread(path_data+'id553_acoustic-off_flow-off_1*_00001.tif')\n",
    "plt.figure(figsize=(20, 10))\n",
    "plt.imshow(img[208:208+1124, :])"
   ]
  },
  {
   "cell_type": "code",
   "execution_count": null,
   "id": "d2586b13-8945-417c-b014-88e491ce827c",
   "metadata": {},
   "outputs": [],
   "source": [
    "wall_up = 208 # coordinate of the upper wall\n",
    "wall_bottom = wall_up + 1124 # coordinate of the bottom wall"
   ]
  },
  {
   "cell_type": "code",
   "execution_count": null,
   "id": "81226889-34cd-4e60-8f90-70a46286ed9b",
   "metadata": {},
   "outputs": [],
   "source": [
    "test('off', 'off', measurement=1, bounds=(wall_up, wall_bottom))"
   ]
  },
  {
   "cell_type": "code",
   "execution_count": null,
   "id": "6779735b-f93e-4db6-a46d-60ff4a8ab982",
   "metadata": {},
   "outputs": [],
   "source": [
    "test('off', 'on', measurement=1, bounds=(wall_up, wall_bottom))"
   ]
  },
  {
   "cell_type": "code",
   "execution_count": null,
   "id": "9ca3a9b1-cea3-4e38-91c2-83b6e8f7d345",
   "metadata": {},
   "outputs": [],
   "source": [
    "test('on', 'off', measurement=1, bounds=(wall_up, wall_bottom))"
   ]
  },
  {
   "cell_type": "code",
   "execution_count": null,
   "id": "3b722346-bb89-4e1e-ae9f-67e3fd27aa5b",
   "metadata": {},
   "outputs": [],
   "source": [
    "test('on', 'on', measurement=1, bounds=(wall_up, wall_bottom))"
   ]
  },
  {
   "cell_type": "markdown",
   "id": "e0c1caa5-99b9-4c95-a83c-c7d8110e41a5",
   "metadata": {
    "tags": []
   },
   "source": [
    "## Analysis"
   ]
  },
  {
   "cell_type": "markdown",
   "id": "44a126a0-cbc7-4f83-93d7-ee850e8a4b05",
   "metadata": {},
   "source": [
    "### acoustic: on & hydro: on"
   ]
  },
  {
   "cell_type": "code",
   "execution_count": null,
   "id": "8283b17b-62fd-4999-949b-4a9bde5695fc",
   "metadata": {},
   "outputs": [],
   "source": [
    "wall_up = 208\n",
    "wall_bottom = wall_up + 1124"
   ]
  },
  {
   "cell_type": "code",
   "execution_count": null,
   "id": "440d8f48-6933-49fb-84ab-2a824bbb5ab0",
   "metadata": {},
   "outputs": [],
   "source": [
    "on_on_track, on_on_imsd = analysis(acoustic='on', hydro='on', measurement=1, bounds=(wall_up, wall_bottom))"
   ]
  },
  {
   "cell_type": "code",
   "execution_count": null,
   "id": "0c935266-b6a0-448c-b74b-8b1bf86faaed",
   "metadata": {},
   "outputs": [],
   "source": [
    "plt.figure(figsize=(20, 5))\n",
    "plt.ylim(0, 1124)\n",
    "tp.plot_traj(on_on_track)"
   ]
  },
  {
   "cell_type": "code",
   "execution_count": null,
   "id": "6deeea19-86c7-465d-810d-5b2d74fcc048",
   "metadata": {
    "tags": []
   },
   "outputs": [],
   "source": [
    "on_on_imsd.to_csv(path_result+'id553_on_on_1_imsd.csv')\n",
    "with open(path_result+'id553_on_on_1_track.txt', 'wb') as f:\n",
    "    pickle.dump(on_on_track, f)"
   ]
  },
  {
   "cell_type": "markdown",
   "id": "e9589040-9354-478c-8931-839cb93d0c97",
   "metadata": {},
   "source": [
    "### acoustic: on & hydro: off"
   ]
  },
  {
   "cell_type": "code",
   "execution_count": null,
   "id": "6139fef3-2b1e-4766-b29c-a3ad8e0bf96c",
   "metadata": {},
   "outputs": [],
   "source": [
    "wall_up = 208\n",
    "wall_bottom = wall_up + 1124"
   ]
  },
  {
   "cell_type": "code",
   "execution_count": null,
   "id": "3b4711a0-8216-4a45-a3d2-a4318cfbf35a",
   "metadata": {},
   "outputs": [],
   "source": [
    "on_off_track, on_off_imsd = analysis(acoustic='on', hydro='off', measurement=1, bounds=(wall_up, wall_bottom))"
   ]
  },
  {
   "cell_type": "code",
   "execution_count": null,
   "id": "9d87d1fc-daea-4d28-8fb9-065c6dc9cb4b",
   "metadata": {},
   "outputs": [],
   "source": [
    "plt.figure(figsize=(20, 5))\n",
    "plt.ylim(0, 1124)\n",
    "tp.plot_traj(on_off_track)"
   ]
  },
  {
   "cell_type": "code",
   "execution_count": null,
   "id": "53268dd7-af41-48a1-9d30-544b5af1bf72",
   "metadata": {
    "tags": []
   },
   "outputs": [],
   "source": [
    "on_off_imsd.to_csv(path_result+'id553_on_off_1_imsd.csv')\n",
    "with open(path_result+'id553_on_off_1_track.txt', 'wb') as f:\n",
    "    pickle.dump(on_off_track, f)"
   ]
  },
  {
   "cell_type": "markdown",
   "id": "98412e31-44c2-4482-8930-4d170d1211d2",
   "metadata": {},
   "source": [
    "### acoustic: off & hydro: off"
   ]
  },
  {
   "cell_type": "code",
   "execution_count": null,
   "id": "5c2908d3-32cf-4dbd-8c06-d9d3abfb3225",
   "metadata": {},
   "outputs": [],
   "source": [
    "wall_up = 208\n",
    "wall_bottom = wall_up + 1124"
   ]
  },
  {
   "cell_type": "code",
   "execution_count": null,
   "id": "16dc4a7d-1a06-4bec-a4a9-2c98bb040f5e",
   "metadata": {},
   "outputs": [],
   "source": [
    "off_off_track, off_off_imsd = analysis(acoustic='off', hydro='off', measurement=1, bounds=(wall_up, wall_bottom))"
   ]
  },
  {
   "cell_type": "code",
   "execution_count": null,
   "id": "b8780cad-ed8a-404a-bfe7-dab3a912152c",
   "metadata": {},
   "outputs": [],
   "source": [
    "plt.figure(figsize=(20, 5))\n",
    "plt.ylim(0, 1124)\n",
    "tp.plot_traj(off_off_track)"
   ]
  },
  {
   "cell_type": "code",
   "execution_count": null,
   "id": "faa8dfc5-556d-48b8-b8ff-c76e255ae023",
   "metadata": {
    "tags": []
   },
   "outputs": [],
   "source": [
    "off_off_imsd.to_csv(path_result+'id553_off_off_1_imsd.csv')\n",
    "with open(path_result+'id553_off_off_1_track.txt', 'wb') as f:\n",
    "    pickle.dump(off_off_track, f)"
   ]
  },
  {
   "cell_type": "markdown",
   "id": "ac6a5ac7-f541-4505-8c6d-a26c87a80511",
   "metadata": {},
   "source": [
    "### acoustic: off & hydro: on"
   ]
  },
  {
   "cell_type": "code",
   "execution_count": null,
   "id": "aa48d0f4-86b9-4ab2-9842-0d4f1879467f",
   "metadata": {},
   "outputs": [],
   "source": [
    "wall_up = 208\n",
    "wall_bottom = wall_up + 1124"
   ]
  },
  {
   "cell_type": "code",
   "execution_count": null,
   "id": "c569d808-75eb-4ab5-862e-d38b3784549f",
   "metadata": {},
   "outputs": [],
   "source": [
    "off_on_track, off_on_imsd = analysis(acoustic='off', hydro='on', measurement=1, bounds=(wall_up, wall_bottom))"
   ]
  },
  {
   "cell_type": "code",
   "execution_count": null,
   "id": "f837a311-9461-44c1-8976-c7f61949160f",
   "metadata": {},
   "outputs": [],
   "source": [
    "plt.figure(figsize=(20, 5))\n",
    "plt.ylim(0, 1124)\n",
    "tp.plot_traj(off_on_track)"
   ]
  },
  {
   "cell_type": "code",
   "execution_count": null,
   "id": "ccac4c24-51dd-472e-81ea-ca39994a68e3",
   "metadata": {
    "tags": []
   },
   "outputs": [],
   "source": [
    "off_on_imsd.to_csv(path_result+'id553_off_on_1_imsd.csv')\n",
    "with open(path_result+'id553_off_on_1_track.txt', 'wb') as f:\n",
    "    pickle.dump(off_on_track, f)"
   ]
  }
 ],
 "metadata": {
  "kernelspec": {
   "display_name": "Python 3 (ipykernel)",
   "language": "python",
   "name": "python3"
  },
  "language_info": {
   "codemirror_mode": {
    "name": "ipython",
    "version": 3
   },
   "file_extension": ".py",
   "mimetype": "text/x-python",
   "name": "python",
   "nbconvert_exporter": "python",
   "pygments_lexer": "ipython3",
   "version": "3.8.16"
  }
 },
 "nbformat": 4,
 "nbformat_minor": 5
}
