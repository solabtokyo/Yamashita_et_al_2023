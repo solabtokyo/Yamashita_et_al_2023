{
 "cells": [
  {
   "cell_type": "markdown",
   "id": "793837a4-7a8a-461e-b69f-23ced6d07c4a",
   "metadata": {},
   "source": [
    "# Reconstruct 3D image of suspended cells for Figure 4b\n",
    "Data: 3D bluechannel image of suspended MDCK"
   ]
  },
  {
   "cell_type": "markdown",
   "id": "bb747f1d-06ae-4846-918a-3c5e18913234",
   "metadata": {},
   "source": [
    "## Libraries"
   ]
  },
  {
   "cell_type": "code",
   "execution_count": 1,
   "id": "0560d23c-e12d-4ede-8588-2c4c6900204d",
   "metadata": {},
   "outputs": [],
   "source": [
    "import numpy as np\n",
    "import myfunctions as myfunc\n",
    "from astropy.io import fits\n",
    "from skimage.transform import rescale\n",
    "import matplotlib.pyplot as plt"
   ]
  },
  {
   "cell_type": "markdown",
   "id": "446b17bc-e6df-4f08-a800-bb17cfa397e0",
   "metadata": {},
   "source": [
    "## Functions"
   ]
  },
  {
   "cell_type": "code",
   "execution_count": null,
   "id": "851c6712-7d51-4c87-b72f-5ded65476e0a",
   "metadata": {},
   "outputs": [],
   "source": [
    "def reconstruction(data, suffix, raw, calib, result, wavelength,\n",
    "                   ex, bg, theta, pixelsize, mag, fps, v, F_indexmismatch, polarity, coeff_405,\n",
    "                   ex_bg_488=file_488_ex_bg, print_loop=False, kernel_movmean=10, shift1=(0, 0, 0), rescaling_factor=0.25):\n",
    "    '''\n",
    "    Reconstruct 3D image\n",
    "\n",
    "    data: data name of the input data\n",
    "    suffix: suffix of the data\n",
    "    raw: path of raw data\n",
    "    calib: path of calibration data\n",
    "    result: path of result\n",
    "    wavelength: wavelength of excitation (405, 488)\n",
    "    ex: excitation profile\n",
    "    bg: background profile\n",
    "    theta: angle of light sheet in water\n",
    "    pixelsize: pixel size of the image sensor in um\n",
    "    mag: magnification rate of imaging\n",
    "    fps: frame per second in Hz\n",
    "    v: scanning velocity in the flow direction in um/s\n",
    "    F_indexmismatch: axial elongation factor due to refractive-index mismatch of remote focusing\n",
    "    polarity: forward or reverse scanning direction\n",
    "    coeff_405: coefficient to calibrate aberration of blue channel image\n",
    "    ex_bg_488: background profile of 488 excitation\n",
    "    print_loop: whether to print loop counter\n",
    "    kernel_movmean: bin width to calculate background\n",
    "    shift1: shit of 405 image for spatial calibration\n",
    "    rescaling_factor: factor to rescale image\n",
    "    '''\n",
    "    if wavelength=='405':\n",
    "        for s in suffix:\n",
    "            print(s)\n",
    "            file = path_rawdata+data_name+s+'.fits'\n",
    "            img = fits.getdata(file)\n",
    "            (dim_flow, dim_height, dim_width) = img.shape\n",
    "\n",
    "            # prepare an array to store the reconstructed image\n",
    "            T, dim_height_recon, dim_flow_recon = myfunc.get_affine_parameters(theta,pixelsize,mag, fps, v, F_indexmismatch/coeff_405, polarity, dim_height, dim_flow)\n",
    "            img_stack = np.float32(np.transpose(img, [1,2,0]))\n",
    "            img_out = np.float32(np.zeros((dim_height_recon, dim_width, dim_flow_recon)))\n",
    "            print('initialized')\n",
    "\n",
    "            # calculate background and excitation profile\n",
    "            img_bg, img_ex =  myfunc.calc_bg_ex_profiles(calib+bg, calib+ex, calib+ex_bg_488, kernel_movmean)\n",
    "            \n",
    "            if polarity == 1:\n",
    "                img_stack = np.flip(img_stack, 0)\n",
    "\n",
    "            # calibrate the input image\n",
    "            myfunc.bg_ex_calib(img_stack, img_bg, img_ex, dim_flow, '405', print_loop)\n",
    "\n",
    "            # reconstruct\n",
    "            myfunc.affine_transform_3D(img_out, img_stack[:,:,0:dim_flow-1], T[:2], dim_width, dim_flow_recon, dim_height_recon, '405', print_loop)\n",
    "\n",
    "            # rescale the image\n",
    "            if rescaling_factor!=1:\n",
    "                img_out = rescale(img_out, rescaling_factor, anti_aliasing=True)\n",
    "\n",
    "            # spatially calibrate the image\n",
    "            img_out = np.roll(img_out, shift1, axis=(0,1,2))       \n",
    "            img_out = np.flip(img_out, axis=0)\n",
    "\n",
    "            np.save(f'{result}{data}{s}.npy', img_out)\n",
    "\n",
    "    if wavelength=='488':\n",
    "        for s in suffix:\n",
    "            print(s)\n",
    "            file = path_rawdata+data_name+s+'.fits'\n",
    "            img = fits.getdata(file)\n",
    "            (dim_flow, dim_height, dim_width) = img.shape\n",
    "            \n",
    "            T, dim_height_recon, dim_flow_recon = myfunc.get_affine_parameters(theta,pixelsize,mag, fps, v, F_indexmismatch, polarity, dim_height, dim_flow)\n",
    "            img_stack = np.float32(np.transpose(img, [1,2,0]))\n",
    "            img_out = np.float32(np.zeros((dim_height_recon, dim_width, dim_flow_recon)))\n",
    "            print('initialized')\n",
    "\n",
    "            img_bg, img_ex =  myfunc.calc_bg_ex_profiles(calib+bg, calib+ex, calib+ex_bg_488, kernel_movmean)\n",
    "            \n",
    "            if polarity == 1:\n",
    "                img_stack = np.flip(img_stack, 0)\n",
    "            \n",
    "            myfunc.bg_ex_calib(img_stack, img_bg, img_ex, dim_flow, '488', print_loop)\n",
    "            \n",
    "            myfunc.affine_transform_3D(img_out, img_stack[:,:,0:dim_flow-1], T[:2], dim_width, dim_flow_recon, dim_height_recon, '488', print_loop)\n",
    "            \n",
    "            if rescaling_factor!=1:\n",
    "                img_out = rescale(img_out, rescaling_factor, anti_aliasing=True)\n",
    "            \n",
    "            img_out = np.flip(img_out, axis=0)\n",
    "\n",
    "            np.save(f'{result}{data}{s}.npy', img_out)"
   ]
  },
  {
   "cell_type": "markdown",
   "id": "47bcc509-c3d4-4e56-96cc-8c0ff734dcd8",
   "metadata": {},
   "source": [
    "## Parameters"
   ]
  },
  {
   "cell_type": "code",
   "execution_count": null,
   "id": "95ae9f84-b527-4095-8aef-2b44d15e178d",
   "metadata": {},
   "outputs": [],
   "source": [
    "# acquisition parameters\n",
    "theta = np.arcsin(0.62/1.33)\n",
    "pixelsize = 6.5\n",
    "mag = 200/9\n",
    "fps = 300\n",
    "F_indexmismatch = 1.412\n",
    "polarity =  0\n",
    "coeff_405 = 0.994"
   ]
  },
  {
   "cell_type": "code",
   "execution_count": 1,
   "id": "a0bc8ce5-9cd4-4fc9-928b-78c545fab709",
   "metadata": {},
   "outputs": [],
   "source": [
    "# file names for calibrartion\n",
    "file_405_ex = 'ex_405.tif'\n",
    "file_488_ex = 'ex_488.tif'\n",
    "file_488_ex_bg = 'bg_1Hz_100average_488.tif'\n",
    "file_405_bg = 'bg_300Hz_100average_405.tif'\n",
    "file_488_bg = 'bg_300Hz_100average_488.tif'"
   ]
  },
  {
   "cell_type": "code",
   "execution_count": 3,
   "id": "e0ad863f-784a-4872-909d-40ffa0a5f915",
   "metadata": {},
   "outputs": [],
   "source": [
    "suffix = ['', '_X1', '_X2', '_X3', '_X4', '_X5']"
   ]
  },
  {
   "cell_type": "markdown",
   "id": "ac547ffc-f1ca-48eb-8797-a6ed83ddbc34",
   "metadata": {},
   "source": [
    "## Directories"
   ]
  },
  {
   "cell_type": "code",
   "execution_count": 2,
   "id": "9fdaaceb-eca0-456c-b129-330b22128535",
   "metadata": {},
   "outputs": [],
   "source": [
    "calib = '../data/3D/calib/'\n",
    "raw = '../data/3D/raw/'\n",
    "result = '../result/'"
   ]
  },
  {
   "cell_type": "markdown",
   "id": "ad117c57-28fa-4126-a395-d3f01834848e",
   "metadata": {},
   "source": [
    "## Analysis"
   ]
  },
  {
   "cell_type": "markdown",
   "id": "370fe647-b022-4a18-b04c-c0b2d340dd49",
   "metadata": {},
   "source": [
    "### Measurement 1"
   ]
  },
  {
   "cell_type": "code",
   "execution_count": null,
   "id": "b0981e75-4f1c-4944-a170-8fa91fb64a19",
   "metadata": {},
   "outputs": [],
   "source": [
    "file_405 = 'id551_MDCK_cellonly_01_300Hz_405_250mW_488_150mW_405'\n",
    "file_488 = 'id551_MDCK_cellonly_01_300Hz_405_250mW_488_150mW_488'"
   ]
  },
  {
   "cell_type": "code",
   "execution_count": 4,
   "id": "4a3a5c5b-01ef-411d-8c49-0e4d1ae5d941",
   "metadata": {},
   "outputs": [
    {
     "ename": "NameError",
     "evalue": "name 'fps' is not defined",
     "output_type": "error",
     "traceback": [
      "\u001b[0;31m---------------------------------------------------------------------------\u001b[0m",
      "\u001b[0;31mNameError\u001b[0m                                 Traceback (most recent call last)",
      "Cell \u001b[0;32mIn[4], line 3\u001b[0m\n\u001b[1;32m      1\u001b[0m \u001b[38;5;66;03m# velocity calculation\u001b[39;00m\n\u001b[1;32m      2\u001b[0m mean_aspect_ratio \u001b[38;5;241m=\u001b[39m \u001b[38;5;241m7.83\u001b[39m \u001b[38;5;66;03m# mean aspect ratio of beads\u001b[39;00m\n\u001b[0;32m----> 3\u001b[0m v \u001b[38;5;241m=\u001b[39m mean_aspect_ratio\u001b[38;5;241m*\u001b[39m\u001b[43mfps\u001b[49m\u001b[38;5;241m*\u001b[39m(pixelsize\u001b[38;5;241m/\u001b[39mmag)\n",
      "\u001b[0;31mNameError\u001b[0m: name 'fps' is not defined"
     ]
    }
   ],
   "source": [
    "# velocity calculation\n",
    "mean_aspect_ratio = 7.84 # mean aspect ratio of beads\n",
    "v = mean_aspect_ratio*fps*(pixelsize/mag)"
   ]
  },
  {
   "cell_type": "code",
   "execution_count": 8,
   "id": "b411b3bc-3828-43cd-a7d6-efe5b39223a9",
   "metadata": {},
   "outputs": [
    {
     "name": "stdout",
     "output_type": "stream",
     "text": [
      "\n",
      "initialized\n",
      "_X1\n",
      "initialized\n",
      "_X2\n",
      "initialized\n",
      "_X3\n",
      "initialized\n",
      "_X4\n",
      "initialized\n",
      "_X5\n",
      "initialized\n",
      "_X6\n",
      "initialized\n"
     ]
    }
   ],
   "source": [
    "reconstruction(data_name=file_405, suffix=suffix, wavelength='405', ex=file_405_ex, bg=file_405_bg, theta=theta,\n",
    "               pixelsize=pixelsize, mag=mag, fps=fps, v=v, F_indexmismatch=F_indexmismatch, polarity=polarity, coeff_405=coeff_405,\n",
    "               ex_bg_488=file_488_ex_bg, print_loop=False, kernel_movmean=10, shift1=(0, 0, 0), rescaling_factor=0.25)"
   ]
  }
 ],
 "metadata": {
  "kernelspec": {
   "display_name": "Python 3 (ipykernel)",
   "language": "python",
   "name": "python3"
  },
  "language_info": {
   "codemirror_mode": {
    "name": "ipython",
    "version": 3
   },
   "file_extension": ".py",
   "mimetype": "text/x-python",
   "name": "python",
   "nbconvert_exporter": "python",
   "pygments_lexer": "ipython3",
   "version": "3.8.16"
  }
 },
 "nbformat": 4,
 "nbformat_minor": 5
}
