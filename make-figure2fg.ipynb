{
 "cells": [
  {
   "cell_type": "markdown",
   "id": "09af9dfc-9ccd-4688-9586-285e85a76c6b",
   "metadata": {},
   "source": [
    "# Create figures using located tracks"
   ]
  },
  {
   "cell_type": "markdown",
   "id": "032062fe-5a29-413a-9fd7-0393e197b8e9",
   "metadata": {},
   "source": [
    "## Libraries"
   ]
  },
  {
   "cell_type": "code",
   "execution_count": null,
   "id": "83bfd6a5-5223-4b85-8923-3df5bf369a20",
   "metadata": {},
   "outputs": [],
   "source": [
    "import numpy as np\n",
    "import pandas as pd\n",
    "import pickle\n",
    "\n",
    "import matplotlib.pyplot as plt\n",
    "import seaborn as sns\n",
    "\n",
    "plt.rcParams['font.family'] = 'Helvetica'\n",
    "plt.rcParams[\"font.size\"] = 6"
   ]
  },
  {
   "cell_type": "markdown",
   "id": "d02702b5-6ddf-4f56-888c-13c2a5a94ee3",
   "metadata": {},
   "source": [
    "## Function"
   ]
  },
  {
   "cell_type": "code",
   "execution_count": null,
   "id": "6094d0a8-c3c5-4df7-96ec-5f9c9940856b",
   "metadata": {},
   "outputs": [],
   "source": [
    "def velocity(data):\n",
    "    '''\n",
    "    Calculate velocity from detected track\n",
    "    '''\n",
    "    res = np.sqrt(data)\n",
    "    res = res.diff()/(1/40)\n",
    "    res = res.mean()\n",
    "    \n",
    "    return res"
   ]
  },
  {
   "cell_type": "markdown",
   "id": "65ea3644-337d-42be-9e20-6d03e6fa3c22",
   "metadata": {},
   "source": [
    "## Analysis"
   ]
  },
  {
   "cell_type": "code",
   "execution_count": null,
   "id": "44047b87-e4f4-4e55-99e8-d123fac531e6",
   "metadata": {},
   "outputs": [],
   "source": [
    "path = '../result/'"
   ]
  },
  {
   "cell_type": "markdown",
   "id": "42f0f23f-0b8c-42d6-9ed6-dbcfcf584eb5",
   "metadata": {
    "tags": []
   },
   "source": [
    "### Velocity distributions along channel width"
   ]
  },
  {
   "cell_type": "code",
   "execution_count": null,
   "id": "5a0f5ab5-2936-4437-970b-10b92b0b7208",
   "metadata": {},
   "outputs": [],
   "source": [
    "with open(path+'id553_on_off_1_track.txt', 'rb') as p:\n",
    "    on_off_t = pickle.load(p)\n",
    "    \n",
    "with open(path+'id553_on_on_1_track.txt', 'rb') as p:\n",
    "    on_on_t = pickle.load(p)\n",
    "\n",
    "on_off_imsd = pd.read_csv(path+'id553_on_off_1_imsd.csv', index_col=0)\n",
    "on_on_imsd = pd.read_csv(path+'id553_on_on_1_imsd.csv', index_col=0)"
   ]
  },
  {
   "cell_type": "code",
   "execution_count": null,
   "id": "870163d0-a477-4bc5-a2e5-f5a4b2608cd1",
   "metadata": {},
   "outputs": [],
   "source": [
    "on_off_t = on_off_t.drop_duplicates(subset='particle')\n",
    "on_on_t = on_on_t.drop_duplicates(subset='particle')"
   ]
  },
  {
   "cell_type": "code",
   "execution_count": null,
   "id": "9187cdb0-ac38-4d80-b0b1-626ef267d027",
   "metadata": {},
   "outputs": [],
   "source": [
    "on_off_t"
   ]
  },
  {
   "cell_type": "code",
   "execution_count": null,
   "id": "841d4c00-9a1a-4869-9f6e-28ac94930324",
   "metadata": {},
   "outputs": [],
   "source": [
    "on_on_t"
   ]
  },
  {
   "cell_type": "code",
   "execution_count": null,
   "id": "8798e7ae-8d2d-4b1b-8167-fcfbd96425c9",
   "metadata": {},
   "outputs": [],
   "source": [
    "on_off_v = velocity(on_off_imsd)"
   ]
  },
  {
   "cell_type": "code",
   "execution_count": null,
   "id": "5ec1753a-6c23-4bbf-8f4b-5a8eecc36093",
   "metadata": {},
   "outputs": [],
   "source": [
    "on_off_v.describe()"
   ]
  },
  {
   "cell_type": "code",
   "execution_count": null,
   "id": "f5bb2cca-846c-46f7-9665-c896cd2961f2",
   "metadata": {},
   "outputs": [],
   "source": [
    "on_off_t['Velocity'] = on_off_v.values\n",
    "on_off_t['Hydrodynamic focusing'] = np.repeat('OFF', len(on_off_t))"
   ]
  },
  {
   "cell_type": "code",
   "execution_count": null,
   "id": "276fa726-a288-4dd1-a9dd-ca8b44c12dd9",
   "metadata": {},
   "outputs": [],
   "source": [
    "on_off_t"
   ]
  },
  {
   "cell_type": "code",
   "execution_count": null,
   "id": "9110c0b4-1de3-4245-91ff-07b49ec63d05",
   "metadata": {},
   "outputs": [],
   "source": [
    "on_on_v = velocity(on_on_imsd)"
   ]
  },
  {
   "cell_type": "code",
   "execution_count": null,
   "id": "98c22638-b36c-4d1c-9e60-fa1a015e1cfa",
   "metadata": {},
   "outputs": [],
   "source": [
    "on_on_t['Velocity'] = on_on_v.values\n",
    "on_on_t['Hydrodynamic focusing'] = np.repeat('ON', len(on_on_t))"
   ]
  },
  {
   "cell_type": "code",
   "execution_count": null,
   "id": "1510cc8c-1510-41a8-8abb-2560381e50c6",
   "metadata": {},
   "outputs": [],
   "source": [
    "on_on_t"
   ]
  },
  {
   "cell_type": "code",
   "execution_count": null,
   "id": "93b9b1b9-44f4-4664-89f4-6a90adf67dd5",
   "metadata": {},
   "outputs": [],
   "source": [
    "a_on_t = pd.concat([on_off_t, on_on_t])"
   ]
  },
  {
   "cell_type": "code",
   "execution_count": null,
   "id": "1753283a-fad2-41df-a492-d3bb7beef975",
   "metadata": {},
   "outputs": [],
   "source": [
    "a_on_t['y'] = a_on_t['y']/1.124"
   ]
  },
  {
   "cell_type": "code",
   "execution_count": null,
   "id": "519f4317-e15f-4d51-a7ff-77feec6cd2a8",
   "metadata": {},
   "outputs": [],
   "source": [
    "plt.figure(figsize=(1.41, 1.41))\n",
    "sns.scatterplot(data=a_on_t, x='Velocity', y='y', hue='Hydrodynamic focusing', alpha=0.8, s=5)\n",
    "plt.xlim(0, 800)\n",
    "plt.xlabel(r'Velocity  [$\\mu$$m$/$sec$]')\n",
    "plt.ylabel(r'Position  [$\\mu$$m$]')\n",
    "plt.legend(title='Hydrodynamic\\n     focusing', ncol=2, columnspacing=-0.2, markerscale=0.2, handletextpad=-0.5, loc='center left', borderaxespad=0.1, frameon=False)\n",
    "plt.savefig(path+'velocity_distribution_along_width_9sec.pdf', bbox_inches='tight', pad_inches=0.05)"
   ]
  },
  {
   "cell_type": "markdown",
   "id": "7fc26607-f94e-4a94-a6d8-2d8da00c7a27",
   "metadata": {},
   "source": [
    "### Compare four conditions"
   ]
  },
  {
   "cell_type": "code",
   "execution_count": null,
   "id": "6c60d9d4-56f1-4d7e-8076-c06be780dc73",
   "metadata": {
    "tags": []
   },
   "outputs": [],
   "source": [
    "off_off_imsd = pd.read_csv(path+'id553_off_off_1_imsd.csv', index_col=0)\n",
    "off_on_imsd = pd.read_csv(path+'id553_off_on_1_imsd.csv', index_col=0)\n",
    "on_off_imsd = pd.read_csv(path+'id553_on_off_1_imsd.csv', index_col=0)\n",
    "on_on_imsd = pd.read_csv(path+'id553_on_on_1_imsd.csv', index_col=0)"
   ]
  },
  {
   "cell_type": "code",
   "execution_count": null,
   "id": "d3bc1127-2f2c-41fb-a137-34ea8b9fc91f",
   "metadata": {},
   "outputs": [],
   "source": [
    "res_off_off = velocity(off_off_imsd)\n",
    "res_off_on = velocity(off_on_imsd)\n",
    "res_on_off = velocity(on_off_imsd)\n",
    "res_on_on = velocity(on_on_imsd)"
   ]
  },
  {
   "cell_type": "code",
   "execution_count": null,
   "id": "d2e49281-a444-4ccc-b6e2-ca4fcdc2dba8",
   "metadata": {},
   "outputs": [],
   "source": [
    "res = pd.DataFrame({'Velocity': pd.concat([res_off_off, res_off_on, res_on_off, res_on_on])})\n",
    "res['Focusing'] = np.concatenate([np.repeat('OFF & OFF', len(res_off_off)), np.repeat('OFF & ON', len(res_off_on)), \n",
    "                                 np.repeat('ON & OFF', len(res_on_off)), np.repeat('ON & ON', len(res_on_on))])"
   ]
  },
  {
   "cell_type": "code",
   "execution_count": null,
   "id": "12019f4d-4fea-4734-9f13-ce6bdaafd412",
   "metadata": {},
   "outputs": [],
   "source": [
    "res"
   ]
  },
  {
   "cell_type": "code",
   "execution_count": null,
   "id": "07803d99-ff5c-4ac7-a9eb-f4cd012e34ae",
   "metadata": {},
   "outputs": [],
   "source": [
    "plt.figure(figsize=(1.41, 1.41))\n",
    "sns.violinplot(data=res, y='Velocity', x='Focusing', linewidth=0.3)\n",
    "plt.ylim(0, 800)\n",
    "plt.xlabel('Condition\\n(Acousitic & Hydrodynamic)')\n",
    "plt.ylabel(r'Velocity  [$\\mu$$m$/$sec$]')\n",
    "plt.xticks(rotation=45)\n",
    "plt.savefig(path+'velocity_distribution_four_conditions_9sec.pdf', bbox_inches='tight', pad_inches=0.05)"
   ]
  },
  {
   "cell_type": "code",
   "execution_count": null,
   "id": "047ab2c4-fd32-445e-83cd-67603447b688",
   "metadata": {},
   "outputs": [],
   "source": [
    "res_mean = res.groupby(['Focusing']).mean()\n",
    "res_std = res.groupby(['Focusing']).std()\n",
    "\n",
    "# calculate coefficient of variation\n",
    "res_cv = res_std / res_mean"
   ]
  },
  {
   "cell_type": "code",
   "execution_count": null,
   "id": "e22d6746-1408-4180-ba53-a14b65ad2d47",
   "metadata": {},
   "outputs": [],
   "source": [
    "res_mean"
   ]
  },
  {
   "cell_type": "code",
   "execution_count": null,
   "id": "3f6e9157-3331-4352-8d75-35881575f06d",
   "metadata": {},
   "outputs": [],
   "source": [
    "res_std"
   ]
  },
  {
   "cell_type": "code",
   "execution_count": null,
   "id": "ab4ff1e7-4247-4284-991f-0327f6e928a6",
   "metadata": {
    "scrolled": true
   },
   "outputs": [],
   "source": [
    "res_cv"
   ]
  }
 ],
 "metadata": {
  "kernelspec": {
   "display_name": "Python 3 (ipykernel)",
   "language": "python",
   "name": "python3"
  },
  "language_info": {
   "codemirror_mode": {
    "name": "ipython",
    "version": 3
   },
   "file_extension": ".py",
   "mimetype": "text/x-python",
   "name": "python",
   "nbconvert_exporter": "python",
   "pygments_lexer": "ipython3",
   "version": "3.8.16"
  }
 },
 "nbformat": 4,
 "nbformat_minor": 5
}
